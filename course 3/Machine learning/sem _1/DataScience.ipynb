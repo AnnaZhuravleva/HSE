{
 "cells": [
  {
   "cell_type": "code",
   "execution_count": null,
   "metadata": {},
   "outputs": [],
   "source": [
    "#nikita270a@gmail.com"
   ]
  },
  {
   "cell_type": "code",
   "execution_count": 61,
   "metadata": {},
   "outputs": [],
   "source": [
    "import pandas as pd\n",
    "import numpy as np\n",
    "import matplotlib.pyplot as plt\n",
    "\n",
    "%matplotlib inline"
   ]
  },
  {
   "cell_type": "code",
   "execution_count": 17,
   "metadata": {},
   "outputs": [],
   "source": [
    "with open('C:/Users/qwe/Documents/HSE/Comp/ML/4 module/sem _1/communities.data', 'r') as inf:\n",
    "    res = inf.readlines()\n",
    "res = [x.replace('\\n', '') for x in res]\n",
    "res = [x.split(',') for x in res]"
   ]
  },
  {
   "cell_type": "code",
   "execution_count": 18,
   "metadata": {},
   "outputs": [],
   "source": [
    "head = '''@attribute state numeric \n",
    "@attribute county numeric \n",
    "@attribute community numeric \n",
    "@attribute communityname string \n",
    "@attribute fold numeric \n",
    "@attribute population numeric \n",
    "@attribute householdsize numeric \n",
    "@attribute racepctblack numeric \n",
    "@attribute racePctWhite numeric \n",
    "@attribute racePctAsian numeric \n",
    "@attribute racePctHisp numeric \n",
    "@attribute agePct12t21 numeric \n",
    "@attribute agePct12t29 numeric \n",
    "@attribute agePct16t24 numeric \n",
    "@attribute agePct65up numeric \n",
    "@attribute numbUrban numeric \n",
    "@attribute pctUrban numeric \n",
    "@attribute medIncome numeric \n",
    "@attribute pctWWage numeric \n",
    "@attribute pctWFarmSelf numeric \n",
    "@attribute pctWInvInc numeric \n",
    "@attribute pctWSocSec numeric \n",
    "@attribute pctWPubAsst numeric \n",
    "@attribute pctWRetire numeric \n",
    "@attribute medFamInc numeric \n",
    "@attribute perCapInc numeric \n",
    "@attribute whitePerCap numeric \n",
    "@attribute blackPerCap numeric \n",
    "@attribute indianPerCap numeric \n",
    "@attribute AsianPerCap numeric \n",
    "@attribute OtherPerCap numeric \n",
    "@attribute HispPerCap numeric \n",
    "@attribute NumUnderPov numeric \n",
    "@attribute PctPopUnderPov numeric \n",
    "@attribute PctLess9thGrade numeric \n",
    "@attribute PctNotHSGrad numeric \n",
    "@attribute PctBSorMore numeric \n",
    "@attribute PctUnemployed numeric \n",
    "@attribute PctEmploy numeric \n",
    "@attribute PctEmplManu numeric \n",
    "@attribute PctEmplProfServ numeric \n",
    "@attribute PctOccupManu numeric \n",
    "@attribute PctOccupMgmtProf numeric \n",
    "@attribute MalePctDivorce numeric \n",
    "@attribute MalePctNevMarr numeric \n",
    "@attribute FemalePctDiv numeric \n",
    "@attribute TotalPctDiv numeric \n",
    "@attribute PersPerFam numeric \n",
    "@attribute PctFam2Par numeric \n",
    "@attribute PctKids2Par numeric \n",
    "@attribute PctYoungKids2Par numeric \n",
    "@attribute PctTeen2Par numeric \n",
    "@attribute PctWorkMomYoungKids numeric \n",
    "@attribute PctWorkMom numeric \n",
    "@attribute NumIlleg numeric \n",
    "@attribute PctIlleg numeric \n",
    "@attribute NumImmig numeric \n",
    "@attribute PctImmigRecent numeric \n",
    "@attribute PctImmigRec5 numeric \n",
    "@attribute PctImmigRec8 numeric \n",
    "@attribute PctImmigRec10 numeric \n",
    "@attribute PctRecentImmig numeric \n",
    "@attribute PctRecImmig5 numeric \n",
    "@attribute PctRecImmig8 numeric \n",
    "@attribute PctRecImmig10 numeric \n",
    "@attribute PctSpeakEnglOnly numeric \n",
    "@attribute PctNotSpeakEnglWell numeric \n",
    "@attribute PctLargHouseFam numeric \n",
    "@attribute PctLargHouseOccup numeric \n",
    "@attribute PersPerOccupHous numeric \n",
    "@attribute PersPerOwnOccHous numeric \n",
    "@attribute PersPerRentOccHous numeric \n",
    "@attribute PctPersOwnOccup numeric \n",
    "@attribute PctPersDenseHous numeric \n",
    "@attribute PctHousLess3BR numeric \n",
    "@attribute MedNumBR numeric \n",
    "@attribute HousVacant numeric \n",
    "@attribute PctHousOccup numeric \n",
    "@attribute PctHousOwnOcc numeric \n",
    "@attribute PctVacantBoarded numeric \n",
    "@attribute PctVacMore6Mos numeric \n",
    "@attribute MedYrHousBuilt numeric \n",
    "@attribute PctHousNoPhone numeric \n",
    "@attribute PctWOFullPlumb numeric \n",
    "@attribute OwnOccLowQuart numeric \n",
    "@attribute OwnOccMedVal numeric \n",
    "@attribute OwnOccHiQuart numeric \n",
    "@attribute RentLowQ numeric \n",
    "@attribute RentMedian numeric \n",
    "@attribute RentHighQ numeric \n",
    "@attribute MedRent numeric \n",
    "@attribute MedRentPctHousInc numeric \n",
    "@attribute MedOwnCostPctInc numeric \n",
    "@attribute MedOwnCostPctIncNoMtg numeric \n",
    "@attribute NumInShelters numeric \n",
    "@attribute NumStreet numeric \n",
    "@attribute PctForeignBorn numeric \n",
    "@attribute PctBornSameState numeric \n",
    "@attribute PctSameHouse85 numeric \n",
    "@attribute PctSameCity85 numeric \n",
    "@attribute PctSameState85 numeric \n",
    "@attribute LemasSwornFT numeric \n",
    "@attribute LemasSwFTPerPop numeric \n",
    "@attribute LemasSwFTFieldOps numeric \n",
    "@attribute LemasSwFTFieldPerPop numeric \n",
    "@attribute LemasTotalReq numeric \n",
    "@attribute LemasTotReqPerPop numeric \n",
    "@attribute PolicReqPerOffic numeric \n",
    "@attribute PolicPerPop numeric \n",
    "@attribute RacialMatchCommPol numeric \n",
    "@attribute PctPolicWhite numeric \n",
    "@attribute PctPolicBlack numeric \n",
    "@attribute PctPolicHisp numeric \n",
    "@attribute PctPolicAsian numeric \n",
    "@attribute PctPolicMinor numeric \n",
    "@attribute OfficAssgnDrugUnits numeric \n",
    "@attribute NumKindsDrugsSeiz numeric \n",
    "@attribute PolicAveOTWorked numeric \n",
    "@attribute LandArea numeric \n",
    "@attribute PopDens numeric \n",
    "@attribute PctUsePubTrans numeric \n",
    "@attribute PolicCars numeric \n",
    "@attribute PolicOperBudg numeric \n",
    "@attribute LemasPctPolicOnPatr numeric \n",
    "@attribute LemasGangUnitDeploy numeric \n",
    "@attribute LemasPctOfficDrugUn numeric \n",
    "@attribute PolicBudgPerPop numeric \n",
    "@attribute ViolentCrimesPerPop numeric'''"
   ]
  },
  {
   "cell_type": "code",
   "execution_count": 19,
   "metadata": {},
   "outputs": [],
   "source": [
    "goal = '@attribute ViolentCrimesPerPop numeric'"
   ]
  },
  {
   "cell_type": "code",
   "execution_count": 20,
   "metadata": {
    "scrolled": true
   },
   "outputs": [],
   "source": [
    "data = pd.DataFrame(res, columns=head.split('\\n'))"
   ]
  },
  {
   "cell_type": "code",
   "execution_count": 21,
   "metadata": {
    "scrolled": false
   },
   "outputs": [
    {
     "data": {
      "text/html": [
       "<div>\n",
       "<style scoped>\n",
       "    .dataframe tbody tr th:only-of-type {\n",
       "        vertical-align: middle;\n",
       "    }\n",
       "\n",
       "    .dataframe tbody tr th {\n",
       "        vertical-align: top;\n",
       "    }\n",
       "\n",
       "    .dataframe thead th {\n",
       "        text-align: right;\n",
       "    }\n",
       "</style>\n",
       "<table border=\"1\" class=\"dataframe\">\n",
       "  <thead>\n",
       "    <tr style=\"text-align: right;\">\n",
       "      <th></th>\n",
       "      <th>@attribute state numeric</th>\n",
       "      <th>@attribute county numeric</th>\n",
       "      <th>@attribute community numeric</th>\n",
       "      <th>@attribute communityname string</th>\n",
       "      <th>@attribute fold numeric</th>\n",
       "      <th>@attribute population numeric</th>\n",
       "      <th>@attribute householdsize numeric</th>\n",
       "      <th>@attribute racepctblack numeric</th>\n",
       "      <th>@attribute racePctWhite numeric</th>\n",
       "      <th>@attribute racePctAsian numeric</th>\n",
       "      <th>...</th>\n",
       "      <th>@attribute LandArea numeric</th>\n",
       "      <th>@attribute PopDens numeric</th>\n",
       "      <th>@attribute PctUsePubTrans numeric</th>\n",
       "      <th>@attribute PolicCars numeric</th>\n",
       "      <th>@attribute PolicOperBudg numeric</th>\n",
       "      <th>@attribute LemasPctPolicOnPatr numeric</th>\n",
       "      <th>@attribute LemasGangUnitDeploy numeric</th>\n",
       "      <th>@attribute LemasPctOfficDrugUn numeric</th>\n",
       "      <th>@attribute PolicBudgPerPop numeric</th>\n",
       "      <th>@attribute ViolentCrimesPerPop numeric</th>\n",
       "    </tr>\n",
       "  </thead>\n",
       "  <tbody>\n",
       "    <tr>\n",
       "      <th>0</th>\n",
       "      <td>8</td>\n",
       "      <td>?</td>\n",
       "      <td>?</td>\n",
       "      <td>Lakewoodcity</td>\n",
       "      <td>1</td>\n",
       "      <td>0.19</td>\n",
       "      <td>0.33</td>\n",
       "      <td>0.02</td>\n",
       "      <td>0.9</td>\n",
       "      <td>0.12</td>\n",
       "      <td>...</td>\n",
       "      <td>0.12</td>\n",
       "      <td>0.26</td>\n",
       "      <td>0.2</td>\n",
       "      <td>0.06</td>\n",
       "      <td>0.04</td>\n",
       "      <td>0.9</td>\n",
       "      <td>0.5</td>\n",
       "      <td>0.32</td>\n",
       "      <td>0.14</td>\n",
       "      <td>0.2</td>\n",
       "    </tr>\n",
       "    <tr>\n",
       "      <th>1</th>\n",
       "      <td>53</td>\n",
       "      <td>?</td>\n",
       "      <td>?</td>\n",
       "      <td>Tukwilacity</td>\n",
       "      <td>1</td>\n",
       "      <td>0</td>\n",
       "      <td>0.16</td>\n",
       "      <td>0.12</td>\n",
       "      <td>0.74</td>\n",
       "      <td>0.45</td>\n",
       "      <td>...</td>\n",
       "      <td>0.02</td>\n",
       "      <td>0.12</td>\n",
       "      <td>0.45</td>\n",
       "      <td>?</td>\n",
       "      <td>?</td>\n",
       "      <td>?</td>\n",
       "      <td>?</td>\n",
       "      <td>0</td>\n",
       "      <td>?</td>\n",
       "      <td>0.67</td>\n",
       "    </tr>\n",
       "    <tr>\n",
       "      <th>2</th>\n",
       "      <td>24</td>\n",
       "      <td>?</td>\n",
       "      <td>?</td>\n",
       "      <td>Aberdeentown</td>\n",
       "      <td>1</td>\n",
       "      <td>0</td>\n",
       "      <td>0.42</td>\n",
       "      <td>0.49</td>\n",
       "      <td>0.56</td>\n",
       "      <td>0.17</td>\n",
       "      <td>...</td>\n",
       "      <td>0.01</td>\n",
       "      <td>0.21</td>\n",
       "      <td>0.02</td>\n",
       "      <td>?</td>\n",
       "      <td>?</td>\n",
       "      <td>?</td>\n",
       "      <td>?</td>\n",
       "      <td>0</td>\n",
       "      <td>?</td>\n",
       "      <td>0.43</td>\n",
       "    </tr>\n",
       "    <tr>\n",
       "      <th>3</th>\n",
       "      <td>34</td>\n",
       "      <td>5</td>\n",
       "      <td>81440</td>\n",
       "      <td>Willingborotownship</td>\n",
       "      <td>1</td>\n",
       "      <td>0.04</td>\n",
       "      <td>0.77</td>\n",
       "      <td>1</td>\n",
       "      <td>0.08</td>\n",
       "      <td>0.12</td>\n",
       "      <td>...</td>\n",
       "      <td>0.02</td>\n",
       "      <td>0.39</td>\n",
       "      <td>0.28</td>\n",
       "      <td>?</td>\n",
       "      <td>?</td>\n",
       "      <td>?</td>\n",
       "      <td>?</td>\n",
       "      <td>0</td>\n",
       "      <td>?</td>\n",
       "      <td>0.12</td>\n",
       "    </tr>\n",
       "    <tr>\n",
       "      <th>4</th>\n",
       "      <td>42</td>\n",
       "      <td>95</td>\n",
       "      <td>6096</td>\n",
       "      <td>Bethlehemtownship</td>\n",
       "      <td>1</td>\n",
       "      <td>0.01</td>\n",
       "      <td>0.55</td>\n",
       "      <td>0.02</td>\n",
       "      <td>0.95</td>\n",
       "      <td>0.09</td>\n",
       "      <td>...</td>\n",
       "      <td>0.04</td>\n",
       "      <td>0.09</td>\n",
       "      <td>0.02</td>\n",
       "      <td>?</td>\n",
       "      <td>?</td>\n",
       "      <td>?</td>\n",
       "      <td>?</td>\n",
       "      <td>0</td>\n",
       "      <td>?</td>\n",
       "      <td>0.03</td>\n",
       "    </tr>\n",
       "  </tbody>\n",
       "</table>\n",
       "<p>5 rows × 128 columns</p>\n",
       "</div>"
      ],
      "text/plain": [
       "  @attribute state numeric  @attribute county numeric   \\\n",
       "0                         8                          ?   \n",
       "1                        53                          ?   \n",
       "2                        24                          ?   \n",
       "3                        34                          5   \n",
       "4                        42                         95   \n",
       "\n",
       "  @attribute community numeric  @attribute communityname string   \\\n",
       "0                             ?                     Lakewoodcity   \n",
       "1                             ?                      Tukwilacity   \n",
       "2                             ?                     Aberdeentown   \n",
       "3                         81440              Willingborotownship   \n",
       "4                          6096                Bethlehemtownship   \n",
       "\n",
       "  @attribute fold numeric  @attribute population numeric   \\\n",
       "0                        1                           0.19   \n",
       "1                        1                              0   \n",
       "2                        1                              0   \n",
       "3                        1                           0.04   \n",
       "4                        1                           0.01   \n",
       "\n",
       "  @attribute householdsize numeric  @attribute racepctblack numeric   \\\n",
       "0                              0.33                             0.02   \n",
       "1                              0.16                             0.12   \n",
       "2                              0.42                             0.49   \n",
       "3                              0.77                                1   \n",
       "4                              0.55                             0.02   \n",
       "\n",
       "  @attribute racePctWhite numeric  @attribute racePctAsian numeric   \\\n",
       "0                              0.9                             0.12   \n",
       "1                             0.74                             0.45   \n",
       "2                             0.56                             0.17   \n",
       "3                             0.08                             0.12   \n",
       "4                             0.95                             0.09   \n",
       "\n",
       "                   ...                   @attribute LandArea numeric   \\\n",
       "0                  ...                                           0.12   \n",
       "1                  ...                                           0.02   \n",
       "2                  ...                                           0.01   \n",
       "3                  ...                                           0.02   \n",
       "4                  ...                                           0.04   \n",
       "\n",
       "  @attribute PopDens numeric  @attribute PctUsePubTrans numeric   \\\n",
       "0                        0.26                                0.2   \n",
       "1                        0.12                               0.45   \n",
       "2                        0.21                               0.02   \n",
       "3                        0.39                               0.28   \n",
       "4                        0.09                               0.02   \n",
       "\n",
       "  @attribute PolicCars numeric  @attribute PolicOperBudg numeric   \\\n",
       "0                          0.06                              0.04   \n",
       "1                             ?                                 ?   \n",
       "2                             ?                                 ?   \n",
       "3                             ?                                 ?   \n",
       "4                             ?                                 ?   \n",
       "\n",
       "  @attribute LemasPctPolicOnPatr numeric   \\\n",
       "0                                     0.9   \n",
       "1                                       ?   \n",
       "2                                       ?   \n",
       "3                                       ?   \n",
       "4                                       ?   \n",
       "\n",
       "  @attribute LemasGangUnitDeploy numeric   \\\n",
       "0                                     0.5   \n",
       "1                                       ?   \n",
       "2                                       ?   \n",
       "3                                       ?   \n",
       "4                                       ?   \n",
       "\n",
       "  @attribute LemasPctOfficDrugUn numeric  @attribute PolicBudgPerPop numeric   \\\n",
       "0                                    0.32                                0.14   \n",
       "1                                       0                                   ?   \n",
       "2                                       0                                   ?   \n",
       "3                                       0                                   ?   \n",
       "4                                       0                                   ?   \n",
       "\n",
       "  @attribute ViolentCrimesPerPop numeric  \n",
       "0                                    0.2  \n",
       "1                                   0.67  \n",
       "2                                   0.43  \n",
       "3                                   0.12  \n",
       "4                                   0.03  \n",
       "\n",
       "[5 rows x 128 columns]"
      ]
     },
     "execution_count": 21,
     "metadata": {},
     "output_type": "execute_result"
    }
   ],
   "source": [
    "data.head()"
   ]
  },
  {
   "cell_type": "code",
   "execution_count": 22,
   "metadata": {},
   "outputs": [],
   "source": [
    "data = data.applymap(lambda x: x.replace('?', 'NaN'))"
   ]
  },
  {
   "cell_type": "code",
   "execution_count": 15,
   "metadata": {},
   "outputs": [
    {
     "data": {
      "text/plain": [
       "nan"
      ]
     },
     "execution_count": 15,
     "metadata": {},
     "output_type": "execute_result"
    }
   ],
   "source": [
    "float('NaN')"
   ]
  },
  {
   "cell_type": "code",
   "execution_count": 23,
   "metadata": {},
   "outputs": [],
   "source": [
    "def my_transfer(x):\n",
    "    if x == '?':\n",
    "        return np.nan\n",
    "    try:\n",
    "        return float(x)\n",
    "    except:\n",
    "        return x"
   ]
  },
  {
   "cell_type": "code",
   "execution_count": 24,
   "metadata": {},
   "outputs": [],
   "source": [
    "data = data.applymap(my_transfer)"
   ]
  },
  {
   "cell_type": "markdown",
   "metadata": {},
   "source": [
    "Заполнить пропуски в данных самыми частыми значениями в колонке для категориальных переменных и средним арифметическим для численных"
   ]
  },
  {
   "cell_type": "code",
   "execution_count": 28,
   "metadata": {},
   "outputs": [
    {
     "data": {
      "text/plain": [
       "@attribute state numeric                      46\n",
       "@attribute county numeric                    108\n",
       "@attribute community numeric                 799\n",
       "@attribute communityname string             1828\n",
       "@attribute fold numeric                       10\n",
       "@attribute population numeric                 66\n",
       "@attribute householdsize numeric              93\n",
       "@attribute racepctblack numeric              100\n",
       "@attribute racePctWhite numeric               99\n",
       "@attribute racePctAsian numeric               91\n",
       "@attribute racePctHisp numeric                91\n",
       "@attribute agePct12t21 numeric                93\n",
       "@attribute agePct12t29 numeric                89\n",
       "@attribute agePct16t24 numeric                94\n",
       "@attribute agePct65up numeric                 98\n",
       "@attribute numbUrban numeric                  67\n",
       "@attribute pctUrban numeric                   64\n",
       "@attribute medIncome numeric                  99\n",
       "@attribute pctWWage numeric                   96\n",
       "@attribute pctWFarmSelf numeric               99\n",
       "@attribute pctWInvInc numeric                 96\n",
       "@attribute pctWSocSec numeric                 96\n",
       "@attribute pctWPubAsst numeric               101\n",
       "@attribute pctWRetire numeric                 93\n",
       "@attribute medFamInc numeric                  98\n",
       "@attribute perCapInc numeric                  98\n",
       "@attribute whitePerCap numeric               101\n",
       "@attribute blackPerCap numeric                91\n",
       "@attribute indianPerCap numeric               86\n",
       "@attribute AsianPerCap numeric                98\n",
       "                                            ... \n",
       "@attribute PctSameHouse85 numeric             99\n",
       "@attribute PctSameCity85 numeric             100\n",
       "@attribute PctSameState85 numeric             97\n",
       "@attribute LemasSwornFT numeric               38\n",
       "@attribute LemasSwFTPerPop numeric            52\n",
       "@attribute LemasSwFTFieldOps numeric          34\n",
       "@attribute LemasSwFTFieldPerPop numeric       55\n",
       "@attribute LemasTotalReq numeric              44\n",
       "@attribute LemasTotReqPerPop numeric          59\n",
       "@attribute PolicReqPerOffic numeric           75\n",
       "@attribute PolicPerPop numeric                52\n",
       "@attribute RacialMatchCommPol numeric         76\n",
       "@attribute PctPolicWhite numeric              74\n",
       "@attribute PctPolicBlack numeric              73\n",
       "@attribute PctPolicHisp numeric               54\n",
       "@attribute PctPolicAsian numeric              50\n",
       "@attribute PctPolicMinor numeric              72\n",
       "@attribute OfficAssgnDrugUnits numeric        30\n",
       "@attribute NumKindsDrugsSeiz numeric          15\n",
       "@attribute PolicAveOTWorked numeric           77\n",
       "@attribute LandArea numeric                   61\n",
       "@attribute PopDens numeric                    96\n",
       "@attribute PctUsePubTrans numeric             98\n",
       "@attribute PolicCars numeric                  63\n",
       "@attribute PolicOperBudg numeric              38\n",
       "@attribute LemasPctPolicOnPatr numeric        72\n",
       "@attribute LemasGangUnitDeploy numeric         3\n",
       "@attribute LemasPctOfficDrugUn numeric        80\n",
       "@attribute PolicBudgPerPop numeric            51\n",
       "@attribute ViolentCrimesPerPop numeric        98\n",
       "Length: 128, dtype: int64"
      ]
     },
     "execution_count": 28,
     "metadata": {},
     "output_type": "execute_result"
    }
   ],
   "source": [
    "data.head()\n",
    "data.nunique()"
   ]
  },
  {
   "cell_type": "code",
   "execution_count": 36,
   "metadata": {},
   "outputs": [
    {
     "data": {
      "text/plain": [
       "1994"
      ]
     },
     "execution_count": 36,
     "metadata": {},
     "output_type": "execute_result"
    }
   ],
   "source": [
    "len(data)"
   ]
  },
  {
   "cell_type": "code",
   "execution_count": 38,
   "metadata": {},
   "outputs": [
    {
     "data": {
      "text/plain": [
       "0.2847415955845459"
      ]
     },
     "execution_count": 38,
     "metadata": {},
     "output_type": "execute_result"
    }
   ],
   "source": [
    "data['@attribute OtherPerCap numeric '].mean()"
   ]
  },
  {
   "cell_type": "code",
   "execution_count": 44,
   "metadata": {},
   "outputs": [
    {
     "data": {
      "text/plain": [
       "@attribute OtherPerCap numeric     1\n",
       "dtype: int64"
      ]
     },
     "execution_count": 44,
     "metadata": {},
     "output_type": "execute_result"
    }
   ],
   "source": [
    "iszero = data.isnull().sum()\n",
    "missing = iszero[iszero > 0]\n",
    "todrop = missing[missing > 1000]\n",
    "toremain = missing[missing < 1000]\n",
    "data[list(set(data.columns) - set(todrop.index))]\n",
    "data[toremain.index].isnull().sum()"
   ]
  },
  {
   "cell_type": "code",
   "execution_count": 122,
   "metadata": {},
   "outputs": [],
   "source": [
    "data['@attribute OtherPerCap numeric '] = data['@attribute OtherPerCap numeric '].fillna(value = data['@attribute OtherPerCap numeric '].mean() )"
   ]
  },
  {
   "cell_type": "code",
   "execution_count": 57,
   "metadata": {},
   "outputs": [
    {
     "data": {
      "text/html": [
       "<div>\n",
       "<style scoped>\n",
       "    .dataframe tbody tr th:only-of-type {\n",
       "        vertical-align: middle;\n",
       "    }\n",
       "\n",
       "    .dataframe tbody tr th {\n",
       "        vertical-align: top;\n",
       "    }\n",
       "\n",
       "    .dataframe thead th {\n",
       "        text-align: right;\n",
       "    }\n",
       "</style>\n",
       "<table border=\"1\" class=\"dataframe\">\n",
       "  <thead>\n",
       "    <tr style=\"text-align: right;\">\n",
       "      <th></th>\n",
       "      <th>@attribute state numeric</th>\n",
       "      <th>@attribute county numeric</th>\n",
       "      <th>@attribute community numeric</th>\n",
       "      <th>@attribute communityname string</th>\n",
       "      <th>@attribute fold numeric</th>\n",
       "      <th>@attribute population numeric</th>\n",
       "      <th>@attribute householdsize numeric</th>\n",
       "      <th>@attribute racepctblack numeric</th>\n",
       "      <th>@attribute racePctWhite numeric</th>\n",
       "      <th>@attribute racePctAsian numeric</th>\n",
       "      <th>...</th>\n",
       "      <th>@attribute LandArea numeric</th>\n",
       "      <th>@attribute PopDens numeric</th>\n",
       "      <th>@attribute PctUsePubTrans numeric</th>\n",
       "      <th>@attribute PolicCars numeric</th>\n",
       "      <th>@attribute PolicOperBudg numeric</th>\n",
       "      <th>@attribute LemasPctPolicOnPatr numeric</th>\n",
       "      <th>@attribute LemasGangUnitDeploy numeric</th>\n",
       "      <th>@attribute LemasPctOfficDrugUn numeric</th>\n",
       "      <th>@attribute PolicBudgPerPop numeric</th>\n",
       "      <th>@attribute ViolentCrimesPerPop numeric</th>\n",
       "    </tr>\n",
       "  </thead>\n",
       "  <tbody>\n",
       "    <tr>\n",
       "      <th>0</th>\n",
       "      <td>8.0</td>\n",
       "      <td>NaN</td>\n",
       "      <td>NaN</td>\n",
       "      <td>Lakewoodcity</td>\n",
       "      <td>1.0</td>\n",
       "      <td>0.19</td>\n",
       "      <td>0.33</td>\n",
       "      <td>0.02</td>\n",
       "      <td>0.90</td>\n",
       "      <td>0.12</td>\n",
       "      <td>...</td>\n",
       "      <td>0.12</td>\n",
       "      <td>0.26</td>\n",
       "      <td>0.20</td>\n",
       "      <td>0.06</td>\n",
       "      <td>0.04</td>\n",
       "      <td>0.9</td>\n",
       "      <td>0.5</td>\n",
       "      <td>0.32</td>\n",
       "      <td>0.14</td>\n",
       "      <td>0.20</td>\n",
       "    </tr>\n",
       "    <tr>\n",
       "      <th>1</th>\n",
       "      <td>53.0</td>\n",
       "      <td>NaN</td>\n",
       "      <td>NaN</td>\n",
       "      <td>Tukwilacity</td>\n",
       "      <td>1.0</td>\n",
       "      <td>0.00</td>\n",
       "      <td>0.16</td>\n",
       "      <td>0.12</td>\n",
       "      <td>0.74</td>\n",
       "      <td>0.45</td>\n",
       "      <td>...</td>\n",
       "      <td>0.02</td>\n",
       "      <td>0.12</td>\n",
       "      <td>0.45</td>\n",
       "      <td>NaN</td>\n",
       "      <td>NaN</td>\n",
       "      <td>NaN</td>\n",
       "      <td>NaN</td>\n",
       "      <td>0.00</td>\n",
       "      <td>NaN</td>\n",
       "      <td>0.67</td>\n",
       "    </tr>\n",
       "    <tr>\n",
       "      <th>2</th>\n",
       "      <td>24.0</td>\n",
       "      <td>NaN</td>\n",
       "      <td>NaN</td>\n",
       "      <td>Aberdeentown</td>\n",
       "      <td>1.0</td>\n",
       "      <td>0.00</td>\n",
       "      <td>0.42</td>\n",
       "      <td>0.49</td>\n",
       "      <td>0.56</td>\n",
       "      <td>0.17</td>\n",
       "      <td>...</td>\n",
       "      <td>0.01</td>\n",
       "      <td>0.21</td>\n",
       "      <td>0.02</td>\n",
       "      <td>NaN</td>\n",
       "      <td>NaN</td>\n",
       "      <td>NaN</td>\n",
       "      <td>NaN</td>\n",
       "      <td>0.00</td>\n",
       "      <td>NaN</td>\n",
       "      <td>0.43</td>\n",
       "    </tr>\n",
       "    <tr>\n",
       "      <th>3</th>\n",
       "      <td>34.0</td>\n",
       "      <td>5.0</td>\n",
       "      <td>81440.0</td>\n",
       "      <td>Willingborotownship</td>\n",
       "      <td>1.0</td>\n",
       "      <td>0.04</td>\n",
       "      <td>0.77</td>\n",
       "      <td>1.00</td>\n",
       "      <td>0.08</td>\n",
       "      <td>0.12</td>\n",
       "      <td>...</td>\n",
       "      <td>0.02</td>\n",
       "      <td>0.39</td>\n",
       "      <td>0.28</td>\n",
       "      <td>NaN</td>\n",
       "      <td>NaN</td>\n",
       "      <td>NaN</td>\n",
       "      <td>NaN</td>\n",
       "      <td>0.00</td>\n",
       "      <td>NaN</td>\n",
       "      <td>0.12</td>\n",
       "    </tr>\n",
       "    <tr>\n",
       "      <th>4</th>\n",
       "      <td>42.0</td>\n",
       "      <td>95.0</td>\n",
       "      <td>6096.0</td>\n",
       "      <td>Bethlehemtownship</td>\n",
       "      <td>1.0</td>\n",
       "      <td>0.01</td>\n",
       "      <td>0.55</td>\n",
       "      <td>0.02</td>\n",
       "      <td>0.95</td>\n",
       "      <td>0.09</td>\n",
       "      <td>...</td>\n",
       "      <td>0.04</td>\n",
       "      <td>0.09</td>\n",
       "      <td>0.02</td>\n",
       "      <td>NaN</td>\n",
       "      <td>NaN</td>\n",
       "      <td>NaN</td>\n",
       "      <td>NaN</td>\n",
       "      <td>0.00</td>\n",
       "      <td>NaN</td>\n",
       "      <td>0.03</td>\n",
       "    </tr>\n",
       "  </tbody>\n",
       "</table>\n",
       "<p>5 rows × 128 columns</p>\n",
       "</div>"
      ],
      "text/plain": [
       "   @attribute state numeric   @attribute county numeric   \\\n",
       "0                        8.0                         NaN   \n",
       "1                       53.0                         NaN   \n",
       "2                       24.0                         NaN   \n",
       "3                       34.0                         5.0   \n",
       "4                       42.0                        95.0   \n",
       "\n",
       "   @attribute community numeric  @attribute communityname string   \\\n",
       "0                            NaN                     Lakewoodcity   \n",
       "1                            NaN                      Tukwilacity   \n",
       "2                            NaN                     Aberdeentown   \n",
       "3                        81440.0              Willingborotownship   \n",
       "4                         6096.0                Bethlehemtownship   \n",
       "\n",
       "   @attribute fold numeric   @attribute population numeric   \\\n",
       "0                       1.0                            0.19   \n",
       "1                       1.0                            0.00   \n",
       "2                       1.0                            0.00   \n",
       "3                       1.0                            0.04   \n",
       "4                       1.0                            0.01   \n",
       "\n",
       "   @attribute householdsize numeric   @attribute racepctblack numeric   \\\n",
       "0                               0.33                              0.02   \n",
       "1                               0.16                              0.12   \n",
       "2                               0.42                              0.49   \n",
       "3                               0.77                              1.00   \n",
       "4                               0.55                              0.02   \n",
       "\n",
       "   @attribute racePctWhite numeric   @attribute racePctAsian numeric   \\\n",
       "0                              0.90                              0.12   \n",
       "1                              0.74                              0.45   \n",
       "2                              0.56                              0.17   \n",
       "3                              0.08                              0.12   \n",
       "4                              0.95                              0.09   \n",
       "\n",
       "                    ...                    @attribute LandArea numeric   \\\n",
       "0                   ...                                            0.12   \n",
       "1                   ...                                            0.02   \n",
       "2                   ...                                            0.01   \n",
       "3                   ...                                            0.02   \n",
       "4                   ...                                            0.04   \n",
       "\n",
       "   @attribute PopDens numeric   @attribute PctUsePubTrans numeric   \\\n",
       "0                         0.26                                0.20   \n",
       "1                         0.12                                0.45   \n",
       "2                         0.21                                0.02   \n",
       "3                         0.39                                0.28   \n",
       "4                         0.09                                0.02   \n",
       "\n",
       "   @attribute PolicCars numeric   @attribute PolicOperBudg numeric   \\\n",
       "0                           0.06                               0.04   \n",
       "1                            NaN                                NaN   \n",
       "2                            NaN                                NaN   \n",
       "3                            NaN                                NaN   \n",
       "4                            NaN                                NaN   \n",
       "\n",
       "   @attribute LemasPctPolicOnPatr numeric   \\\n",
       "0                                      0.9   \n",
       "1                                      NaN   \n",
       "2                                      NaN   \n",
       "3                                      NaN   \n",
       "4                                      NaN   \n",
       "\n",
       "   @attribute LemasGangUnitDeploy numeric   \\\n",
       "0                                      0.5   \n",
       "1                                      NaN   \n",
       "2                                      NaN   \n",
       "3                                      NaN   \n",
       "4                                      NaN   \n",
       "\n",
       "   @attribute LemasPctOfficDrugUn numeric   \\\n",
       "0                                     0.32   \n",
       "1                                     0.00   \n",
       "2                                     0.00   \n",
       "3                                     0.00   \n",
       "4                                     0.00   \n",
       "\n",
       "   @attribute PolicBudgPerPop numeric   @attribute ViolentCrimesPerPop numeric  \n",
       "0                                 0.14                                    0.20  \n",
       "1                                  NaN                                    0.67  \n",
       "2                                  NaN                                    0.43  \n",
       "3                                  NaN                                    0.12  \n",
       "4                                  NaN                                    0.03  \n",
       "\n",
       "[5 rows x 128 columns]"
      ]
     },
     "execution_count": 57,
     "metadata": {},
     "output_type": "execute_result"
    }
   ],
   "source": [
    "def my_repl(x):\n",
    "    try:\n",
    "        return x.replace('?', 'NaN')\n",
    "    except:\n",
    "        return x\n",
    "data = data.applymap(lambda x: my_repl(x))\n",
    "data.head()"
   ]
  },
  {
   "cell_type": "markdown",
   "metadata": {},
   "source": [
    "Сделать onehot encoding"
   ]
  },
  {
   "cell_type": "code",
   "execution_count": 124,
   "metadata": {},
   "outputs": [],
   "source": [
    "##### your code here"
   ]
  },
  {
   "cell_type": "code",
   "execution_count": null,
   "metadata": {},
   "outputs": [],
   "source": []
  },
  {
   "cell_type": "markdown",
   "metadata": {},
   "source": [
    "Построить матрицу корреляции и вывести ее heatmap"
   ]
  },
  {
   "cell_type": "code",
   "execution_count": 62,
   "metadata": {},
   "outputs": [
    {
     "data": {
      "text/plain": [
       "<matplotlib.axes._subplots.AxesSubplot at 0x19d59a8a6a0>"
      ]
     },
     "execution_count": 62,
     "metadata": {},
     "output_type": "execute_result"
    },
    {
     "data": {
      "image/png": "[encoded data removed]",
      "text/plain": [
       "<Figure size 720x576 with 2 Axes>"
      ]
     },
     "metadata": {
      "needs_background": "light"
     },
     "output_type": "display_data"
    }
   ],
   "source": [
    "import seaborn as sns\n",
    "from matplotlib.colors import ListedColormap\n",
    "\n",
    "fig, ax = plt.subplots(figsize=(10,8))\n",
    "sns.heatmap(data.corr(), ax=ax, cmap=ListedColormap(['red', 'yellow', 'green']))"
   ]
  },
  {
   "cell_type": "markdown",
   "metadata": {},
   "source": [
    "Построить график распределения (hist) для целевой переменнойы"
   ]
  },
  {
   "cell_type": "code",
   "execution_count": null,
   "metadata": {},
   "outputs": [],
   "source": []
  },
  {
   "cell_type": "markdown",
   "metadata": {},
   "source": [
    "Построить график суммарного количества престплений по штатам (barplot)"
   ]
  },
  {
   "cell_type": "code",
   "execution_count": 63,
   "metadata": {
    "scrolled": true
   },
   "outputs": [
    {
     "data": {
      "text/plain": [
       "46"
      ]
     },
     "execution_count": 63,
     "metadata": {},
     "output_type": "execute_result"
    }
   ],
   "source": [
    "data['@attribute state numeric '].nunique()"
   ]
  },
  {
   "cell_type": "code",
   "execution_count": null,
   "metadata": {
    "scrolled": false
   },
   "outputs": [],
   "source": []
  },
  {
   "cell_type": "markdown",
   "metadata": {},
   "source": [
    "Построить простую линейную регрессию и оценить score на test и train"
   ]
  },
  {
   "cell_type": "code",
   "execution_count": 104,
   "metadata": {},
   "outputs": [],
   "source": [
    "from sklearn.model_selection import train_test_split\n",
    "from sklearn.linear_model import LinearRegression, Lasso, Ridge"
   ]
  },
  {
   "cell_type": "code",
   "execution_count": 105,
   "metadata": {},
   "outputs": [],
   "source": [
    "X_train, X_test, y_train, y_test = train_test_split(\\\n",
    "                            data[data.columns[:-1]], data[data.columns[-1]], test_size=0.33, random_state=41)"
   ]
  },
  {
   "cell_type": "code",
   "execution_count": 106,
   "metadata": {},
   "outputs": [],
   "source": [
    "numeric = [x for x in X_test.columns if 'numeric' in x]"
   ]
  },
  {
   "cell_type": "code",
   "execution_count": 107,
   "metadata": {
    "scrolled": true
   },
   "outputs": [],
   "source": [
    "#### данные здесь должны быть предобработаны на прошлом шаге и все NaN и строковые значения закодированы числами\n",
    "X_train = X_train[numeric]\n",
    "X_test = X_test[numeric]\n",
    "\n",
    "X_train = X_train.fillna(0)\n",
    "X_test = X_test.fillna(0)"
   ]
  },
  {
   "cell_type": "code",
   "execution_count": 108,
   "metadata": {},
   "outputs": [
    {
     "name": "stdout",
     "output_type": "stream",
     "text": [
      "Wall time: 75 ms\n"
     ]
    }
   ],
   "source": [
    "%%time\n",
    "lr = LinearRegression()\n",
    "lr.fit(X_train,y_train)"
   ]
  },
  {
   "cell_type": "code",
   "execution_count": 109,
   "metadata": {},
   "outputs": [
    {
     "data": {
      "text/plain": [
       "0.6776902615500453"
      ]
     },
     "execution_count": 109,
     "metadata": {},
     "output_type": "execute_result"
    }
   ],
   "source": [
    "lr.score(X_test, y_test)"
   ]
  },
  {
   "cell_type": "code",
   "execution_count": 110,
   "metadata": {},
   "outputs": [
    {
     "data": {
      "text/plain": [
       "0.7009816384314611"
      ]
     },
     "execution_count": 110,
     "metadata": {},
     "output_type": "execute_result"
    }
   ],
   "source": [
    "lr.score(X_train, y_train)"
   ]
  },
  {
   "cell_type": "markdown",
   "metadata": {},
   "source": [
    "Теперь построить L1 регрессию и оценить важность фичей"
   ]
  },
  {
   "cell_type": "markdown",
   "metadata": {},
   "source": [
    "$$(1 / (2 * n_samples)) * ||y - Xw||^2_2 + alpha * ||w||_1$$"
   ]
  },
  {
   "cell_type": "code",
   "execution_count": 111,
   "metadata": {},
   "outputs": [],
   "source": [
    "#### your code here"
   ]
  },
  {
   "cell_type": "code",
   "execution_count": 112,
   "metadata": {},
   "outputs": [
    {
     "data": {
      "text/plain": [
       "Lasso(alpha=1.0, copy_X=True, fit_intercept=True, max_iter=1000,\n",
       "   normalize=False, positive=False, precompute=False, random_state=None,\n",
       "   selection='cyclic', tol=0.0001, warm_start=False)"
      ]
     },
     "execution_count": 112,
     "metadata": {},
     "output_type": "execute_result"
    }
   ],
   "source": [
    "lass = Lasso()\n",
    "lass.fit(X_train,y_train)"
   ]
  },
  {
   "cell_type": "code",
   "execution_count": 113,
   "metadata": {},
   "outputs": [
    {
     "data": {
      "text/plain": [
       "0.06119137696270882"
      ]
     },
     "execution_count": 113,
     "metadata": {},
     "output_type": "execute_result"
    }
   ],
   "source": [
    "lass.fit(X_train, y_train)\n",
    "lass.score(X_test, y_test)"
   ]
  },
  {
   "cell_type": "code",
   "execution_count": 114,
   "metadata": {},
   "outputs": [],
   "source": [
    "from sklearn.model_selection import GridSearchCV"
   ]
  },
  {
   "cell_type": "code",
   "execution_count": 115,
   "metadata": {},
   "outputs": [],
   "source": [
    "parameters = {'alpha' : np.linspace(0.01, 0.1, 5)}"
   ]
  },
  {
   "cell_type": "code",
   "execution_count": 116,
   "metadata": {},
   "outputs": [],
   "source": [
    "clf = GridSearchCV(lass, parameters, cv=2)"
   ]
  },
  {
   "cell_type": "code",
   "execution_count": 117,
   "metadata": {},
   "outputs": [
    {
     "data": {
      "text/plain": [
       "GridSearchCV(cv=2, error_score='raise-deprecating',\n",
       "       estimator=Lasso(alpha=1.0, copy_X=True, fit_intercept=True, max_iter=1000,\n",
       "   normalize=False, positive=False, precompute=False, random_state=None,\n",
       "   selection='cyclic', tol=0.0001, warm_start=False),\n",
       "       fit_params=None, iid='warn', n_jobs=None,\n",
       "       param_grid={'alpha': array([0.01  , 0.0325, 0.055 , 0.0775, 0.1   ])},\n",
       "       pre_dispatch='2*n_jobs', refit=True, return_train_score='warn',\n",
       "       scoring=None, verbose=0)"
      ]
     },
     "execution_count": 117,
     "metadata": {},
     "output_type": "execute_result"
    }
   ],
   "source": [
    "clf.fit(X_train, y_train)"
   ]
  },
  {
   "cell_type": "code",
   "execution_count": 118,
   "metadata": {},
   "outputs": [
    {
     "data": {
      "text/plain": [
       "Lasso(alpha=0.01, copy_X=True, fit_intercept=True, max_iter=1000,\n",
       "   normalize=False, positive=False, precompute=False, random_state=None,\n",
       "   selection='cyclic', tol=0.0001, warm_start=False)"
      ]
     },
     "execution_count": 118,
     "metadata": {},
     "output_type": "execute_result"
    }
   ],
   "source": [
    "clf.best_estimator_"
   ]
  },
  {
   "cell_type": "code",
   "execution_count": 119,
   "metadata": {},
   "outputs": [
    {
     "data": {
      "text/plain": [
       "0.5735228863070215"
      ]
     },
     "execution_count": 119,
     "metadata": {},
     "output_type": "execute_result"
    }
   ],
   "source": [
    "clf.score(X_test, y_test)"
   ]
  },
  {
   "cell_type": "code",
   "execution_count": 120,
   "metadata": {},
   "outputs": [
    {
     "data": {
      "text/plain": [
       "0.5560184599912322"
      ]
     },
     "execution_count": 120,
     "metadata": {},
     "output_type": "execute_result"
    }
   ],
   "source": [
    "clf.score(X_train, y_train)"
   ]
  },
  {
   "cell_type": "code",
   "execution_count": null,
   "metadata": {},
   "outputs": [],
   "source": [
    "#active = {._coefs != 0}\n",
    "#ridge(X[active], y)"
   ]
  },
  {
   "cell_type": "markdown",
   "metadata": {},
   "source": [
    "Постройте график зависимости активных фичей (w>0) от парметра alpha"
   ]
  },
  {
   "cell_type": "code",
   "execution_count": 82,
   "metadata": {},
   "outputs": [
    {
     "ename": "ModuleNotFoundError",
     "evalue": "No module named 'tqdm'",
     "output_type": "error",
     "traceback": [
      "\u001b[1;31m---------------------------------------------------------------------------\u001b[0m",
      "\u001b[1;31mModuleNotFoundError\u001b[0m                       Traceback (most recent call last)",
      "\u001b[1;32m<ipython-input-82-6ede518d571e>\u001b[0m in \u001b[0;36m<module>\u001b[1;34m\u001b[0m\n\u001b[1;32m----> 1\u001b[1;33m \u001b[1;32mimport\u001b[0m \u001b[0mtqdm\u001b[0m\u001b[1;33m\u001b[0m\u001b[0m\n\u001b[0m\u001b[0;32m      2\u001b[0m \u001b[1;32mfrom\u001b[0m \u001b[0mtqdm\u001b[0m \u001b[1;32mimport\u001b[0m \u001b[0mtqdm\u001b[0m\u001b[1;33m\u001b[0m\u001b[0m\n\u001b[0;32m      3\u001b[0m \u001b[1;32mfor\u001b[0m \u001b[0malpha\u001b[0m \u001b[1;32min\u001b[0m \u001b[0mtqdm\u001b[0m\u001b[1;33m(\u001b[0m\u001b[0mnp\u001b[0m\u001b[1;33m.\u001b[0m\u001b[0mlinspace\u001b[0m\u001b[1;33m(\u001b[0m\u001b[1;36m0.0001\u001b[0m\u001b[1;33m,\u001b[0m \u001b[1;36m0.7\u001b[0m\u001b[1;33m,\u001b[0m \u001b[1;36m30\u001b[0m\u001b[1;33m)\u001b[0m\u001b[1;33m)\u001b[0m\u001b[1;33m:\u001b[0m\u001b[1;33m\u001b[0m\u001b[0m\n\u001b[0;32m      4\u001b[0m     \u001b[1;32mcontinue\u001b[0m\u001b[1;33m\u001b[0m\u001b[0m\n",
      "\u001b[1;31mModuleNotFoundError\u001b[0m: No module named 'tqdm'"
     ]
    }
   ],
   "source": [
    "\n",
    "from tqdm import tqdm\n",
    "for alpha in tqdm(np.linspace(0.0001, 0.7, 30)):\n",
    "    continue"
   ]
  },
  {
   "cell_type": "markdown",
   "metadata": {},
   "source": [
    "Теперь сделайте Ridge regression после того, как вы получите активные фичи из L1"
   ]
  },
  {
   "cell_type": "code",
   "execution_count": null,
   "metadata": {},
   "outputs": [],
   "source": []
  },
  {
   "cell_type": "code",
   "execution_count": 178,
   "metadata": {},
   "outputs": [],
   "source": [
    "### Decision tree regressor"
   ]
  },
  {
   "cell_type": "code",
   "execution_count": 179,
   "metadata": {},
   "outputs": [],
   "source": [
    "from sklearn.tree import DecisionTreeRegressor"
   ]
  },
  {
   "cell_type": "code",
   "execution_count": null,
   "metadata": {},
   "outputs": [],
   "source": []
  },
  {
   "cell_type": "markdown",
   "metadata": {},
   "source": [
    "Проведите GridSearch по параметрам и найдите лучшую модель (L1 или Decision tree или L2)"
   ]
  },
  {
   "cell_type": "code",
   "execution_count": null,
   "metadata": {},
   "outputs": [],
   "source": []
  },
  {
   "cell_type": "code",
   "execution_count": null,
   "metadata": {},
   "outputs": [],
   "source": []
  }
 ],
 "metadata": {
  "kernelspec": {
   "display_name": "Python 3",
   "language": "python",
   "name": "python3"
  },
  "language_info": {
   "codemirror_mode": {
    "name": "ipython",
    "version": 3
   },
   "file_extension": ".py",
   "mimetype": "text/x-python",
   "name": "python",
   "nbconvert_exporter": "python",
   "pygments_lexer": "ipython3",
   "version": "3.6.0"
  }
 },
 "nbformat": 4,
 "nbformat_minor": 2
}
