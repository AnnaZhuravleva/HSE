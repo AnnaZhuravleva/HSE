{
 "cells": [
  {
   "cell_type": "markdown",
   "metadata": {},
   "source": [
    "https://docs.anaconda.com/anaconda/install/windows/ "
   ]
  },
  {
   "cell_type": "markdown",
   "metadata": {},
   "source": [
    "# Семинар 2: Introduction to Data Science "
   ]
  },
  {
   "cell_type": "markdown",
   "metadata": {},
   "source": [
    "## 0. Где мы сейчас?\n",
    "\n",
    "* В отдельной ячейке можно писать код либо текстовые комментарии\n",
    "* Наверху удобная панель по работе с юпитером\n",
    "* Чтобы создать новую ячейку, надо нажать плюсик \n",
    "* Чтобы запустить код, надо нажать шифт + энтер\n",
    "\n",
    "<center>\n",
    "<img src=\"http://i0.kym-cdn.com/photos/images/original/000/234/765/b7e.jpg\" height=\"400\" width=\"400\">"
   ]
  },
  {
   "cell_type": "markdown",
   "metadata": {},
   "source": [
    "## 1. Python\n",
    "\n",
    "> Python - это свободный интерпретируемый объектно-ориентированный расширяемый встраиваемый язык программирования очень высокого уровня \n",
    "\n",
    ">*(Г.Россум, Ф.Л.Дж.Дрейк, Д.С.Откидач \"Язык программирования Python\").*\n"
   ]
  },
  {
   "cell_type": "markdown",
   "metadata": {},
   "source": [
    "<center>\n",
    "<img src=\"https://zgab33vy595fw5zq-zippykid.netdna-ssl.com/wp-content/uploads/2017/09/growth_major_languages-1-1024x878.png\" width=\"600\">"
   ]
  },
  {
   "cell_type": "markdown",
   "metadata": {},
   "source": [
    "## 2. Anaconda\n",
    "\n",
    "<img src=\"https://cdn-images-1.medium.com/max/1600/0*MVkCW8_Bmj-nuAnI.png\" width=\"600\">\n",
    "\n",
    "Любой язык нужно как-то распространять. Python распространяется в дистрибутиве (специальной программе) с названием Anaconda. Кроме самого языка в неё входит юпитер и большое количество разных популярных библиотек. Например: \n",
    "\n",
    " - <a href=\"http://numpy.org\">Numpy</a> - это один из основных пакетов для научных вычислений. Он содержит функциональные средства для работы с многомерными массивами и высокоуровневыми математическими функциями.\n",
    " - <a href=\"http://numpy.org\">SciPy</a> - научные вычисления. Методы оптимизации, интегрирования, модули обработки сигналов и изображений, статистика, линейная алгебра, сплайны, кластеризация и многое другое. \n",
    " -  <a href=\"http://pandas.pydata.org/\">Pandas</a> - библиотека для обработки и анализа данных. Предназначена для данных разной природы - матричных, панельных данных, временных рядов. Претендует на звание самого мощного и гибкого средства для анализа данных с открытым исходным кодом.\n",
    " - <a href=\"http://scikit-learn.org/stable/\">Scikit-learn</a> - реализация очень многих методов машинного обучения и интеллекуального анализа данных (data mining) с отличной документацией. \n",
    " - <a href=\"http://http://matplotlib.org/\">matplotlib</a> - библиотека для визаулизации данных, в основном двухмерная графика.\n",
    " \n",
    " Когда вы ставить анаконду, сразу устанавливается всё это добро, покрывающее болбшую часть потребностей аналитика."
   ]
  },
  {
   "cell_type": "code",
   "execution_count": 46,
   "metadata": {},
   "outputs": [
    {
     "name": "stdout",
     "output_type": "stream",
     "text": [
      "100\n",
      "1000.0\n",
      "John\n"
     ]
    }
   ],
   "source": [
    "# Переменные в Python бывают разных типов: каких? \n",
    "\n",
    "counter = 100       # An integer assignment\n",
    "miles = 1000.0      # A floating point\n",
    "name = \"John\"       # A string\n",
    "\n",
    "print(counter)\n",
    "print(miles)\n",
    "print(name)"
   ]
  },
  {
   "cell_type": "markdown",
   "metadata": {},
   "source": [
    "__Задание:__ Объясните что происходит в ячейке ниже, а после дополните код."
   ]
  },
  {
   "cell_type": "code",
   "execution_count": 21,
   "metadata": {},
   "outputs": [
    {
     "name": "stdout",
     "output_type": "stream",
     "text": [
      "1 1 1\n"
     ]
    }
   ],
   "source": [
    "# множественное присваивание \n",
    "a = b = c = 1\n",
    "print(a,b,c)"
   ]
  },
  {
   "cell_type": "code",
   "execution_count": 3,
   "metadata": {},
   "outputs": [
    {
     "name": "stdout",
     "output_type": "stream",
     "text": [
      "1 2 3\n"
     ]
    }
   ],
   "source": [
    "# можно сделать множественное присваиваиние и по-другому\n",
    "# вспомните как \n",
    "\n",
    "a,b,c =  1,2,3\n",
    "print(a,b,c)"
   ]
  },
  {
   "cell_type": "markdown",
   "metadata": {},
   "source": [
    "Стандартные типы данных в python: \n",
    "\n",
    "* Число  (numbers)\n",
    "* Строка (string)\n",
    "* Список (list)\n",
    "* Кортеж (tuple)\n",
    "* Словарь (dictionary)"
   ]
  },
  {
   "cell_type": "code",
   "execution_count": 22,
   "metadata": {},
   "outputs": [],
   "source": [
    "# Number\n",
    "var1 = 1\n",
    "var2 = 10"
   ]
  },
  {
   "cell_type": "code",
   "execution_count": 48,
   "metadata": {},
   "outputs": [
    {
     "name": "stdout",
     "output_type": "stream",
     "text": [
      "Hello World!\n",
      "H\n",
      "llo\n"
     ]
    }
   ],
   "source": [
    "# Strings\n",
    "my_str = 'Hello World!'\n",
    "\n",
    "print(my_str)          # Печатаем полностью\n",
    "print(my_str[0])       # Печатаем первый символ строки\n",
    "print(my_str[2:5])     # Печатаем символы с третьего по пятый (нумерация в питоне с нуля)"
   ]
  },
  {
   "cell_type": "code",
   "execution_count": 26,
   "metadata": {},
   "outputs": [
    {
     "name": "stdout",
     "output_type": "stream",
     "text": [
      "['abcd', 786, 2.23, 'john', 70.2]\n",
      "abcd\n",
      "[786, 2.23]\n",
      "[2.23, 'john', 70.2]\n",
      "[123, 'john', 123, 'john']\n",
      "['abcd', 786, 2.23, 'john', 70.2, 123, 'john']\n"
     ]
    }
   ],
   "source": [
    "# List\n",
    "my_list = ['abcd', 786 , 2.23, 'john', 70.2]\n",
    "tinylist = [123, 'john']\n",
    "\n",
    "print(my_list)            # Печатаем весь лист\n",
    "print(my_list[0])         # Печатаем первый элемент\n",
    "print(my_list[1:3])       # Печатаем срез со 2 по 3 элементы (не включае 4)\n",
    "print(my_list[2:])        # Печатаем все элементы с третьего\n",
    "print(tinylist * 2)       # Дублирует лист дважды\n",
    "print(my_list + tinylist) # Складывает листы (конкатенация)"
   ]
  },
  {
   "cell_type": "markdown",
   "metadata": {},
   "source": [
    "__Задание:__ Сделайте конкатенацию двух листов с любыми срезами и распечатайте новый лист."
   ]
  },
  {
   "cell_type": "code",
   "execution_count": 5,
   "metadata": {},
   "outputs": [
    {
     "data": {
      "text/plain": [
       "[135, 2.34, 135, 2.34]"
      ]
     },
     "execution_count": 5,
     "metadata": {},
     "output_type": "execute_result"
    }
   ],
   "source": [
    "nastya = [ 135 , 2.34 , \"golowchanowa\"]\n",
    "boria = [ 135 , 2.34 , \"golowchanowa\"]\n",
    "nastya[:2] + boria [:2]"
   ]
  },
  {
   "cell_type": "code",
   "execution_count": 27,
   "metadata": {},
   "outputs": [
    {
     "name": "stdout",
     "output_type": "stream",
     "text": [
      "('abcd', 786, 2.23, 'john', 70.2)\n",
      "abcd\n",
      "(786, 2.23)\n",
      "(2.23, 'john', 70.2)\n",
      "(123, 'john', 123, 'john')\n"
     ]
    }
   ],
   "source": [
    "# Tuple\n",
    "\n",
    "my_tuple = ('abcd', 786 , 2.23, 'john', 70.2)\n",
    "tinytuple = (123, 'john')\n",
    "\n",
    "print(my_tuple)         # Печатаем полностью\n",
    "print(my_tuple[0])      # Печатаем первый элемент\n",
    "print(my_tuple[1:3])    # Печатаем срез со 2 по 3 элементы (не включае 4)\n",
    "print(my_tuple[2:])     # Печатаем все элементы с третьего\n",
    "print(tinytuple * 2)    # Дублирует кортеж дважды"
   ]
  },
  {
   "cell_type": "code",
   "execution_count": 49,
   "metadata": {},
   "outputs": [
    {
     "data": {
      "text/plain": [
       "[2, 3, 4]"
      ]
     },
     "execution_count": 49,
     "metadata": {},
     "output_type": "execute_result"
    }
   ],
   "source": [
    "a = [2, 3]\n",
    "b = (2, 3)\n",
    "\n",
    "a.append(4)\n",
    "a"
   ]
  },
  {
   "cell_type": "code",
   "execution_count": 8,
   "metadata": {
    "scrolled": true
   },
   "outputs": [
    {
     "ename": "AttributeError",
     "evalue": "'tuple' object has no attribute 'append'",
     "output_type": "error",
     "traceback": [
      "\u001b[0;31m---------------------------------------------------------------------------\u001b[0m",
      "\u001b[0;31mAttributeError\u001b[0m                            Traceback (most recent call last)",
      "\u001b[0;32m<ipython-input-8-7566fbe11e6f>\u001b[0m in \u001b[0;36m<module>\u001b[0;34m\u001b[0m\n\u001b[0;32m----> 1\u001b[0;31m \u001b[0mb\u001b[0m\u001b[0;34m.\u001b[0m\u001b[0mappend\u001b[0m\u001b[0;34m(\u001b[0m\u001b[0;36m4\u001b[0m\u001b[0;34m)\u001b[0m\u001b[0;34m\u001b[0m\u001b[0;34m\u001b[0m\u001b[0m\n\u001b[0m",
      "\u001b[0;31mAttributeError\u001b[0m: 'tuple' object has no attribute 'append'"
     ]
    }
   ],
   "source": [
    "b.append(4)"
   ]
  },
  {
   "cell_type": "markdown",
   "metadata": {},
   "source": [
    "__Задание:__ Объясните разницу между list и tuple. Конкантенируете tinytuple и my_tuple."
   ]
  },
  {
   "cell_type": "code",
   "execution_count": null,
   "metadata": {},
   "outputs": [],
   "source": [
    "# Ваш код здесь"
   ]
  },
  {
   "cell_type": "code",
   "execution_count": 9,
   "metadata": {},
   "outputs": [
    {
     "name": "stdout",
     "output_type": "stream",
     "text": [
      "This is one\n",
      "This is two\n"
     ]
    }
   ],
   "source": [
    "# Dictionary\n",
    "\n",
    "my_dict = {}\n",
    "my_dict['one'] = \"This is one\"\n",
    "my_dict[2] = \"This is two\"\n",
    "\n",
    "tinydict = {'name': 'john', 'code': 6734, 'dept': 'sales'}\n",
    "\n",
    "print(my_dict['one'])      # Выводим значение по ключу 'one'\n",
    "print(my_dict[2])          # Выводим значение по ключу 2"
   ]
  },
  {
   "cell_type": "markdown",
   "metadata": {},
   "source": [
    "__Задание:__ выведите на экран все ключи и значения, которые есть в словаре."
   ]
  },
  {
   "cell_type": "code",
   "execution_count": 10,
   "metadata": {},
   "outputs": [
    {
     "data": {
      "text/plain": [
       "{'one': 'This is one', 2: 'This is two'}"
      ]
     },
     "execution_count": 10,
     "metadata": {},
     "output_type": "execute_result"
    }
   ],
   "source": [
    "my_dict"
   ]
  },
  {
   "cell_type": "code",
   "execution_count": 12,
   "metadata": {},
   "outputs": [
    {
     "data": {
      "text/plain": [
       "dict_values(['This is one', 'This is two'])"
      ]
     },
     "execution_count": 12,
     "metadata": {},
     "output_type": "execute_result"
    }
   ],
   "source": [
    "my_dict.values()"
   ]
  },
  {
   "cell_type": "code",
   "execution_count": 13,
   "metadata": {},
   "outputs": [
    {
     "data": {
      "text/plain": [
       "dict_keys(['one', 2])"
      ]
     },
     "execution_count": 13,
     "metadata": {},
     "output_type": "execute_result"
    }
   ],
   "source": [
    "my_dict.keys()"
   ]
  },
  {
   "cell_type": "code",
   "execution_count": 14,
   "metadata": {},
   "outputs": [
    {
     "data": {
      "text/plain": [
       "dict_items([('one', 'This is one'), (2, 'This is two')])"
      ]
     },
     "execution_count": 14,
     "metadata": {},
     "output_type": "execute_result"
    }
   ],
   "source": [
    "my_dict.items()"
   ]
  },
  {
   "cell_type": "code",
   "execution_count": 15,
   "metadata": {},
   "outputs": [
    {
     "name": "stdout",
     "output_type": "stream",
     "text": [
      "<class 'dict_values'>\n",
      "<class 'dict_keys'>\n",
      "<class 'dict_values'>\n"
     ]
    }
   ],
   "source": [
    "#Посмотрим на типы элементов, скрывающих за собой ключи и значения словаря\n",
    "print(type(tinydict.values()))\n",
    "print(type(tinydict.keys()))\n",
    "\n",
    "dict_values_elements = tinydict.values()\n",
    "print(type(dict_values_elements))"
   ]
  },
  {
   "cell_type": "code",
   "execution_count": 18,
   "metadata": {},
   "outputs": [],
   "source": [
    "x = 5"
   ]
  },
  {
   "cell_type": "code",
   "execution_count": 19,
   "metadata": {},
   "outputs": [
    {
     "data": {
      "text/plain": [
       "10"
      ]
     },
     "execution_count": 19,
     "metadata": {},
     "output_type": "execute_result"
    }
   ],
   "source": [
    "x * 2"
   ]
  },
  {
   "cell_type": "markdown",
   "metadata": {},
   "source": [
    "__Задание:__ Попробуйте вытащить из `tinydict.values()` первый элемент по индексу `0`."
   ]
  },
  {
   "cell_type": "code",
   "execution_count": null,
   "metadata": {},
   "outputs": [],
   "source": [
    "# Ваш код здесь"
   ]
  },
  {
   "cell_type": "code",
   "execution_count": 20,
   "metadata": {},
   "outputs": [
    {
     "name": "stdout",
     "output_type": "stream",
     "text": [
      "10010\n"
     ]
    }
   ],
   "source": [
    "# int(), float() \n",
    "\n",
    "s = \"10010\"\n",
    "print(int(s))"
   ]
  },
  {
   "cell_type": "code",
   "execution_count": 21,
   "metadata": {},
   "outputs": [
    {
     "name": "stdout",
     "output_type": "stream",
     "text": [
      "After converting to integer base 2 :  18\n"
     ]
    }
   ],
   "source": [
    "# то же самое но в двоичной системе исчисления\n",
    "c = int(s, 2) \n",
    "print (\"After converting to integer base 2 : \", c) "
   ]
  },
  {
   "cell_type": "markdown",
   "metadata": {},
   "source": [
    "__Задание:__ превратите строку в действительное (float) число. "
   ]
  },
  {
   "cell_type": "code",
   "execution_count": null,
   "metadata": {},
   "outputs": [],
   "source": [
    "# Ваш код здесь"
   ]
  },
  {
   "cell_type": "markdown",
   "metadata": {},
   "source": [
    "Точно также можно конвертировать и в другие типы."
   ]
  },
  {
   "cell_type": "code",
   "execution_count": 22,
   "metadata": {},
   "outputs": [
    {
     "name": "stdout",
     "output_type": "stream",
     "text": [
      "After converting string to tuple :  ('g', 'e', 'e', 'k', 's')\n",
      "After converting string to set :  {'s', 'k', 'g', 'e'}\n",
      "After converting string to list :  ['g', 'e', 'e', 'k', 's']\n"
     ]
    }
   ],
   "source": [
    "# tuple(), set(), list() \n",
    "s = 'geeks'\n",
    "  \n",
    "# printing string converting to tuple \n",
    "c = tuple(s) \n",
    "print (\"After converting string to tuple : \", c) \n",
    "\n",
    "  \n",
    "# printing string converting to set \n",
    "c = set(s) \n",
    "print (\"After converting string to set : \", c) \n",
    "\n",
    "  \n",
    "# printing string converting to list \n",
    "c = list(s) \n",
    "print (\"After converting string to list : \", c) "
   ]
  },
  {
   "cell_type": "markdown",
   "metadata": {},
   "source": [
    "Поговорим теперь о словарях и множествах. "
   ]
  },
  {
   "cell_type": "code",
   "execution_count": 23,
   "metadata": {},
   "outputs": [
    {
     "name": "stdout",
     "output_type": "stream",
     "text": [
      "{'ff': 1, 'gg': 2}\n"
     ]
    }
   ],
   "source": [
    "my_dict = {'ff': 1, 'gg': 2}\n",
    "print(my_dict)"
   ]
  },
  {
   "cell_type": "markdown",
   "metadata": {},
   "source": [
    "__Задание:__ попробуйте создать словарь, в котором будут дубликаты. Посмотрите что из этого выдет. Объясните что произошло. "
   ]
  },
  {
   "cell_type": "code",
   "execution_count": 24,
   "metadata": {},
   "outputs": [
    {
     "data": {
      "text/plain": [
       "{'ff': 42, 'gg': 2}"
      ]
     },
     "execution_count": 24,
     "metadata": {},
     "output_type": "execute_result"
    }
   ],
   "source": [
    "my_dict['ff'] = 42\n",
    "my_dict"
   ]
  },
  {
   "cell_type": "code",
   "execution_count": 50,
   "metadata": {},
   "outputs": [
    {
     "name": "stdout",
     "output_type": "stream",
     "text": [
      "{2}\n",
      "{2, 3}\n",
      "{'ggg', 2, 3}\n"
     ]
    }
   ],
   "source": [
    "f = set()\n",
    "\n",
    "f.add(2)\n",
    "print(f)\n",
    "\n",
    "f.add(3)\n",
    "print(f)\n",
    "\n",
    "f.add('ggg')\n",
    "print(f)"
   ]
  },
  {
   "cell_type": "markdown",
   "metadata": {},
   "source": [
    "__Задание:__ добавьте в множество `f` новые элементы: `42`, а затем `3`. Выведите новое множество на экран. Что произошло? Почему?  "
   ]
  },
  {
   "cell_type": "code",
   "execution_count": 51,
   "metadata": {},
   "outputs": [
    {
     "name": "stdout",
     "output_type": "stream",
     "text": [
      "{'ggg', 2, 3}\n"
     ]
    },
    {
     "data": {
      "text/plain": [
       "{2, 3, 'ggg'}"
      ]
     },
     "execution_count": 51,
     "metadata": {},
     "output_type": "execute_result"
    }
   ],
   "source": [
    "print(f)\n",
    "f.add(3)\n",
    "f"
   ]
  },
  {
   "cell_type": "markdown",
   "metadata": {},
   "source": [
    "__Задание:__ объясните почему в ячейке ниже возникает ошибка."
   ]
  },
  {
   "cell_type": "code",
   "execution_count": 29,
   "metadata": {},
   "outputs": [
    {
     "data": {
      "text/plain": [
       "{(2, 3, 4), 2, 3, 'ggg'}"
      ]
     },
     "execution_count": 29,
     "metadata": {},
     "output_type": "execute_result"
    }
   ],
   "source": [
    "f.add((2,3,4))\n",
    "f"
   ]
  },
  {
   "cell_type": "code",
   "execution_count": 30,
   "metadata": {},
   "outputs": [
    {
     "ename": "TypeError",
     "evalue": "unhashable type: 'list'",
     "output_type": "error",
     "traceback": [
      "\u001b[0;31m---------------------------------------------------------------------------\u001b[0m",
      "\u001b[0;31mTypeError\u001b[0m                                 Traceback (most recent call last)",
      "\u001b[0;32m<ipython-input-30-aae4f1bd7576>\u001b[0m in \u001b[0;36m<module>\u001b[0;34m\u001b[0m\n\u001b[0;32m----> 1\u001b[0;31m \u001b[0mf\u001b[0m\u001b[0;34m.\u001b[0m\u001b[0madd\u001b[0m\u001b[0;34m(\u001b[0m\u001b[0;34m[\u001b[0m\u001b[0;36m2\u001b[0m\u001b[0;34m,\u001b[0m\u001b[0;36m3\u001b[0m\u001b[0;34m,\u001b[0m\u001b[0;36m4\u001b[0m\u001b[0;34m]\u001b[0m\u001b[0;34m)\u001b[0m\u001b[0;34m\u001b[0m\u001b[0;34m\u001b[0m\u001b[0m\n\u001b[0m",
      "\u001b[0;31mTypeError\u001b[0m: unhashable type: 'list'"
     ]
    }
   ],
   "source": [
    "f.add([2,3,4])"
   ]
  },
  {
   "cell_type": "markdown",
   "metadata": {},
   "source": [
    "__Задание:__ попробуйте создать словарь, в котором в качестве ключа используется tuple. После словарь, где в качестве включа используется list. Что произошло? Объясните это."
   ]
  },
  {
   "cell_type": "markdown",
   "metadata": {},
   "source": [
    "И снова, мы очень большие молодцы! Теперь поговорим о функциях. Расскажите мне что это такое. \n",
    "\n",
    "Вот, например, функция, которая проверяет число на чётность."
   ]
  },
  {
   "cell_type": "code",
   "execution_count": 52,
   "metadata": {},
   "outputs": [],
   "source": [
    "def evenOdd( x ): \n",
    "    if (x % 2 == 0): \n",
    "        return \"even\"\n",
    "    else: \n",
    "        return \"odd\"   "
   ]
  },
  {
   "cell_type": "markdown",
   "metadata": {},
   "source": [
    "__Задание:__ вызовите функцию для какого-нибудь чётного и для какого-нибудь нечётного числа."
   ]
  },
  {
   "cell_type": "code",
   "execution_count": 33,
   "metadata": {},
   "outputs": [
    {
     "data": {
      "text/plain": [
       "'odd'"
      ]
     },
     "execution_count": 33,
     "metadata": {},
     "output_type": "execute_result"
    }
   ],
   "source": [
    "evenOdd(5)"
   ]
  },
  {
   "cell_type": "code",
   "execution_count": 34,
   "metadata": {},
   "outputs": [
    {
     "data": {
      "text/plain": [
       "'even'"
      ]
     },
     "execution_count": 34,
     "metadata": {},
     "output_type": "execute_result"
    }
   ],
   "source": [
    "evenOdd(10)"
   ]
  },
  {
   "cell_type": "markdown",
   "metadata": {},
   "source": [
    "__Задание:__ Объясните почему lst не изменилися после вызова функции."
   ]
  },
  {
   "cell_type": "code",
   "execution_count": 35,
   "metadata": {},
   "outputs": [
    {
     "name": "stdout",
     "output_type": "stream",
     "text": [
      "[10, 11, 12, 13, 14, 15]\n"
     ]
    }
   ],
   "source": [
    "def myFun(x): \n",
    "    x = [20, 30, 40] \n",
    "    \n",
    "lst = [10, 11, 12, 13, 14, 15]  \n",
    "myFun(lst); \n",
    "print(lst)  "
   ]
  },
  {
   "cell_type": "markdown",
   "metadata": {},
   "source": [
    "Окей! А что произошло в этой функции?"
   ]
  },
  {
   "cell_type": "code",
   "execution_count": 36,
   "metadata": {},
   "outputs": [
    {
     "name": "stdout",
     "output_type": "stream",
     "text": [
      "before, outer_list = ['one', 'two', 'three'] \n",
      "\n",
      "got ['one', 'two', 'three']\n",
      "changed to ['one', 'two', 'three', 'four'] \n",
      "\n",
      "after, outer_list = ['one', 'two', 'three', 'four']\n"
     ]
    }
   ],
   "source": [
    "def try_to_change_list_contents(the_list):\n",
    "    print('got', the_list)\n",
    "    the_list.append('four')\n",
    "    print('changed to', the_list, '\\n')\n",
    "\n",
    "outer_list = ['one', 'two', 'three']\n",
    "\n",
    "\n",
    "print('before, outer_list =', outer_list, '\\n')\n",
    "\n",
    "# применили функцию и ...\n",
    "try_to_change_list_contents(outer_list)\n",
    "print('after, outer_list =', outer_list)"
   ]
  },
  {
   "cell_type": "code",
   "execution_count": 57,
   "metadata": {},
   "outputs": [
    {
     "data": {
      "text/plain": [
       "[5, 8, 9, 'Hello']"
      ]
     },
     "execution_count": 57,
     "metadata": {},
     "output_type": "execute_result"
    }
   ],
   "source": [
    "first_list = [5, 8, 9, 'Hello']\n",
    "second_list = first_list.copy()\n",
    "second_list"
   ]
  },
  {
   "cell_type": "code",
   "execution_count": 58,
   "metadata": {},
   "outputs": [
    {
     "data": {
      "text/plain": [
       "[5, 8, 9, 'Hello', 42]"
      ]
     },
     "execution_count": 58,
     "metadata": {},
     "output_type": "execute_result"
    }
   ],
   "source": [
    "second_list.append(42)\n",
    "second_list"
   ]
  },
  {
   "cell_type": "code",
   "execution_count": 59,
   "metadata": {},
   "outputs": [
    {
     "data": {
      "text/plain": [
       "[5, 8, 9, 'Hello']"
      ]
     },
     "execution_count": 59,
     "metadata": {},
     "output_type": "execute_result"
    }
   ],
   "source": [
    "first_list"
   ]
  },
  {
   "cell_type": "markdown",
   "metadata": {},
   "source": [
    "**Ой!** Когда мы изменили список `the_list`, магическим образом изменился и исходный список `outer_list`! Почему так произошло? Дело в том, что списки живут в своём собственном мире платоновских идеальных списков. Когда мы присваиваем список переменной, то есть пишем что-нибудь вроде \n",
    "\n",
    "    first_list = [5, 8, 9, 'Hello']\n",
    "    \n",
    "мы делаем две вещи: во-первых, создаём список (с помощью операции «квадратные скобки»), а потом говорим, что теперь переменная `first_list` будет указывать на этот список (с помощью операции «равно»). Можно сказать, что мы создали список и дали ему *имя* `first_list`. \n",
    "\n",
    "После этого в `first_list` хранится не сам список, а указатель (ссылка) на него. Когда мы присваиваем значение `first_list` новой переменной `second_list`, мы не производим копирование списка, мы копируем только указатель. То есть `second_list` просто стала другим именем для того же самого списка, что и `firt_list`. Поэтому изменение элементов `second_list` приведет к изменению `first_list`, и наоборот.\n",
    "\n",
    "То есть, когда мы передали в функцию `outer_list`, в качестве аргумента `the_list`, мы оперировали указателем. Никакого нового объекта во внутренней зоне видимости функции не созалось и изначальный список поменялся. На смом деле все объекты в python делятся на изменяемые и неизменяемые. Для изменяемых объектов мы всегда передаём в функцию ссылку. Для неизменяемых копию. "
   ]
  },
  {
   "cell_type": "markdown",
   "metadata": {},
   "source": [
    "__Задание:__ Вроде бы со ссылками разобрались. Теперь попробуйте объяснить вот это."
   ]
  },
  {
   "cell_type": "code",
   "execution_count": 44,
   "metadata": {},
   "outputs": [
    {
     "name": "stdout",
     "output_type": "stream",
     "text": [
      "before, outer_list = ['we', 'like', 'proper', 'English'] \n",
      "\n",
      "got ['we', 'like', 'proper', 'English']\n",
      "set to ['and', 'we', 'can', 'not', 'lie'] \n",
      "\n",
      "after, outer_list = ['we', 'like', 'proper', 'English']\n"
     ]
    }
   ],
   "source": [
    "def try_to_change_list_reference(the_list):\n",
    "    print('got', the_list)\n",
    "    the_list = ['and', 'we', 'can', 'not', 'lie']\n",
    "    print('set to', the_list, '\\n')\n",
    "\n",
    "outer_list = ['we', 'like', 'proper', 'English']\n",
    "\n",
    "print('before, outer_list =', outer_list, '\\n')\n",
    "try_to_change_list_reference(outer_list)\n",
    "print('after, outer_list =', outer_list)"
   ]
  },
  {
   "cell_type": "markdown",
   "metadata": {},
   "source": [
    "__Задание:__ а затем вот это."
   ]
  },
  {
   "cell_type": "code",
   "execution_count": 59,
   "metadata": {},
   "outputs": [
    {
     "name": "stdout",
     "output_type": "stream",
     "text": [
      "before, outer_string = It was many and many a year ago \n",
      "\n",
      "got It was many and many a year ago\n",
      "set to In a kingdom by the sea \n",
      "\n",
      "after, outer_string = It was many and many a year ago\n"
     ]
    }
   ],
   "source": [
    "def try_to_change_string_reference(the_string):\n",
    "    print('got', the_string)\n",
    "    the_string = 'In a kingdom by the sea'\n",
    "    print('set to', the_string, '\\n')\n",
    "\n",
    "outer_string = 'It was many and many a year ago'\n",
    "\n",
    "print('before, outer_string =', outer_string, '\\n')\n",
    "try_to_change_string_reference(outer_string)\n",
    "print('after, outer_string =', outer_string)"
   ]
  },
  {
   "cell_type": "markdown",
   "metadata": {},
   "source": [
    "Методы для работы со списками: \n",
    "\n",
    "- `list.append(x)`\tДобавляет элемент в конец списка\n",
    "- `list.extend(L)`\tРасширяет список list, добавляя в конец все элементы списка L\n",
    "- `list.insert(i, x)`\tВставляет на i-ый элемент значение x\n",
    "- `list.remove(x)`\tУдаляет первый элемент в списке, имеющий значение x. ValueError, если такого элемента не существует\n",
    "- `list.pop([i])`\tУдаляет i-ый элемент и возвращает его. Если индекс не указан, удаляется последний элемент\n",
    "- `list.index(x, [start [, end]])`\tВозвращает положение первого элемента со значением x (при этом поиск ведется от start до end)\n",
    "- `list.count(x)`\tВозвращает количество элементов со значением x\n",
    "- `list.sort([key=функция])`\tСортирует список на основе функции\n",
    "- `list.reverse()`\tРазворачивает список\n",
    "- `list.copy()`\tПоверхностная копия списка\n",
    "- `list.clear()`\tОчищает список"
   ]
  },
  {
   "cell_type": "markdown",
   "metadata": {},
   "source": [
    "__Задание:__ Объясните кусок кода ниже"
   ]
  },
  {
   "cell_type": "code",
   "execution_count": 62,
   "metadata": {},
   "outputs": [
    {
     "data": {
      "text/plain": [
       "[0, 2, 4, 6, 8, 10, 12, 14, 16, 18]"
      ]
     },
     "execution_count": 62,
     "metadata": {},
     "output_type": "execute_result"
    }
   ],
   "source": [
    "My_list = [ ]\n",
    "\n",
    "for i in range(0, 20, 2):\n",
    "    My_list.append(i)\n",
    "    \n",
    "My_list"
   ]
  },
  {
   "cell_type": "code",
   "execution_count": 63,
   "metadata": {},
   "outputs": [
    {
     "data": {
      "text/plain": [
       "1"
      ]
     },
     "execution_count": 63,
     "metadata": {},
     "output_type": "execute_result"
    }
   ],
   "source": [
    "My_list.count(2)"
   ]
  },
  {
   "cell_type": "code",
   "execution_count": 65,
   "metadata": {},
   "outputs": [
    {
     "data": {
      "text/plain": [
       "(5, 10)"
      ]
     },
     "execution_count": 65,
     "metadata": {},
     "output_type": "execute_result"
    }
   ],
   "source": [
    "My_list.index(10), My_list[5]"
   ]
  },
  {
   "cell_type": "code",
   "execution_count": 67,
   "metadata": {},
   "outputs": [
    {
     "data": {
      "text/plain": [
       "[0, 2, 4, 6, 8, 5, 5, 10, 12, 14, 16, 18]"
      ]
     },
     "execution_count": 67,
     "metadata": {},
     "output_type": "execute_result"
    }
   ],
   "source": [
    "My_list.insert(5, 5)\n",
    "My_list"
   ]
  },
  {
   "cell_type": "code",
   "execution_count": 68,
   "metadata": {},
   "outputs": [
    {
     "data": {
      "text/plain": [
       "[0, 2, 4, 6, 8, 5, 5, 10, 12, 14, 16]"
      ]
     },
     "execution_count": 68,
     "metadata": {},
     "output_type": "execute_result"
    }
   ],
   "source": [
    "My_list.pop()\n",
    "My_list"
   ]
  },
  {
   "cell_type": "code",
   "execution_count": 70,
   "metadata": {},
   "outputs": [
    {
     "data": {
      "text/plain": [
       "[16, 14, 12, 10, 8, 6, 5, 5, 4, 2, 0]"
      ]
     },
     "execution_count": 70,
     "metadata": {},
     "output_type": "execute_result"
    }
   ],
   "source": [
    "My_list.sort(reverse=True)\n",
    "My_list"
   ]
  },
  {
   "cell_type": "code",
   "execution_count": 73,
   "metadata": {},
   "outputs": [
    {
     "data": {
      "text/plain": [
       "[0, 2, 4, 5, 5, 6, 8, 10, 12, 14, 16]"
      ]
     },
     "execution_count": 73,
     "metadata": {},
     "output_type": "execute_result"
    }
   ],
   "source": [
    "My_list.reverse()\n",
    "My_list"
   ]
  },
  {
   "cell_type": "code",
   "execution_count": 77,
   "metadata": {},
   "outputs": [
    {
     "data": {
      "text/plain": [
       "[8, 10, 12, 14]"
      ]
     },
     "execution_count": 77,
     "metadata": {},
     "output_type": "execute_result"
    }
   ],
   "source": [
    "My_list[-5:-1]"
   ]
  },
  {
   "cell_type": "code",
   "execution_count": null,
   "metadata": {},
   "outputs": [],
   "source": []
  },
  {
   "cell_type": "code",
   "execution_count": null,
   "metadata": {},
   "outputs": [],
   "source": []
  },
  {
   "cell_type": "markdown",
   "metadata": {},
   "source": [
    "# Упражнения 1"
   ]
  },
  {
   "cell_type": "markdown",
   "metadata": {},
   "source": [
    "### Задача 1\n",
    "\n",
    "N хоббитов делят K кусков эльфийского хлеба поровну, не делящийся остаток остается в корзинке у Сэма. <br />\n",
    "1) Сколько кусков эльфиского хлеба достанется каждому хоббиту?<br />\n",
    "2) Сколько останется в корзинке?\n",
    "\n",
    "**Образец**\n",
    "\n",
    "Входные данные:<br />\n",
    ">3<br />\n",
    "14<br />\n",
    "\n",
    "Вывод программы:\n",
    "\n",
    ">Каждому хоббиту достанется 4<br />\n",
    "В корзине останется 2"
   ]
  },
  {
   "cell_type": "code",
   "execution_count": 7,
   "metadata": {},
   "outputs": [
    {
     "name": "stdout",
     "output_type": "stream",
     "text": [
      "каждому хоббиту достанется 4 \n",
      "В корзине останется 2\n"
     ]
    }
   ],
   "source": [
    "n, k = 3, 14;\n",
    "print('каждому хоббиту достанется', k//n, '\\nВ корзине останется',k%n)"
   ]
  },
  {
   "cell_type": "markdown",
   "metadata": {},
   "source": [
    "### Задача 2 \n",
    "\n",
    "Хоббит хочет записать слово `python` 100 раз подряд. Помогите ему сделать это."
   ]
  },
  {
   "cell_type": "code",
   "execution_count": 13,
   "metadata": {},
   "outputs": [
    {
     "name": "stdout",
     "output_type": "stream",
     "text": [
      "python\n",
      "python\n",
      "python\n",
      "python\n",
      "python\n",
      "python\n",
      "python\n",
      "python\n",
      "python\n",
      "python\n",
      "python\n",
      "python\n",
      "python\n",
      "python\n",
      "python\n",
      "python\n",
      "python\n",
      "python\n",
      "python\n",
      "python\n",
      "python\n",
      "python\n",
      "python\n",
      "python\n",
      "python\n",
      "python\n",
      "python\n",
      "python\n",
      "python\n",
      "python\n",
      "python\n",
      "python\n",
      "python\n",
      "python\n",
      "python\n",
      "python\n",
      "python\n",
      "python\n",
      "python\n",
      "python\n",
      "python\n",
      "python\n",
      "python\n",
      "python\n",
      "python\n",
      "python\n",
      "python\n",
      "python\n",
      "python\n",
      "python\n",
      "python\n",
      "python\n",
      "python\n",
      "python\n",
      "python\n",
      "python\n",
      "python\n",
      "python\n",
      "python\n",
      "python\n",
      "python\n",
      "python\n",
      "python\n",
      "python\n",
      "python\n",
      "python\n",
      "python\n",
      "python\n",
      "python\n",
      "python\n",
      "python\n",
      "python\n",
      "python\n",
      "python\n",
      "python\n",
      "python\n",
      "python\n",
      "python\n",
      "python\n",
      "python\n",
      "python\n",
      "python\n",
      "python\n",
      "python\n",
      "python\n",
      "python\n",
      "python\n",
      "python\n",
      "python\n",
      "python\n",
      "python\n",
      "python\n",
      "python\n",
      "python\n",
      "python\n",
      "python\n",
      "python\n",
      "python\n",
      "python\n",
      "python\n",
      "\n"
     ]
    }
   ],
   "source": [
    "print(100 * [\"python\\n\"][0])"
   ]
  },
  {
   "cell_type": "markdown",
   "metadata": {},
   "source": [
    "### Задача 3 \n",
    "\n",
    "Хоббит посчитал число $179^{10}$ и записал это число четыре раза подряд. Из получившегося числа он извлёк корень степени $10$. Сколько вышло у Хоббита в итоге?"
   ]
  },
  {
   "cell_type": "code",
   "execution_count": 63,
   "metadata": {},
   "outputs": [
    {
     "data": {
      "text/plain": [
       "1421847540.1564655"
      ]
     },
     "execution_count": 63,
     "metadata": {},
     "output_type": "execute_result"
    }
   ],
   "source": [
    "import math\n",
    "def power(x, y, n, pwr):\n",
    "    k = m = l = math.pow(x, y) \n",
    "    p = 1\n",
    "    while k//10 > 0:\n",
    "        p *= 10\n",
    "        k = k//10\n",
    "    for i in range(n-1):\n",
    "        l = l*p*10 + m\n",
    "    return math.pow(l, 1/pwr)\n",
    "power(179, 10, 4, 10)\n",
    "\n",
    "\n",
    "    "
   ]
  },
  {
   "cell_type": "markdown",
   "metadata": {},
   "source": [
    "### Задача 4\n",
    "\n",
    "Для могущественного магического ритуала Гендальфу необходимо быстро подсчитывать площадь своего амулета, который умеет менять размеры. Известно, что амулет имеет форму треугольника и Гендальф знает длину каждой из сторон. Напишите функцию, которая считает площадь амулета по трем сторонам. Стороны вводятся вне функции. <br /> \n",
    "Подсказка: используйте формулу Герона\n",
    "$$ S = \\sqrt{p(p-a)(p-b)(p-c)} $$\n",
    "$$ p = \\frac{a + b + c}{2}$$\n",
    "**Образец**\n",
    "\n",
    "Входные данные:<br />\n",
    "3\n",
    "4\n",
    "5\n",
    "\n",
    "Вывод программы: <br />\n",
    "6"
   ]
  },
  {
   "cell_type": "code",
   "execution_count": 53,
   "metadata": {},
   "outputs": [
    {
     "data": {
      "text/plain": [
       "6.0"
      ]
     },
     "execution_count": 53,
     "metadata": {},
     "output_type": "execute_result"
    }
   ],
   "source": [
    "def square(a, b, c):\n",
    "    p = (a + b + c) / 2\n",
    "    return math.sqrt(p*(p - a)*(p-b)*(p-c))\n",
    "square(3, 4, 5)\n",
    "    "
   ]
  },
  {
   "cell_type": "code",
   "execution_count": null,
   "metadata": {},
   "outputs": [],
   "source": []
  },
  {
   "cell_type": "markdown",
   "metadata": {},
   "source": [
    "### Задача 1\n",
    "\n",
    "<img src=\"http://i0.kym-cdn.com/photos/images/original/001/187/255/5e9.gif\" width=300>\n",
    "\n",
    "В копях Мории хоббиты нашли стену, на которой высечены разные натуральные числа. Согласно древним сказаниям, это даты сражений. Но великие сражения происходили только по високосным годам. Помогите хоббитам определить, является ли год с данным числом датой великого сражения. Если это так, то выведите YOU SHALL PASS, иначе выведите YOU SHALL NOT PASS. Напомним, что в соответствии с хоббитским календарем, год является високосным, если его номер кратен 4, но не кратен 100, а также если он кратен 400.\n",
    "\n",
    "**Образец**\n",
    "\n",
    "Входные данные:<br />\n",
    "4<br />\n",
    "\n",
    "Вывод программы: <br />\n",
    "YOU SHALL PASS"
   ]
  },
  {
   "cell_type": "code",
   "execution_count": 2,
   "metadata": {},
   "outputs": [
    {
     "name": "stdout",
     "output_type": "stream",
     "text": [
      "YOU SHALL NOT PASS\n"
     ]
    }
   ],
   "source": [
    "year = 2014\n",
    "\n",
    "# Вариант 1 (if - elif - else)\n",
    "if year % 4 == 0 and year % 100 != 0:\n",
    "    print(\"YOU SHALL PASS\")\n",
    "elif year % 100 == 0:\n",
    "    print(\"YOU SHALL PASS\")\n",
    "else:\n",
    "    print(\"YOU SHALL NOT PASS\")"
   ]
  },
  {
   "cell_type": "code",
   "execution_count": 3,
   "metadata": {},
   "outputs": [
    {
     "name": "stdout",
     "output_type": "stream",
     "text": [
      "YOU SHALL NOT PASS\n"
     ]
    }
   ],
   "source": [
    "# Вариант 2 (покороче)\n",
    "if (year % 4 == 0 and year % 100 != 0) or year % 100 == 0:\n",
    "    print(\"YOU SHALL PASS\")\n",
    "else:\n",
    "    print(\"YOU SHALL NOT PASS\")"
   ]
  },
  {
   "cell_type": "markdown",
   "metadata": {},
   "source": [
    "###  Задача 2\n",
    "\n",
    "По данному целому числу N найдите квадраты всех чисел, предшествующих N (включая N), в порядке убывания. Сделайте это как минимум двумя способами. (Никто не знает, зачем это понадобилось хоббитам).\n",
    "\n",
    "**Образец**\n",
    "\n",
    "Входные данные: <br />\n",
    "3\n",
    "\n",
    "Вывод программы: <br />\n",
    "9<br />\n",
    "4<br />\n",
    "1<br />"
   ]
  },
  {
   "cell_type": "code",
   "execution_count": 4,
   "metadata": {},
   "outputs": [
    {
     "name": "stdout",
     "output_type": "stream",
     "text": [
      "25\n",
      "16\n",
      "9\n",
      "4\n",
      "1\n"
     ]
    }
   ],
   "source": [
    "number = 5\n",
    "\n",
    "while number > 0:\n",
    "    print(number ** 2)\n",
    "    number = number - 1 # эквивалентная запись в питоне:  nummber -= 1"
   ]
  },
  {
   "cell_type": "code",
   "execution_count": 5,
   "metadata": {},
   "outputs": [
    {
     "name": "stdout",
     "output_type": "stream",
     "text": [
      "25\n",
      "16\n",
      "9\n",
      "4\n",
      "1\n"
     ]
    }
   ],
   "source": [
    "number = 5\n",
    "\n",
    "for i in range(number):\n",
    "    print((number-i)**2)"
   ]
  },
  {
   "cell_type": "code",
   "execution_count": 67,
   "metadata": {},
   "outputs": [
    {
     "data": {
      "text/plain": [
       "[25, 16, 9, 4, 1]"
      ]
     },
     "execution_count": 67,
     "metadata": {},
     "output_type": "execute_result"
    }
   ],
   "source": [
    "n = 5\n",
    "\n",
    "[(n - i)**2 for i in range(n)]"
   ]
  },
  {
   "cell_type": "markdown",
   "metadata": {},
   "source": [
    "### Задачка 3\n",
    "\n",
    "Каждый год какой-нибудь чёрный маг находит кольцо всевластья и начинает собирать разрушительные орды орков. К концу год обычно этого мага разбивают. Хоббиты записывают сколько орд удаётся собрать магу в список. Старшему хоббиту стало интересно какое максимальное число орд за последнее время собрал чёрный маг. Помогите ему найти ответ без использования команды `max`. Она проклята. Но зато можно использовать циклы и условия. Энты говорят, что они священны."
   ]
  },
  {
   "cell_type": "code",
   "execution_count": 7,
   "metadata": {},
   "outputs": [],
   "source": [
    "orda = [2, 4, 5, 6, 9, 8, 1, 0, 3, 2]"
   ]
  },
  {
   "cell_type": "code",
   "execution_count": 8,
   "metadata": {},
   "outputs": [
    {
     "name": "stdout",
     "output_type": "stream",
     "text": [
      "9\n"
     ]
    }
   ],
   "source": [
    "mx = orda[0]\n",
    "\n",
    "for item in orda[1:]:\n",
    "    if item > mx:\n",
    "        mx = item \n",
    "\n",
    "print(mx)"
   ]
  },
  {
   "cell_type": "markdown",
   "metadata": {},
   "source": [
    "## 2. Библиотека Pandas\n",
    "\n",
    "\n",
    "![](http://tripkendall.com/wp-content/uploads/2018/01/pandas_logo-1080x675.jpg)\n",
    "\n",
    " - [Pandas](http://pandas.pydata.org/) - библиотека для обработки и анализа данных.\n",
    " \n",
    "Загрузка любой библиотеки выглядит следующим образом: <br /> \n",
    "**import** название [**as** псевдоним]\n",
    "\n",
    "Обычно список импортируемых библиотек задается в самом начале ноутбука, но мы тут с вами повторяли всякое былое, поэтому импортируем, где придется"
   ]
  },
  {
   "cell_type": "code",
   "execution_count": 15,
   "metadata": {},
   "outputs": [
    {
     "name": "stdout",
     "output_type": "stream",
     "text": [
      "The Zen of Python, by Tim Peters\n",
      "\n",
      "Beautiful is better than ugly.\n",
      "Explicit is better than implicit.\n",
      "Simple is better than complex.\n",
      "Complex is better than complicated.\n",
      "Flat is better than nested.\n",
      "Sparse is better than dense.\n",
      "Readability counts.\n",
      "Special cases aren't special enough to break the rules.\n",
      "Although practicality beats purity.\n",
      "Errors should never pass silently.\n",
      "Unless explicitly silenced.\n",
      "In the face of ambiguity, refuse the temptation to guess.\n",
      "There should be one-- and preferably only one --obvious way to do it.\n",
      "Although that way may not be obvious at first unless you're Dutch.\n",
      "Now is better than never.\n",
      "Although never is often better than *right* now.\n",
      "If the implementation is hard to explain, it's a bad idea.\n",
      "If the implementation is easy to explain, it may be a good idea.\n",
      "Namespaces are one honking great idea -- let's do more of those!\n"
     ]
    }
   ],
   "source": [
    "# для начала импортируем одну замечательную библиотеку\n",
    "import this"
   ]
  },
  {
   "cell_type": "code",
   "execution_count": 16,
   "metadata": {},
   "outputs": [],
   "source": [
    "# загрузили библиотеку и задали ее псевдоним, по которому далее к ней будем обращаться: pd\n",
    "import pandas as pd"
   ]
  },
  {
   "cell_type": "code",
   "execution_count": 17,
   "metadata": {},
   "outputs": [],
   "source": [
    "# команда, чтобы картинки прорисовывались прямо в jupyter\n",
    "%matplotlib inline"
   ]
  },
  {
   "cell_type": "code",
   "execution_count": 18,
   "metadata": {},
   "outputs": [
    {
     "name": "stdout",
     "output_type": "stream",
     "text": [
      "0.23.4\n"
     ]
    }
   ],
   "source": [
    "# посмотрим на версию библиотеки\n",
    "print(pd.__version__)"
   ]
  },
  {
   "cell_type": "markdown",
   "metadata": {},
   "source": [
    "Загружаем табличку с данными."
   ]
  },
  {
   "cell_type": "code",
   "execution_count": 19,
   "metadata": {
    "scrolled": true
   },
   "outputs": [],
   "source": [
    "data = pd.read_csv('Pandas - Q1 Sales.csv')"
   ]
  },
  {
   "cell_type": "markdown",
   "metadata": {},
   "source": [
    "Выведем первые строки."
   ]
  },
  {
   "cell_type": "code",
   "execution_count": 20,
   "metadata": {},
   "outputs": [
    {
     "data": {
      "text/html": [
       "<div>\n",
       "<style scoped>\n",
       "    .dataframe tbody tr th:only-of-type {\n",
       "        vertical-align: middle;\n",
       "    }\n",
       "\n",
       "    .dataframe tbody tr th {\n",
       "        vertical-align: top;\n",
       "    }\n",
       "\n",
       "    .dataframe thead th {\n",
       "        text-align: right;\n",
       "    }\n",
       "</style>\n",
       "<table border=\"1\" class=\"dataframe\">\n",
       "  <thead>\n",
       "    <tr style=\"text-align: right;\">\n",
       "      <th></th>\n",
       "      <th>Country</th>\n",
       "      <th>Region</th>\n",
       "      <th>Sales Person</th>\n",
       "      <th>Date of Purchase</th>\n",
       "      <th>Total</th>\n",
       "      <th>Quantity</th>\n",
       "    </tr>\n",
       "  </thead>\n",
       "  <tbody>\n",
       "    <tr>\n",
       "      <th>0</th>\n",
       "      <td>India</td>\n",
       "      <td>North</td>\n",
       "      <td>John</td>\n",
       "      <td>2/1/2012 0:00:00</td>\n",
       "      <td>100000</td>\n",
       "      <td>567</td>\n",
       "    </tr>\n",
       "    <tr>\n",
       "      <th>1</th>\n",
       "      <td>US</td>\n",
       "      <td>North</td>\n",
       "      <td>Bill</td>\n",
       "      <td>4/16/2012 0:00:00</td>\n",
       "      <td>120000</td>\n",
       "      <td>3000</td>\n",
       "    </tr>\n",
       "    <tr>\n",
       "      <th>2</th>\n",
       "      <td>UK</td>\n",
       "      <td>North</td>\n",
       "      <td>Thomas</td>\n",
       "      <td>7/31/2014 0:00:00</td>\n",
       "      <td>140000</td>\n",
       "      <td>345</td>\n",
       "    </tr>\n",
       "    <tr>\n",
       "      <th>3</th>\n",
       "      <td>Australia</td>\n",
       "      <td>East</td>\n",
       "      <td>John</td>\n",
       "      <td>11/24/2012 0:00:00</td>\n",
       "      <td>160000</td>\n",
       "      <td>1000</td>\n",
       "    </tr>\n",
       "    <tr>\n",
       "      <th>4</th>\n",
       "      <td>Africa</td>\n",
       "      <td>East</td>\n",
       "      <td>Bill</td>\n",
       "      <td>6/11/2012 0:00:00</td>\n",
       "      <td>180000</td>\n",
       "      <td>123</td>\n",
       "    </tr>\n",
       "  </tbody>\n",
       "</table>\n",
       "</div>"
      ],
      "text/plain": [
       "     Country Region Sales Person    Date of Purchase   Total  Quantity\n",
       "0      India  North         John    2/1/2012 0:00:00  100000       567\n",
       "1         US  North         Bill   4/16/2012 0:00:00  120000      3000\n",
       "2         UK  North       Thomas   7/31/2014 0:00:00  140000       345\n",
       "3  Australia   East         John  11/24/2012 0:00:00  160000      1000\n",
       "4     Africa   East         Bill   6/11/2012 0:00:00  180000       123"
      ]
     },
     "execution_count": 20,
     "metadata": {},
     "output_type": "execute_result"
    }
   ],
   "source": [
    "data.head()"
   ]
  },
  {
   "cell_type": "markdown",
   "metadata": {},
   "source": [
    "Посмотрим на типы колонок, которые есть в нашей таблице."
   ]
  },
  {
   "cell_type": "code",
   "execution_count": 21,
   "metadata": {},
   "outputs": [
    {
     "name": "stdout",
     "output_type": "stream",
     "text": [
      "<class 'pandas.core.frame.DataFrame'>\n",
      "RangeIndex: 20 entries, 0 to 19\n",
      "Data columns (total 6 columns):\n",
      "Country             20 non-null object\n",
      "Region              20 non-null object\n",
      "Sales Person        20 non-null object\n",
      "Date of Purchase    20 non-null object\n",
      "Total               20 non-null int64\n",
      "Quantity            20 non-null int64\n",
      "dtypes: int64(2), object(4)\n",
      "memory usage: 1.0+ KB\n"
     ]
    }
   ],
   "source": [
    "data.info()"
   ]
  },
  {
   "cell_type": "markdown",
   "metadata": {},
   "source": [
    "С такой же лёгкостью можно посмотреть на описательные статистики. Но про низ мы будем говорить через пару. "
   ]
  },
  {
   "cell_type": "code",
   "execution_count": 22,
   "metadata": {},
   "outputs": [
    {
     "data": {
      "text/html": [
       "<div>\n",
       "<style scoped>\n",
       "    .dataframe tbody tr th:only-of-type {\n",
       "        vertical-align: middle;\n",
       "    }\n",
       "\n",
       "    .dataframe tbody tr th {\n",
       "        vertical-align: top;\n",
       "    }\n",
       "\n",
       "    .dataframe thead th {\n",
       "        text-align: right;\n",
       "    }\n",
       "</style>\n",
       "<table border=\"1\" class=\"dataframe\">\n",
       "  <thead>\n",
       "    <tr style=\"text-align: right;\">\n",
       "      <th></th>\n",
       "      <th>Total</th>\n",
       "      <th>Quantity</th>\n",
       "    </tr>\n",
       "  </thead>\n",
       "  <tbody>\n",
       "    <tr>\n",
       "      <th>count</th>\n",
       "      <td>2.000000e+01</td>\n",
       "      <td>20.000000</td>\n",
       "    </tr>\n",
       "    <tr>\n",
       "      <th>mean</th>\n",
       "      <td>1.502500e+06</td>\n",
       "      <td>977.900000</td>\n",
       "    </tr>\n",
       "    <tr>\n",
       "      <th>std</th>\n",
       "      <td>5.769280e+06</td>\n",
       "      <td>1761.923497</td>\n",
       "    </tr>\n",
       "    <tr>\n",
       "      <th>min</th>\n",
       "      <td>1.000000e+05</td>\n",
       "      <td>85.000000</td>\n",
       "    </tr>\n",
       "    <tr>\n",
       "      <th>25%</th>\n",
       "      <td>1.400000e+05</td>\n",
       "      <td>90.000000</td>\n",
       "    </tr>\n",
       "    <tr>\n",
       "      <th>50%</th>\n",
       "      <td>1.700000e+05</td>\n",
       "      <td>505.500000</td>\n",
       "    </tr>\n",
       "    <tr>\n",
       "      <th>75%</th>\n",
       "      <td>2.250000e+05</td>\n",
       "      <td>1000.000000</td>\n",
       "    </tr>\n",
       "    <tr>\n",
       "      <th>max</th>\n",
       "      <td>2.600000e+07</td>\n",
       "      <td>7890.000000</td>\n",
       "    </tr>\n",
       "  </tbody>\n",
       "</table>\n",
       "</div>"
      ],
      "text/plain": [
       "              Total     Quantity\n",
       "count  2.000000e+01    20.000000\n",
       "mean   1.502500e+06   977.900000\n",
       "std    5.769280e+06  1761.923497\n",
       "min    1.000000e+05    85.000000\n",
       "25%    1.400000e+05    90.000000\n",
       "50%    1.700000e+05   505.500000\n",
       "75%    2.250000e+05  1000.000000\n",
       "max    2.600000e+07  7890.000000"
      ]
     },
     "execution_count": 22,
     "metadata": {},
     "output_type": "execute_result"
    }
   ],
   "source": [
    "data.describe()"
   ]
  },
  {
   "cell_type": "markdown",
   "metadata": {},
   "source": [
    "Посмотрим на список уникальных стран, которые есть в таблице:"
   ]
  },
  {
   "cell_type": "code",
   "execution_count": 23,
   "metadata": {},
   "outputs": [
    {
     "data": {
      "text/plain": [
       "array(['India', 'US', 'UK', 'Australia', 'Africa', 'Singapore', 'Mylasia'],\n",
       "      dtype=object)"
      ]
     },
     "execution_count": 23,
     "metadata": {},
     "output_type": "execute_result"
    }
   ],
   "source": [
    "data['Country'].unique()"
   ]
  },
  {
   "cell_type": "markdown",
   "metadata": {},
   "source": [
    "Мы можем тут же создать новую переменную, которая объединяет страну и регион."
   ]
  },
  {
   "cell_type": "code",
   "execution_count": 24,
   "metadata": {},
   "outputs": [],
   "source": [
    "data['Subregion'] = [x+'_'+y for x,y in zip(data['Region'], data['Country'])]"
   ]
  },
  {
   "cell_type": "markdown",
   "metadata": {},
   "source": [
    "В табличке появилась новая колонка."
   ]
  },
  {
   "cell_type": "code",
   "execution_count": 25,
   "metadata": {
    "scrolled": true
   },
   "outputs": [
    {
     "data": {
      "text/html": [
       "<div>\n",
       "<style scoped>\n",
       "    .dataframe tbody tr th:only-of-type {\n",
       "        vertical-align: middle;\n",
       "    }\n",
       "\n",
       "    .dataframe tbody tr th {\n",
       "        vertical-align: top;\n",
       "    }\n",
       "\n",
       "    .dataframe thead th {\n",
       "        text-align: right;\n",
       "    }\n",
       "</style>\n",
       "<table border=\"1\" class=\"dataframe\">\n",
       "  <thead>\n",
       "    <tr style=\"text-align: right;\">\n",
       "      <th></th>\n",
       "      <th>Country</th>\n",
       "      <th>Region</th>\n",
       "      <th>Sales Person</th>\n",
       "      <th>Date of Purchase</th>\n",
       "      <th>Total</th>\n",
       "      <th>Quantity</th>\n",
       "      <th>Subregion</th>\n",
       "    </tr>\n",
       "  </thead>\n",
       "  <tbody>\n",
       "    <tr>\n",
       "      <th>0</th>\n",
       "      <td>India</td>\n",
       "      <td>North</td>\n",
       "      <td>John</td>\n",
       "      <td>2/1/2012 0:00:00</td>\n",
       "      <td>100000</td>\n",
       "      <td>567</td>\n",
       "      <td>North_India</td>\n",
       "    </tr>\n",
       "    <tr>\n",
       "      <th>1</th>\n",
       "      <td>US</td>\n",
       "      <td>North</td>\n",
       "      <td>Bill</td>\n",
       "      <td>4/16/2012 0:00:00</td>\n",
       "      <td>120000</td>\n",
       "      <td>3000</td>\n",
       "      <td>North_US</td>\n",
       "    </tr>\n",
       "    <tr>\n",
       "      <th>2</th>\n",
       "      <td>UK</td>\n",
       "      <td>North</td>\n",
       "      <td>Thomas</td>\n",
       "      <td>7/31/2014 0:00:00</td>\n",
       "      <td>140000</td>\n",
       "      <td>345</td>\n",
       "      <td>North_UK</td>\n",
       "    </tr>\n",
       "    <tr>\n",
       "      <th>3</th>\n",
       "      <td>Australia</td>\n",
       "      <td>East</td>\n",
       "      <td>John</td>\n",
       "      <td>11/24/2012 0:00:00</td>\n",
       "      <td>160000</td>\n",
       "      <td>1000</td>\n",
       "      <td>East_Australia</td>\n",
       "    </tr>\n",
       "    <tr>\n",
       "      <th>4</th>\n",
       "      <td>Africa</td>\n",
       "      <td>East</td>\n",
       "      <td>Bill</td>\n",
       "      <td>6/11/2012 0:00:00</td>\n",
       "      <td>180000</td>\n",
       "      <td>123</td>\n",
       "      <td>East_Africa</td>\n",
       "    </tr>\n",
       "  </tbody>\n",
       "</table>\n",
       "</div>"
      ],
      "text/plain": [
       "     Country Region Sales Person    Date of Purchase   Total  Quantity  \\\n",
       "0      India  North         John    2/1/2012 0:00:00  100000       567   \n",
       "1         US  North         Bill   4/16/2012 0:00:00  120000      3000   \n",
       "2         UK  North       Thomas   7/31/2014 0:00:00  140000       345   \n",
       "3  Australia   East         John  11/24/2012 0:00:00  160000      1000   \n",
       "4     Africa   East         Bill   6/11/2012 0:00:00  180000       123   \n",
       "\n",
       "        Subregion  \n",
       "0     North_India  \n",
       "1        North_US  \n",
       "2        North_UK  \n",
       "3  East_Australia  \n",
       "4     East_Africa  "
      ]
     },
     "execution_count": 25,
     "metadata": {},
     "output_type": "execute_result"
    }
   ],
   "source": [
    "data.head()"
   ]
  },
  {
   "cell_type": "markdown",
   "metadata": {},
   "source": [
    "`Date of Purchase` имеет формат `str`, хотя очевидно, что это дата, давайте приведем его к формату даты: `datetime.datetime`."
   ]
  },
  {
   "cell_type": "code",
   "execution_count": 26,
   "metadata": {},
   "outputs": [],
   "source": [
    "# для этого нам понадобиться ещё один пакет, который позволяет работать с датами\n",
    "from datetime import datetime"
   ]
  },
  {
   "cell_type": "code",
   "execution_count": 27,
   "metadata": {},
   "outputs": [
    {
     "data": {
      "text/plain": [
       "[datetime.datetime(2012, 2, 1, 0, 0),\n",
       " datetime.datetime(2012, 4, 16, 0, 0),\n",
       " datetime.datetime(2014, 7, 31, 0, 0),\n",
       " datetime.datetime(2012, 11, 24, 0, 0),\n",
       " datetime.datetime(2012, 6, 11, 0, 0),\n",
       " datetime.datetime(2017, 4, 24, 0, 0),\n",
       " datetime.datetime(2013, 10, 18, 0, 0),\n",
       " datetime.datetime(2018, 8, 18, 0, 0),\n",
       " datetime.datetime(2013, 12, 25, 0, 0),\n",
       " datetime.datetime(2016, 4, 9, 0, 0),\n",
       " datetime.datetime(2010, 7, 29, 0, 0),\n",
       " datetime.datetime(2012, 6, 10, 0, 0),\n",
       " datetime.datetime(2018, 4, 24, 0, 0),\n",
       " datetime.datetime(2013, 6, 10, 0, 0),\n",
       " datetime.datetime(2014, 8, 17, 0, 0),\n",
       " datetime.datetime(2013, 8, 1, 0, 0),\n",
       " datetime.datetime(2011, 4, 28, 0, 0),\n",
       " datetime.datetime(2016, 10, 29, 0, 0),\n",
       " datetime.datetime(2015, 12, 14, 0, 0),\n",
       " datetime.datetime(2012, 1, 25, 0, 0)]"
      ]
     },
     "execution_count": 27,
     "metadata": {},
     "output_type": "execute_result"
    }
   ],
   "source": [
    "index_1 = [datetime.strptime(x, '%m/%d/%Y %H:%M:%S') for x in data['Date of Purchase']]\n",
    "\n",
    "# каждая строка это определенный день в формате (год, месяц, день, час, минута)\n",
    "index_1 "
   ]
  },
  {
   "cell_type": "code",
   "execution_count": 28,
   "metadata": {},
   "outputs": [
    {
     "data": {
      "text/plain": [
       "0    2012-02-01\n",
       "1    2012-04-16\n",
       "2    2014-07-31\n",
       "3    2012-11-24\n",
       "4    2012-06-11\n",
       "5    2017-04-24\n",
       "6    2013-10-18\n",
       "7    2018-08-18\n",
       "8    2013-12-25\n",
       "9    2016-04-09\n",
       "10   2010-07-29\n",
       "11   2012-06-10\n",
       "12   2018-04-24\n",
       "13   2013-06-10\n",
       "14   2014-08-17\n",
       "15   2013-08-01\n",
       "16   2011-04-28\n",
       "17   2016-10-29\n",
       "18   2015-12-14\n",
       "19   2012-01-25\n",
       "Name: Date of Purchase, dtype: datetime64[ns]"
      ]
     },
     "execution_count": 28,
     "metadata": {},
     "output_type": "execute_result"
    }
   ],
   "source": [
    "index_2 = data['Date of Purchase'].apply(lambda x: datetime.strptime(x, '%m/%d/%Y %H:%M:%S'))\n",
    "\n",
    "# переведём дату в более удобоваримый вид \n",
    "index_2"
   ]
  },
  {
   "cell_type": "code",
   "execution_count": 29,
   "metadata": {},
   "outputs": [
    {
     "data": {
      "text/html": [
       "<div>\n",
       "<style scoped>\n",
       "    .dataframe tbody tr th:only-of-type {\n",
       "        vertical-align: middle;\n",
       "    }\n",
       "\n",
       "    .dataframe tbody tr th {\n",
       "        vertical-align: top;\n",
       "    }\n",
       "\n",
       "    .dataframe thead th {\n",
       "        text-align: right;\n",
       "    }\n",
       "</style>\n",
       "<table border=\"1\" class=\"dataframe\">\n",
       "  <thead>\n",
       "    <tr style=\"text-align: right;\">\n",
       "      <th></th>\n",
       "      <th>Country</th>\n",
       "      <th>Region</th>\n",
       "      <th>Sales Person</th>\n",
       "      <th>Date of Purchase</th>\n",
       "      <th>Total</th>\n",
       "      <th>Quantity</th>\n",
       "      <th>Subregion</th>\n",
       "    </tr>\n",
       "    <tr>\n",
       "      <th>Date of Purchase</th>\n",
       "      <th></th>\n",
       "      <th></th>\n",
       "      <th></th>\n",
       "      <th></th>\n",
       "      <th></th>\n",
       "      <th></th>\n",
       "      <th></th>\n",
       "    </tr>\n",
       "  </thead>\n",
       "  <tbody>\n",
       "    <tr>\n",
       "      <th>2012-02-01</th>\n",
       "      <td>India</td>\n",
       "      <td>North</td>\n",
       "      <td>John</td>\n",
       "      <td>2/1/2012 0:00:00</td>\n",
       "      <td>100000</td>\n",
       "      <td>567</td>\n",
       "      <td>North_India</td>\n",
       "    </tr>\n",
       "    <tr>\n",
       "      <th>2012-04-16</th>\n",
       "      <td>US</td>\n",
       "      <td>North</td>\n",
       "      <td>Bill</td>\n",
       "      <td>4/16/2012 0:00:00</td>\n",
       "      <td>120000</td>\n",
       "      <td>3000</td>\n",
       "      <td>North_US</td>\n",
       "    </tr>\n",
       "    <tr>\n",
       "      <th>2014-07-31</th>\n",
       "      <td>UK</td>\n",
       "      <td>North</td>\n",
       "      <td>Thomas</td>\n",
       "      <td>7/31/2014 0:00:00</td>\n",
       "      <td>140000</td>\n",
       "      <td>345</td>\n",
       "      <td>North_UK</td>\n",
       "    </tr>\n",
       "    <tr>\n",
       "      <th>2012-11-24</th>\n",
       "      <td>Australia</td>\n",
       "      <td>East</td>\n",
       "      <td>John</td>\n",
       "      <td>11/24/2012 0:00:00</td>\n",
       "      <td>160000</td>\n",
       "      <td>1000</td>\n",
       "      <td>East_Australia</td>\n",
       "    </tr>\n",
       "    <tr>\n",
       "      <th>2012-06-11</th>\n",
       "      <td>Africa</td>\n",
       "      <td>East</td>\n",
       "      <td>Bill</td>\n",
       "      <td>6/11/2012 0:00:00</td>\n",
       "      <td>180000</td>\n",
       "      <td>123</td>\n",
       "      <td>East_Africa</td>\n",
       "    </tr>\n",
       "    <tr>\n",
       "      <th>2017-04-24</th>\n",
       "      <td>Singapore</td>\n",
       "      <td>East</td>\n",
       "      <td>Thomas</td>\n",
       "      <td>4/24/2017 0:00:00</td>\n",
       "      <td>200000</td>\n",
       "      <td>1000</td>\n",
       "      <td>East_Singapore</td>\n",
       "    </tr>\n",
       "    <tr>\n",
       "      <th>2013-10-18</th>\n",
       "      <td>Mylasia</td>\n",
       "      <td>West</td>\n",
       "      <td>John</td>\n",
       "      <td>10/18/2013 0:00:00</td>\n",
       "      <td>1000000</td>\n",
       "      <td>7890</td>\n",
       "      <td>West_Mylasia</td>\n",
       "    </tr>\n",
       "    <tr>\n",
       "      <th>2018-08-18</th>\n",
       "      <td>India</td>\n",
       "      <td>West</td>\n",
       "      <td>Bill</td>\n",
       "      <td>8/18/2018 0:00:00</td>\n",
       "      <td>240000</td>\n",
       "      <td>200</td>\n",
       "      <td>West_India</td>\n",
       "    </tr>\n",
       "    <tr>\n",
       "      <th>2013-12-25</th>\n",
       "      <td>US</td>\n",
       "      <td>West</td>\n",
       "      <td>Thomas</td>\n",
       "      <td>12/25/2013 0:00:00</td>\n",
       "      <td>26000000</td>\n",
       "      <td>1000</td>\n",
       "      <td>West_US</td>\n",
       "    </tr>\n",
       "    <tr>\n",
       "      <th>2016-04-09</th>\n",
       "      <td>UK</td>\n",
       "      <td>North</td>\n",
       "      <td>John</td>\n",
       "      <td>4/9/2016 0:00:00</td>\n",
       "      <td>100000</td>\n",
       "      <td>1000</td>\n",
       "      <td>North_UK</td>\n",
       "    </tr>\n",
       "  </tbody>\n",
       "</table>\n",
       "</div>"
      ],
      "text/plain": [
       "                    Country Region Sales Person    Date of Purchase     Total  \\\n",
       "Date of Purchase                                                                \n",
       "2012-02-01            India  North         John    2/1/2012 0:00:00    100000   \n",
       "2012-04-16               US  North         Bill   4/16/2012 0:00:00    120000   \n",
       "2014-07-31               UK  North       Thomas   7/31/2014 0:00:00    140000   \n",
       "2012-11-24        Australia   East         John  11/24/2012 0:00:00    160000   \n",
       "2012-06-11           Africa   East         Bill   6/11/2012 0:00:00    180000   \n",
       "2017-04-24        Singapore   East       Thomas   4/24/2017 0:00:00    200000   \n",
       "2013-10-18          Mylasia   West         John  10/18/2013 0:00:00   1000000   \n",
       "2018-08-18            India   West         Bill   8/18/2018 0:00:00    240000   \n",
       "2013-12-25               US   West       Thomas  12/25/2013 0:00:00  26000000   \n",
       "2016-04-09               UK  North         John    4/9/2016 0:00:00    100000   \n",
       "\n",
       "                  Quantity       Subregion  \n",
       "Date of Purchase                            \n",
       "2012-02-01             567     North_India  \n",
       "2012-04-16            3000        North_US  \n",
       "2014-07-31             345        North_UK  \n",
       "2012-11-24            1000  East_Australia  \n",
       "2012-06-11             123     East_Africa  \n",
       "2017-04-24            1000  East_Singapore  \n",
       "2013-10-18            7890    West_Mylasia  \n",
       "2018-08-18             200      West_India  \n",
       "2013-12-25            1000         West_US  \n",
       "2016-04-09            1000        North_UK  "
      ]
     },
     "execution_count": 29,
     "metadata": {},
     "output_type": "execute_result"
    }
   ],
   "source": [
    "data.index = index_2 # создадим у таблицы индекс, с ним удобно работать \n",
    "\n",
    "data.head(10)"
   ]
  },
  {
   "cell_type": "markdown",
   "metadata": {},
   "source": [
    "Пример обращения по индексу"
   ]
  },
  {
   "cell_type": "code",
   "execution_count": 30,
   "metadata": {},
   "outputs": [
    {
     "data": {
      "text/html": [
       "<div>\n",
       "<style scoped>\n",
       "    .dataframe tbody tr th:only-of-type {\n",
       "        vertical-align: middle;\n",
       "    }\n",
       "\n",
       "    .dataframe tbody tr th {\n",
       "        vertical-align: top;\n",
       "    }\n",
       "\n",
       "    .dataframe thead th {\n",
       "        text-align: right;\n",
       "    }\n",
       "</style>\n",
       "<table border=\"1\" class=\"dataframe\">\n",
       "  <thead>\n",
       "    <tr style=\"text-align: right;\">\n",
       "      <th></th>\n",
       "      <th>Country</th>\n",
       "      <th>Region</th>\n",
       "      <th>Sales Person</th>\n",
       "      <th>Date of Purchase</th>\n",
       "      <th>Total</th>\n",
       "      <th>Quantity</th>\n",
       "      <th>Subregion</th>\n",
       "    </tr>\n",
       "    <tr>\n",
       "      <th>Date of Purchase</th>\n",
       "      <th></th>\n",
       "      <th></th>\n",
       "      <th></th>\n",
       "      <th></th>\n",
       "      <th></th>\n",
       "      <th></th>\n",
       "      <th></th>\n",
       "    </tr>\n",
       "  </thead>\n",
       "  <tbody>\n",
       "    <tr>\n",
       "      <th>2012-02-01</th>\n",
       "      <td>India</td>\n",
       "      <td>North</td>\n",
       "      <td>John</td>\n",
       "      <td>2/1/2012 0:00:00</td>\n",
       "      <td>100000</td>\n",
       "      <td>567</td>\n",
       "      <td>North_India</td>\n",
       "    </tr>\n",
       "    <tr>\n",
       "      <th>2012-04-16</th>\n",
       "      <td>US</td>\n",
       "      <td>North</td>\n",
       "      <td>Bill</td>\n",
       "      <td>4/16/2012 0:00:00</td>\n",
       "      <td>120000</td>\n",
       "      <td>3000</td>\n",
       "      <td>North_US</td>\n",
       "    </tr>\n",
       "    <tr>\n",
       "      <th>2012-11-24</th>\n",
       "      <td>Australia</td>\n",
       "      <td>East</td>\n",
       "      <td>John</td>\n",
       "      <td>11/24/2012 0:00:00</td>\n",
       "      <td>160000</td>\n",
       "      <td>1000</td>\n",
       "      <td>East_Australia</td>\n",
       "    </tr>\n",
       "    <tr>\n",
       "      <th>2012-06-11</th>\n",
       "      <td>Africa</td>\n",
       "      <td>East</td>\n",
       "      <td>Bill</td>\n",
       "      <td>6/11/2012 0:00:00</td>\n",
       "      <td>180000</td>\n",
       "      <td>123</td>\n",
       "      <td>East_Africa</td>\n",
       "    </tr>\n",
       "    <tr>\n",
       "      <th>2010-07-29</th>\n",
       "      <td>Australia</td>\n",
       "      <td>North</td>\n",
       "      <td>Bill</td>\n",
       "      <td>7/29/2010 0:00:00</td>\n",
       "      <td>120000</td>\n",
       "      <td>567</td>\n",
       "      <td>North_Australia</td>\n",
       "    </tr>\n",
       "    <tr>\n",
       "      <th>2012-06-10</th>\n",
       "      <td>Africa</td>\n",
       "      <td>North</td>\n",
       "      <td>Thomas</td>\n",
       "      <td>6/10/2012 0:00:00</td>\n",
       "      <td>140000</td>\n",
       "      <td>1000</td>\n",
       "      <td>North_Africa</td>\n",
       "    </tr>\n",
       "    <tr>\n",
       "      <th>2011-04-28</th>\n",
       "      <td>UK</td>\n",
       "      <td>West</td>\n",
       "      <td>Bill</td>\n",
       "      <td>4/28/2011 0:00:00</td>\n",
       "      <td>240000</td>\n",
       "      <td>90</td>\n",
       "      <td>West_UK</td>\n",
       "    </tr>\n",
       "    <tr>\n",
       "      <th>2012-01-25</th>\n",
       "      <td>Singapore</td>\n",
       "      <td>North</td>\n",
       "      <td>Bill</td>\n",
       "      <td>1/25/2012 0:00:00</td>\n",
       "      <td>150000</td>\n",
       "      <td>85</td>\n",
       "      <td>North_Singapore</td>\n",
       "    </tr>\n",
       "  </tbody>\n",
       "</table>\n",
       "</div>"
      ],
      "text/plain": [
       "                    Country Region Sales Person    Date of Purchase   Total  \\\n",
       "Date of Purchase                                                              \n",
       "2012-02-01            India  North         John    2/1/2012 0:00:00  100000   \n",
       "2012-04-16               US  North         Bill   4/16/2012 0:00:00  120000   \n",
       "2012-11-24        Australia   East         John  11/24/2012 0:00:00  160000   \n",
       "2012-06-11           Africa   East         Bill   6/11/2012 0:00:00  180000   \n",
       "2010-07-29        Australia  North         Bill   7/29/2010 0:00:00  120000   \n",
       "2012-06-10           Africa  North       Thomas   6/10/2012 0:00:00  140000   \n",
       "2011-04-28               UK   West         Bill   4/28/2011 0:00:00  240000   \n",
       "2012-01-25        Singapore  North         Bill   1/25/2012 0:00:00  150000   \n",
       "\n",
       "                  Quantity        Subregion  \n",
       "Date of Purchase                             \n",
       "2012-02-01             567      North_India  \n",
       "2012-04-16            3000         North_US  \n",
       "2012-11-24            1000   East_Australia  \n",
       "2012-06-11             123      East_Africa  \n",
       "2010-07-29             567  North_Australia  \n",
       "2012-06-10            1000     North_Africa  \n",
       "2011-04-28              90          West_UK  \n",
       "2012-01-25              85  North_Singapore  "
      ]
     },
     "execution_count": 30,
     "metadata": {},
     "output_type": "execute_result"
    }
   ],
   "source": [
    "data[data.index < '2013'] # срез всех наблюдений, произошедших до 2013 года"
   ]
  },
  {
   "cell_type": "code",
   "execution_count": 31,
   "metadata": {},
   "outputs": [
    {
     "data": {
      "text/html": [
       "<div>\n",
       "<style scoped>\n",
       "    .dataframe tbody tr th:only-of-type {\n",
       "        vertical-align: middle;\n",
       "    }\n",
       "\n",
       "    .dataframe tbody tr th {\n",
       "        vertical-align: top;\n",
       "    }\n",
       "\n",
       "    .dataframe thead th {\n",
       "        text-align: right;\n",
       "    }\n",
       "</style>\n",
       "<table border=\"1\" class=\"dataframe\">\n",
       "  <thead>\n",
       "    <tr style=\"text-align: right;\">\n",
       "      <th></th>\n",
       "      <th>Country</th>\n",
       "      <th>Region</th>\n",
       "      <th>Sales Person</th>\n",
       "      <th>Date of Purchase</th>\n",
       "      <th>Total</th>\n",
       "      <th>Quantity</th>\n",
       "      <th>Subregion</th>\n",
       "    </tr>\n",
       "    <tr>\n",
       "      <th>Date of Purchase</th>\n",
       "      <th></th>\n",
       "      <th></th>\n",
       "      <th></th>\n",
       "      <th></th>\n",
       "      <th></th>\n",
       "      <th></th>\n",
       "      <th></th>\n",
       "    </tr>\n",
       "  </thead>\n",
       "  <tbody>\n",
       "    <tr>\n",
       "      <th>2013-10-18</th>\n",
       "      <td>Mylasia</td>\n",
       "      <td>West</td>\n",
       "      <td>John</td>\n",
       "      <td>10/18/2013 0:00:00</td>\n",
       "      <td>1000000</td>\n",
       "      <td>7890</td>\n",
       "      <td>West_Mylasia</td>\n",
       "    </tr>\n",
       "    <tr>\n",
       "      <th>2013-12-25</th>\n",
       "      <td>US</td>\n",
       "      <td>West</td>\n",
       "      <td>Thomas</td>\n",
       "      <td>12/25/2013 0:00:00</td>\n",
       "      <td>26000000</td>\n",
       "      <td>1000</td>\n",
       "      <td>West_US</td>\n",
       "    </tr>\n",
       "    <tr>\n",
       "      <th>2013-06-10</th>\n",
       "      <td>Mylasia</td>\n",
       "      <td>East</td>\n",
       "      <td>Bill</td>\n",
       "      <td>6/10/2013 0:00:00</td>\n",
       "      <td>180000</td>\n",
       "      <td>444</td>\n",
       "      <td>East_Mylasia</td>\n",
       "    </tr>\n",
       "    <tr>\n",
       "      <th>2013-08-01</th>\n",
       "      <td>US</td>\n",
       "      <td>West</td>\n",
       "      <td>John</td>\n",
       "      <td>8/1/2013 0:00:00</td>\n",
       "      <td>220000</td>\n",
       "      <td>90</td>\n",
       "      <td>West_US</td>\n",
       "    </tr>\n",
       "  </tbody>\n",
       "</table>\n",
       "</div>"
      ],
      "text/plain": [
       "                  Country Region Sales Person    Date of Purchase     Total  \\\n",
       "Date of Purchase                                                              \n",
       "2013-10-18        Mylasia   West         John  10/18/2013 0:00:00   1000000   \n",
       "2013-12-25             US   West       Thomas  12/25/2013 0:00:00  26000000   \n",
       "2013-06-10        Mylasia   East         Bill   6/10/2013 0:00:00    180000   \n",
       "2013-08-01             US   West         John    8/1/2013 0:00:00    220000   \n",
       "\n",
       "                  Quantity     Subregion  \n",
       "Date of Purchase                          \n",
       "2013-10-18            7890  West_Mylasia  \n",
       "2013-12-25            1000       West_US  \n",
       "2013-06-10             444  East_Mylasia  \n",
       "2013-08-01              90       West_US  "
      ]
     },
     "execution_count": 31,
     "metadata": {},
     "output_type": "execute_result"
    }
   ],
   "source": [
    "# наблюдения между 2013 и 2014\n",
    "data[(data.index < '2014') & (data.index > '2013')]"
   ]
  },
  {
   "cell_type": "code",
   "execution_count": 32,
   "metadata": {},
   "outputs": [
    {
     "data": {
      "text/html": [
       "<div>\n",
       "<style scoped>\n",
       "    .dataframe tbody tr th:only-of-type {\n",
       "        vertical-align: middle;\n",
       "    }\n",
       "\n",
       "    .dataframe tbody tr th {\n",
       "        vertical-align: top;\n",
       "    }\n",
       "\n",
       "    .dataframe thead th {\n",
       "        text-align: right;\n",
       "    }\n",
       "</style>\n",
       "<table border=\"1\" class=\"dataframe\">\n",
       "  <thead>\n",
       "    <tr style=\"text-align: right;\">\n",
       "      <th></th>\n",
       "      <th>Country</th>\n",
       "      <th>Region</th>\n",
       "      <th>Sales Person</th>\n",
       "      <th>Date of Purchase</th>\n",
       "      <th>Total</th>\n",
       "      <th>Quantity</th>\n",
       "      <th>Subregion</th>\n",
       "    </tr>\n",
       "    <tr>\n",
       "      <th>Date of Purchase</th>\n",
       "      <th></th>\n",
       "      <th></th>\n",
       "      <th></th>\n",
       "      <th></th>\n",
       "      <th></th>\n",
       "      <th></th>\n",
       "      <th></th>\n",
       "    </tr>\n",
       "  </thead>\n",
       "  <tbody>\n",
       "    <tr>\n",
       "      <th>2012-02-01</th>\n",
       "      <td>India</td>\n",
       "      <td>North</td>\n",
       "      <td>John</td>\n",
       "      <td>2/1/2012 0:00:00</td>\n",
       "      <td>100000</td>\n",
       "      <td>567</td>\n",
       "      <td>North_India</td>\n",
       "    </tr>\n",
       "    <tr>\n",
       "      <th>2012-04-16</th>\n",
       "      <td>US</td>\n",
       "      <td>North</td>\n",
       "      <td>Bill</td>\n",
       "      <td>4/16/2012 0:00:00</td>\n",
       "      <td>120000</td>\n",
       "      <td>3000</td>\n",
       "      <td>North_US</td>\n",
       "    </tr>\n",
       "    <tr>\n",
       "      <th>2012-11-24</th>\n",
       "      <td>Australia</td>\n",
       "      <td>East</td>\n",
       "      <td>John</td>\n",
       "      <td>11/24/2012 0:00:00</td>\n",
       "      <td>160000</td>\n",
       "      <td>1000</td>\n",
       "      <td>East_Australia</td>\n",
       "    </tr>\n",
       "    <tr>\n",
       "      <th>2012-06-11</th>\n",
       "      <td>Africa</td>\n",
       "      <td>East</td>\n",
       "      <td>Bill</td>\n",
       "      <td>6/11/2012 0:00:00</td>\n",
       "      <td>180000</td>\n",
       "      <td>123</td>\n",
       "      <td>East_Africa</td>\n",
       "    </tr>\n",
       "    <tr>\n",
       "      <th>2010-07-29</th>\n",
       "      <td>Australia</td>\n",
       "      <td>North</td>\n",
       "      <td>Bill</td>\n",
       "      <td>7/29/2010 0:00:00</td>\n",
       "      <td>120000</td>\n",
       "      <td>567</td>\n",
       "      <td>North_Australia</td>\n",
       "    </tr>\n",
       "    <tr>\n",
       "      <th>2012-06-10</th>\n",
       "      <td>Africa</td>\n",
       "      <td>North</td>\n",
       "      <td>Thomas</td>\n",
       "      <td>6/10/2012 0:00:00</td>\n",
       "      <td>140000</td>\n",
       "      <td>1000</td>\n",
       "      <td>North_Africa</td>\n",
       "    </tr>\n",
       "    <tr>\n",
       "      <th>2013-06-10</th>\n",
       "      <td>Mylasia</td>\n",
       "      <td>East</td>\n",
       "      <td>Bill</td>\n",
       "      <td>6/10/2013 0:00:00</td>\n",
       "      <td>180000</td>\n",
       "      <td>444</td>\n",
       "      <td>East_Mylasia</td>\n",
       "    </tr>\n",
       "    <tr>\n",
       "      <th>2011-04-28</th>\n",
       "      <td>UK</td>\n",
       "      <td>West</td>\n",
       "      <td>Bill</td>\n",
       "      <td>4/28/2011 0:00:00</td>\n",
       "      <td>240000</td>\n",
       "      <td>90</td>\n",
       "      <td>West_UK</td>\n",
       "    </tr>\n",
       "    <tr>\n",
       "      <th>2012-01-25</th>\n",
       "      <td>Singapore</td>\n",
       "      <td>North</td>\n",
       "      <td>Bill</td>\n",
       "      <td>1/25/2012 0:00:00</td>\n",
       "      <td>150000</td>\n",
       "      <td>85</td>\n",
       "      <td>North_Singapore</td>\n",
       "    </tr>\n",
       "  </tbody>\n",
       "</table>\n",
       "</div>"
      ],
      "text/plain": [
       "                    Country Region Sales Person    Date of Purchase   Total  \\\n",
       "Date of Purchase                                                              \n",
       "2012-02-01            India  North         John    2/1/2012 0:00:00  100000   \n",
       "2012-04-16               US  North         Bill   4/16/2012 0:00:00  120000   \n",
       "2012-11-24        Australia   East         John  11/24/2012 0:00:00  160000   \n",
       "2012-06-11           Africa   East         Bill   6/11/2012 0:00:00  180000   \n",
       "2010-07-29        Australia  North         Bill   7/29/2010 0:00:00  120000   \n",
       "2012-06-10           Africa  North       Thomas   6/10/2012 0:00:00  140000   \n",
       "2013-06-10          Mylasia   East         Bill   6/10/2013 0:00:00  180000   \n",
       "2011-04-28               UK   West         Bill   4/28/2011 0:00:00  240000   \n",
       "2012-01-25        Singapore  North         Bill   1/25/2012 0:00:00  150000   \n",
       "\n",
       "                  Quantity        Subregion  \n",
       "Date of Purchase                             \n",
       "2012-02-01             567      North_India  \n",
       "2012-04-16            3000         North_US  \n",
       "2012-11-24            1000   East_Australia  \n",
       "2012-06-11             123      East_Africa  \n",
       "2010-07-29             567  North_Australia  \n",
       "2012-06-10            1000     North_Africa  \n",
       "2013-06-10             444     East_Mylasia  \n",
       "2011-04-28              90          West_UK  \n",
       "2012-01-25              85  North_Singapore  "
      ]
     },
     "execution_count": 32,
     "metadata": {},
     "output_type": "execute_result"
    }
   ],
   "source": [
    "# наблюдения до конкретного дня\n",
    "data[data.index < '2013-07-20']"
   ]
  },
  {
   "cell_type": "markdown",
   "metadata": {},
   "source": [
    "Помимо обращения по индексу можно \"фильтровать\" по условию (маске)"
   ]
  },
  {
   "cell_type": "code",
   "execution_count": 33,
   "metadata": {},
   "outputs": [
    {
     "data": {
      "text/html": [
       "<div>\n",
       "<style scoped>\n",
       "    .dataframe tbody tr th:only-of-type {\n",
       "        vertical-align: middle;\n",
       "    }\n",
       "\n",
       "    .dataframe tbody tr th {\n",
       "        vertical-align: top;\n",
       "    }\n",
       "\n",
       "    .dataframe thead th {\n",
       "        text-align: right;\n",
       "    }\n",
       "</style>\n",
       "<table border=\"1\" class=\"dataframe\">\n",
       "  <thead>\n",
       "    <tr style=\"text-align: right;\">\n",
       "      <th></th>\n",
       "      <th>Country</th>\n",
       "      <th>Region</th>\n",
       "      <th>Sales Person</th>\n",
       "      <th>Date of Purchase</th>\n",
       "      <th>Total</th>\n",
       "      <th>Quantity</th>\n",
       "      <th>Subregion</th>\n",
       "    </tr>\n",
       "    <tr>\n",
       "      <th>Date of Purchase</th>\n",
       "      <th></th>\n",
       "      <th></th>\n",
       "      <th></th>\n",
       "      <th></th>\n",
       "      <th></th>\n",
       "      <th></th>\n",
       "      <th></th>\n",
       "    </tr>\n",
       "  </thead>\n",
       "  <tbody>\n",
       "    <tr>\n",
       "      <th>2012-02-01</th>\n",
       "      <td>India</td>\n",
       "      <td>North</td>\n",
       "      <td>John</td>\n",
       "      <td>2/1/2012 0:00:00</td>\n",
       "      <td>100000</td>\n",
       "      <td>567</td>\n",
       "      <td>North_India</td>\n",
       "    </tr>\n",
       "    <tr>\n",
       "      <th>2016-04-09</th>\n",
       "      <td>UK</td>\n",
       "      <td>North</td>\n",
       "      <td>John</td>\n",
       "      <td>4/9/2016 0:00:00</td>\n",
       "      <td>100000</td>\n",
       "      <td>1000</td>\n",
       "      <td>North_UK</td>\n",
       "    </tr>\n",
       "  </tbody>\n",
       "</table>\n",
       "</div>"
      ],
      "text/plain": [
       "                 Country Region Sales Person  Date of Purchase   Total  \\\n",
       "Date of Purchase                                                         \n",
       "2012-02-01         India  North         John  2/1/2012 0:00:00  100000   \n",
       "2016-04-09            UK  North         John  4/9/2016 0:00:00  100000   \n",
       "\n",
       "                  Quantity    Subregion  \n",
       "Date of Purchase                         \n",
       "2012-02-01             567  North_India  \n",
       "2016-04-09            1000     North_UK  "
      ]
     },
     "execution_count": 33,
     "metadata": {},
     "output_type": "execute_result"
    }
   ],
   "source": [
    "data[data['Total'] < 120000]"
   ]
  },
  {
   "cell_type": "code",
   "execution_count": 34,
   "metadata": {},
   "outputs": [
    {
     "data": {
      "text/html": [
       "<div>\n",
       "<style scoped>\n",
       "    .dataframe tbody tr th:only-of-type {\n",
       "        vertical-align: middle;\n",
       "    }\n",
       "\n",
       "    .dataframe tbody tr th {\n",
       "        vertical-align: top;\n",
       "    }\n",
       "\n",
       "    .dataframe thead th {\n",
       "        text-align: right;\n",
       "    }\n",
       "</style>\n",
       "<table border=\"1\" class=\"dataframe\">\n",
       "  <thead>\n",
       "    <tr style=\"text-align: right;\">\n",
       "      <th></th>\n",
       "      <th>Country</th>\n",
       "      <th>Region</th>\n",
       "      <th>Sales Person</th>\n",
       "      <th>Date of Purchase</th>\n",
       "      <th>Total</th>\n",
       "      <th>Quantity</th>\n",
       "      <th>Subregion</th>\n",
       "    </tr>\n",
       "    <tr>\n",
       "      <th>Date of Purchase</th>\n",
       "      <th></th>\n",
       "      <th></th>\n",
       "      <th></th>\n",
       "      <th></th>\n",
       "      <th></th>\n",
       "      <th></th>\n",
       "      <th></th>\n",
       "    </tr>\n",
       "  </thead>\n",
       "  <tbody>\n",
       "    <tr>\n",
       "      <th>2016-04-09</th>\n",
       "      <td>UK</td>\n",
       "      <td>North</td>\n",
       "      <td>John</td>\n",
       "      <td>4/9/2016 0:00:00</td>\n",
       "      <td>100000</td>\n",
       "      <td>1000</td>\n",
       "      <td>North_UK</td>\n",
       "    </tr>\n",
       "  </tbody>\n",
       "</table>\n",
       "</div>"
      ],
      "text/plain": [
       "                 Country Region Sales Person  Date of Purchase   Total  \\\n",
       "Date of Purchase                                                         \n",
       "2016-04-09            UK  North         John  4/9/2016 0:00:00  100000   \n",
       "\n",
       "                  Quantity Subregion  \n",
       "Date of Purchase                      \n",
       "2016-04-09            1000  North_UK  "
      ]
     },
     "execution_count": 34,
     "metadata": {},
     "output_type": "execute_result"
    }
   ],
   "source": [
    "data[(data['Total'] < 120000) & (data['Country']=='UK')]"
   ]
  },
  {
   "cell_type": "markdown",
   "metadata": {},
   "source": [
    "Если ничего не соответствует условиям, то вернется пустой dataframe"
   ]
  },
  {
   "cell_type": "code",
   "execution_count": 106,
   "metadata": {},
   "outputs": [
    {
     "data": {
      "text/html": [
       "<div>\n",
       "<style scoped>\n",
       "    .dataframe tbody tr th:only-of-type {\n",
       "        vertical-align: middle;\n",
       "    }\n",
       "\n",
       "    .dataframe tbody tr th {\n",
       "        vertical-align: top;\n",
       "    }\n",
       "\n",
       "    .dataframe thead th {\n",
       "        text-align: right;\n",
       "    }\n",
       "</style>\n",
       "<table border=\"1\" class=\"dataframe\">\n",
       "  <thead>\n",
       "    <tr style=\"text-align: right;\">\n",
       "      <th></th>\n",
       "      <th>Country</th>\n",
       "      <th>Region</th>\n",
       "      <th>Sales Person</th>\n",
       "      <th>Date of Purchase</th>\n",
       "      <th>Total</th>\n",
       "      <th>Quantity</th>\n",
       "      <th>year</th>\n",
       "    </tr>\n",
       "    <tr>\n",
       "      <th>Date of Purchase</th>\n",
       "      <th></th>\n",
       "      <th></th>\n",
       "      <th></th>\n",
       "      <th></th>\n",
       "      <th></th>\n",
       "      <th></th>\n",
       "      <th></th>\n",
       "    </tr>\n",
       "  </thead>\n",
       "  <tbody>\n",
       "  </tbody>\n",
       "</table>\n",
       "</div>"
      ],
      "text/plain": [
       "Empty DataFrame\n",
       "Columns: [Country, Region, Sales Person, Date of Purchase, Total, Quantity, year]\n",
       "Index: []"
      ]
     },
     "execution_count": 106,
     "metadata": {},
     "output_type": "execute_result"
    }
   ],
   "source": [
    "data[(data['Total'] > 20000000)  & (data['Country']=='Slovenia')]"
   ]
  },
  {
   "cell_type": "markdown",
   "metadata": {},
   "source": [
    "Посмотрим на траты людей по странам (Country)"
   ]
  },
  {
   "cell_type": "code",
   "execution_count": 36,
   "metadata": {},
   "outputs": [
    {
     "data": {
      "text/html": [
       "<div>\n",
       "<style scoped>\n",
       "    .dataframe tbody tr th:only-of-type {\n",
       "        vertical-align: middle;\n",
       "    }\n",
       "\n",
       "    .dataframe tbody tr th {\n",
       "        vertical-align: top;\n",
       "    }\n",
       "\n",
       "    .dataframe thead th {\n",
       "        text-align: right;\n",
       "    }\n",
       "</style>\n",
       "<table border=\"1\" class=\"dataframe\">\n",
       "  <thead>\n",
       "    <tr style=\"text-align: right;\">\n",
       "      <th></th>\n",
       "      <th>Total</th>\n",
       "      <th>Quantity</th>\n",
       "    </tr>\n",
       "    <tr>\n",
       "      <th>Country</th>\n",
       "      <th></th>\n",
       "      <th></th>\n",
       "    </tr>\n",
       "  </thead>\n",
       "  <tbody>\n",
       "    <tr>\n",
       "      <th>Africa</th>\n",
       "      <td>460000</td>\n",
       "      <td>1208</td>\n",
       "    </tr>\n",
       "    <tr>\n",
       "      <th>Australia</th>\n",
       "      <td>540000</td>\n",
       "      <td>1657</td>\n",
       "    </tr>\n",
       "    <tr>\n",
       "      <th>India</th>\n",
       "      <td>540000</td>\n",
       "      <td>857</td>\n",
       "    </tr>\n",
       "    <tr>\n",
       "      <th>Mylasia</th>\n",
       "      <td>1180000</td>\n",
       "      <td>8334</td>\n",
       "    </tr>\n",
       "    <tr>\n",
       "      <th>Singapore</th>\n",
       "      <td>510000</td>\n",
       "      <td>1977</td>\n",
       "    </tr>\n",
       "    <tr>\n",
       "      <th>UK</th>\n",
       "      <td>480000</td>\n",
       "      <td>1435</td>\n",
       "    </tr>\n",
       "    <tr>\n",
       "      <th>US</th>\n",
       "      <td>26340000</td>\n",
       "      <td>4090</td>\n",
       "    </tr>\n",
       "  </tbody>\n",
       "</table>\n",
       "</div>"
      ],
      "text/plain": [
       "              Total  Quantity\n",
       "Country                      \n",
       "Africa       460000      1208\n",
       "Australia    540000      1657\n",
       "India        540000       857\n",
       "Mylasia     1180000      8334\n",
       "Singapore    510000      1977\n",
       "UK           480000      1435\n",
       "US         26340000      4090"
      ]
     },
     "execution_count": 36,
     "metadata": {},
     "output_type": "execute_result"
    }
   ],
   "source": [
    "data.groupby('Country').agg('sum')"
   ]
  },
  {
   "cell_type": "markdown",
   "metadata": {},
   "source": [
    "Со сгруппированными данными можно работать и в циклах"
   ]
  },
  {
   "cell_type": "code",
   "execution_count": 37,
   "metadata": {},
   "outputs": [
    {
     "name": "stdout",
     "output_type": "stream",
     "text": [
      "Africa\n",
      "                 Country Region Sales Person    Date of Purchase   Total  \\\n",
      "Date of Purchase                                                           \n",
      "2012-06-11        Africa   East         Bill   6/11/2012 0:00:00  180000   \n",
      "2012-06-10        Africa  North       Thomas   6/10/2012 0:00:00  140000   \n",
      "2015-12-14        Africa  North         John  12/14/2015 0:00:00  140000   \n",
      "\n",
      "                  Quantity     Subregion  \n",
      "Date of Purchase                          \n",
      "2012-06-11             123   East_Africa  \n",
      "2012-06-10            1000  North_Africa  \n",
      "2015-12-14              85  North_Africa  \n"
     ]
    },
    {
     "data": {
      "text/html": [
       "<div>\n",
       "<style scoped>\n",
       "    .dataframe tbody tr th:only-of-type {\n",
       "        vertical-align: middle;\n",
       "    }\n",
       "\n",
       "    .dataframe tbody tr th {\n",
       "        vertical-align: top;\n",
       "    }\n",
       "\n",
       "    .dataframe thead th {\n",
       "        text-align: right;\n",
       "    }\n",
       "</style>\n",
       "<table border=\"1\" class=\"dataframe\">\n",
       "  <thead>\n",
       "    <tr style=\"text-align: right;\">\n",
       "      <th></th>\n",
       "      <th>Country</th>\n",
       "      <th>Region</th>\n",
       "      <th>Sales Person</th>\n",
       "      <th>Date of Purchase</th>\n",
       "      <th>Total</th>\n",
       "      <th>Quantity</th>\n",
       "      <th>Subregion</th>\n",
       "    </tr>\n",
       "    <tr>\n",
       "      <th>Date of Purchase</th>\n",
       "      <th></th>\n",
       "      <th></th>\n",
       "      <th></th>\n",
       "      <th></th>\n",
       "      <th></th>\n",
       "      <th></th>\n",
       "      <th></th>\n",
       "    </tr>\n",
       "  </thead>\n",
       "  <tbody>\n",
       "    <tr>\n",
       "      <th>2012-06-11</th>\n",
       "      <td>Africa</td>\n",
       "      <td>East</td>\n",
       "      <td>Bill</td>\n",
       "      <td>6/11/2012 0:00:00</td>\n",
       "      <td>180000</td>\n",
       "      <td>123</td>\n",
       "      <td>East_Africa</td>\n",
       "    </tr>\n",
       "    <tr>\n",
       "      <th>2012-06-10</th>\n",
       "      <td>Africa</td>\n",
       "      <td>North</td>\n",
       "      <td>Thomas</td>\n",
       "      <td>6/10/2012 0:00:00</td>\n",
       "      <td>140000</td>\n",
       "      <td>1000</td>\n",
       "      <td>North_Africa</td>\n",
       "    </tr>\n",
       "    <tr>\n",
       "      <th>2015-12-14</th>\n",
       "      <td>Africa</td>\n",
       "      <td>North</td>\n",
       "      <td>John</td>\n",
       "      <td>12/14/2015 0:00:00</td>\n",
       "      <td>140000</td>\n",
       "      <td>85</td>\n",
       "      <td>North_Africa</td>\n",
       "    </tr>\n",
       "  </tbody>\n",
       "</table>\n",
       "</div>"
      ],
      "text/plain": [
       "                 Country Region Sales Person    Date of Purchase   Total  \\\n",
       "Date of Purchase                                                           \n",
       "2012-06-11        Africa   East         Bill   6/11/2012 0:00:00  180000   \n",
       "2012-06-10        Africa  North       Thomas   6/10/2012 0:00:00  140000   \n",
       "2015-12-14        Africa  North         John  12/14/2015 0:00:00  140000   \n",
       "\n",
       "                  Quantity     Subregion  \n",
       "Date of Purchase                          \n",
       "2012-06-11             123   East_Africa  \n",
       "2012-06-10            1000  North_Africa  \n",
       "2015-12-14              85  North_Africa  "
      ]
     },
     "execution_count": 37,
     "metadata": {},
     "output_type": "execute_result"
    }
   ],
   "source": [
    "for x in data.groupby('Country'):\n",
    "    print(x[0])\n",
    "    print(x[1])\n",
    "    break\n",
    "\n",
    "x[1].head()"
   ]
  },
  {
   "cell_type": "markdown",
   "metadata": {},
   "source": [
    "Можно группировать по нескольким полям"
   ]
  },
  {
   "cell_type": "code",
   "execution_count": 38,
   "metadata": {},
   "outputs": [
    {
     "data": {
      "text/html": [
       "<div>\n",
       "<style scoped>\n",
       "    .dataframe tbody tr th:only-of-type {\n",
       "        vertical-align: middle;\n",
       "    }\n",
       "\n",
       "    .dataframe tbody tr th {\n",
       "        vertical-align: top;\n",
       "    }\n",
       "\n",
       "    .dataframe thead th {\n",
       "        text-align: right;\n",
       "    }\n",
       "</style>\n",
       "<table border=\"1\" class=\"dataframe\">\n",
       "  <thead>\n",
       "    <tr style=\"text-align: right;\">\n",
       "      <th></th>\n",
       "      <th></th>\n",
       "      <th>Total</th>\n",
       "      <th>Quantity</th>\n",
       "    </tr>\n",
       "    <tr>\n",
       "      <th>Country</th>\n",
       "      <th>Region</th>\n",
       "      <th></th>\n",
       "      <th></th>\n",
       "    </tr>\n",
       "  </thead>\n",
       "  <tbody>\n",
       "    <tr>\n",
       "      <th rowspan=\"2\" valign=\"top\">Africa</th>\n",
       "      <th>East</th>\n",
       "      <td>180000</td>\n",
       "      <td>123</td>\n",
       "    </tr>\n",
       "    <tr>\n",
       "      <th>North</th>\n",
       "      <td>280000</td>\n",
       "      <td>1085</td>\n",
       "    </tr>\n",
       "    <tr>\n",
       "      <th rowspan=\"3\" valign=\"top\">Australia</th>\n",
       "      <th>East</th>\n",
       "      <td>160000</td>\n",
       "      <td>1000</td>\n",
       "    </tr>\n",
       "    <tr>\n",
       "      <th>North</th>\n",
       "      <td>120000</td>\n",
       "      <td>567</td>\n",
       "    </tr>\n",
       "    <tr>\n",
       "      <th>West</th>\n",
       "      <td>260000</td>\n",
       "      <td>90</td>\n",
       "    </tr>\n",
       "    <tr>\n",
       "      <th rowspan=\"3\" valign=\"top\">India</th>\n",
       "      <th>East</th>\n",
       "      <td>200000</td>\n",
       "      <td>90</td>\n",
       "    </tr>\n",
       "    <tr>\n",
       "      <th>North</th>\n",
       "      <td>100000</td>\n",
       "      <td>567</td>\n",
       "    </tr>\n",
       "    <tr>\n",
       "      <th>West</th>\n",
       "      <td>240000</td>\n",
       "      <td>200</td>\n",
       "    </tr>\n",
       "    <tr>\n",
       "      <th rowspan=\"2\" valign=\"top\">Mylasia</th>\n",
       "      <th>East</th>\n",
       "      <td>180000</td>\n",
       "      <td>444</td>\n",
       "    </tr>\n",
       "    <tr>\n",
       "      <th>West</th>\n",
       "      <td>1000000</td>\n",
       "      <td>7890</td>\n",
       "    </tr>\n",
       "    <tr>\n",
       "      <th rowspan=\"2\" valign=\"top\">Singapore</th>\n",
       "      <th>East</th>\n",
       "      <td>360000</td>\n",
       "      <td>1892</td>\n",
       "    </tr>\n",
       "    <tr>\n",
       "      <th>North</th>\n",
       "      <td>150000</td>\n",
       "      <td>85</td>\n",
       "    </tr>\n",
       "    <tr>\n",
       "      <th rowspan=\"2\" valign=\"top\">UK</th>\n",
       "      <th>North</th>\n",
       "      <td>240000</td>\n",
       "      <td>1345</td>\n",
       "    </tr>\n",
       "    <tr>\n",
       "      <th>West</th>\n",
       "      <td>240000</td>\n",
       "      <td>90</td>\n",
       "    </tr>\n",
       "    <tr>\n",
       "      <th rowspan=\"2\" valign=\"top\">US</th>\n",
       "      <th>North</th>\n",
       "      <td>120000</td>\n",
       "      <td>3000</td>\n",
       "    </tr>\n",
       "    <tr>\n",
       "      <th>West</th>\n",
       "      <td>26220000</td>\n",
       "      <td>1090</td>\n",
       "    </tr>\n",
       "  </tbody>\n",
       "</table>\n",
       "</div>"
      ],
      "text/plain": [
       "                     Total  Quantity\n",
       "Country   Region                    \n",
       "Africa    East      180000       123\n",
       "          North     280000      1085\n",
       "Australia East      160000      1000\n",
       "          North     120000       567\n",
       "          West      260000        90\n",
       "India     East      200000        90\n",
       "          North     100000       567\n",
       "          West      240000       200\n",
       "Mylasia   East      180000       444\n",
       "          West     1000000      7890\n",
       "Singapore East      360000      1892\n",
       "          North     150000        85\n",
       "UK        North     240000      1345\n",
       "          West      240000        90\n",
       "US        North     120000      3000\n",
       "          West    26220000      1090"
      ]
     },
     "execution_count": 38,
     "metadata": {},
     "output_type": "execute_result"
    }
   ],
   "source": [
    "data.groupby(['Country', 'Region']).agg('sum')"
   ]
  },
  {
   "cell_type": "code",
   "execution_count": 39,
   "metadata": {},
   "outputs": [
    {
     "data": {
      "text/html": [
       "<div>\n",
       "<style scoped>\n",
       "    .dataframe tbody tr th:only-of-type {\n",
       "        vertical-align: middle;\n",
       "    }\n",
       "\n",
       "    .dataframe tbody tr th {\n",
       "        vertical-align: top;\n",
       "    }\n",
       "\n",
       "    .dataframe thead th {\n",
       "        text-align: right;\n",
       "    }\n",
       "</style>\n",
       "<table border=\"1\" class=\"dataframe\">\n",
       "  <thead>\n",
       "    <tr style=\"text-align: right;\">\n",
       "      <th></th>\n",
       "      <th></th>\n",
       "      <th>Total</th>\n",
       "      <th>Quantity</th>\n",
       "    </tr>\n",
       "    <tr>\n",
       "      <th>Country</th>\n",
       "      <th>Region</th>\n",
       "      <th></th>\n",
       "      <th></th>\n",
       "    </tr>\n",
       "  </thead>\n",
       "  <tbody>\n",
       "    <tr>\n",
       "      <th rowspan=\"2\" valign=\"top\">Africa</th>\n",
       "      <th>East</th>\n",
       "      <td>180000.0</td>\n",
       "      <td>123.0</td>\n",
       "    </tr>\n",
       "    <tr>\n",
       "      <th>North</th>\n",
       "      <td>140000.0</td>\n",
       "      <td>542.5</td>\n",
       "    </tr>\n",
       "    <tr>\n",
       "      <th rowspan=\"3\" valign=\"top\">Australia</th>\n",
       "      <th>East</th>\n",
       "      <td>160000.0</td>\n",
       "      <td>1000.0</td>\n",
       "    </tr>\n",
       "    <tr>\n",
       "      <th>North</th>\n",
       "      <td>120000.0</td>\n",
       "      <td>567.0</td>\n",
       "    </tr>\n",
       "    <tr>\n",
       "      <th>West</th>\n",
       "      <td>260000.0</td>\n",
       "      <td>90.0</td>\n",
       "    </tr>\n",
       "    <tr>\n",
       "      <th rowspan=\"3\" valign=\"top\">India</th>\n",
       "      <th>East</th>\n",
       "      <td>200000.0</td>\n",
       "      <td>90.0</td>\n",
       "    </tr>\n",
       "    <tr>\n",
       "      <th>North</th>\n",
       "      <td>100000.0</td>\n",
       "      <td>567.0</td>\n",
       "    </tr>\n",
       "    <tr>\n",
       "      <th>West</th>\n",
       "      <td>240000.0</td>\n",
       "      <td>200.0</td>\n",
       "    </tr>\n",
       "    <tr>\n",
       "      <th rowspan=\"2\" valign=\"top\">Mylasia</th>\n",
       "      <th>East</th>\n",
       "      <td>180000.0</td>\n",
       "      <td>444.0</td>\n",
       "    </tr>\n",
       "    <tr>\n",
       "      <th>West</th>\n",
       "      <td>1000000.0</td>\n",
       "      <td>7890.0</td>\n",
       "    </tr>\n",
       "    <tr>\n",
       "      <th rowspan=\"2\" valign=\"top\">Singapore</th>\n",
       "      <th>East</th>\n",
       "      <td>180000.0</td>\n",
       "      <td>946.0</td>\n",
       "    </tr>\n",
       "    <tr>\n",
       "      <th>North</th>\n",
       "      <td>150000.0</td>\n",
       "      <td>85.0</td>\n",
       "    </tr>\n",
       "    <tr>\n",
       "      <th rowspan=\"2\" valign=\"top\">UK</th>\n",
       "      <th>North</th>\n",
       "      <td>120000.0</td>\n",
       "      <td>672.5</td>\n",
       "    </tr>\n",
       "    <tr>\n",
       "      <th>West</th>\n",
       "      <td>240000.0</td>\n",
       "      <td>90.0</td>\n",
       "    </tr>\n",
       "    <tr>\n",
       "      <th rowspan=\"2\" valign=\"top\">US</th>\n",
       "      <th>North</th>\n",
       "      <td>120000.0</td>\n",
       "      <td>3000.0</td>\n",
       "    </tr>\n",
       "    <tr>\n",
       "      <th>West</th>\n",
       "      <td>13110000.0</td>\n",
       "      <td>545.0</td>\n",
       "    </tr>\n",
       "  </tbody>\n",
       "</table>\n",
       "</div>"
      ],
      "text/plain": [
       "                       Total  Quantity\n",
       "Country   Region                      \n",
       "Africa    East      180000.0     123.0\n",
       "          North     140000.0     542.5\n",
       "Australia East      160000.0    1000.0\n",
       "          North     120000.0     567.0\n",
       "          West      260000.0      90.0\n",
       "India     East      200000.0      90.0\n",
       "          North     100000.0     567.0\n",
       "          West      240000.0     200.0\n",
       "Mylasia   East      180000.0     444.0\n",
       "          West     1000000.0    7890.0\n",
       "Singapore East      180000.0     946.0\n",
       "          North     150000.0      85.0\n",
       "UK        North     120000.0     672.5\n",
       "          West      240000.0      90.0\n",
       "US        North     120000.0    3000.0\n",
       "          West    13110000.0     545.0"
      ]
     },
     "execution_count": 39,
     "metadata": {},
     "output_type": "execute_result"
    }
   ],
   "source": [
    "data.groupby(['Country', 'Region']).agg('mean')"
   ]
  },
  {
   "cell_type": "markdown",
   "metadata": {},
   "source": [
    "Можно применять свои функции "
   ]
  },
  {
   "cell_type": "code",
   "execution_count": 40,
   "metadata": {},
   "outputs": [
    {
     "data": {
      "text/html": [
       "<div>\n",
       "<style scoped>\n",
       "    .dataframe tbody tr th:only-of-type {\n",
       "        vertical-align: middle;\n",
       "    }\n",
       "\n",
       "    .dataframe tbody tr th {\n",
       "        vertical-align: top;\n",
       "    }\n",
       "\n",
       "    .dataframe thead th {\n",
       "        text-align: right;\n",
       "    }\n",
       "</style>\n",
       "<table border=\"1\" class=\"dataframe\">\n",
       "  <thead>\n",
       "    <tr style=\"text-align: right;\">\n",
       "      <th></th>\n",
       "      <th>Total</th>\n",
       "      <th>Quantity</th>\n",
       "    </tr>\n",
       "    <tr>\n",
       "      <th>Country</th>\n",
       "      <th></th>\n",
       "      <th></th>\n",
       "    </tr>\n",
       "  </thead>\n",
       "  <tbody>\n",
       "    <tr>\n",
       "      <th>Africa</th>\n",
       "      <td>3.134815e+10</td>\n",
       "      <td>2.161873e+05</td>\n",
       "    </tr>\n",
       "    <tr>\n",
       "      <th>Australia</th>\n",
       "      <td>4.320000e+10</td>\n",
       "      <td>4.067628e+05</td>\n",
       "    </tr>\n",
       "    <tr>\n",
       "      <th>India</th>\n",
       "      <td>4.320000e+10</td>\n",
       "      <td>1.088073e+05</td>\n",
       "    </tr>\n",
       "    <tr>\n",
       "      <th>Mylasia</th>\n",
       "      <td>1.740500e+11</td>\n",
       "      <td>8.681944e+06</td>\n",
       "    </tr>\n",
       "    <tr>\n",
       "      <th>Singapore</th>\n",
       "      <td>3.853333e+10</td>\n",
       "      <td>5.790413e+05</td>\n",
       "    </tr>\n",
       "    <tr>\n",
       "      <th>UK</th>\n",
       "      <td>3.413333e+10</td>\n",
       "      <td>3.050704e+05</td>\n",
       "    </tr>\n",
       "    <tr>\n",
       "      <th>US</th>\n",
       "      <td>1.027845e+14</td>\n",
       "      <td>2.478237e+06</td>\n",
       "    </tr>\n",
       "  </tbody>\n",
       "</table>\n",
       "</div>"
      ],
      "text/plain": [
       "                  Total      Quantity\n",
       "Country                              \n",
       "Africa     3.134815e+10  2.161873e+05\n",
       "Australia  4.320000e+10  4.067628e+05\n",
       "India      4.320000e+10  1.088073e+05\n",
       "Mylasia    1.740500e+11  8.681944e+06\n",
       "Singapore  3.853333e+10  5.790413e+05\n",
       "UK         3.413333e+10  3.050704e+05\n",
       "US         1.027845e+14  2.478237e+06"
      ]
     },
     "execution_count": 40,
     "metadata": {},
     "output_type": "execute_result"
    }
   ],
   "source": [
    "import numpy as np\n",
    "def custom(x):\n",
    "    return (sum(x)-np.mean(x))**2 / len(x)\n",
    "    \n",
    "data.groupby(['Country']).agg(custom)"
   ]
  },
  {
   "cell_type": "markdown",
   "metadata": {},
   "source": [
    "Немного визуализации данных по табличке. Про визуализацию подробнее мы будем говорить через две пары."
   ]
  },
  {
   "cell_type": "code",
   "execution_count": 41,
   "metadata": {},
   "outputs": [
    {
     "data": {
      "text/plain": [
       "<matplotlib.axes._subplots.AxesSubplot at 0x138ab30fa90>"
      ]
     },
     "execution_count": 41,
     "metadata": {},
     "output_type": "execute_result"
    },
    {
     "data": {
      "image/png": "[encoded data removed]",
      "text/plain": [
       "<Figure size 720x360 with 1 Axes>"
      ]
     },
     "metadata": {
      "needs_background": "light"
     },
     "output_type": "display_data"
    }
   ],
   "source": [
    "data['Quantity'].plot(title='Quantity', figsize=(10,5))"
   ]
  },
  {
   "cell_type": "code",
   "execution_count": 42,
   "metadata": {},
   "outputs": [
    {
     "data": {
      "text/plain": [
       "<matplotlib.axes._subplots.AxesSubplot at 0x138ad3fd438>"
      ]
     },
     "execution_count": 42,
     "metadata": {},
     "output_type": "execute_result"
    },
    {
     "data": {
      "image/png": "[encoded data removed]",
      "text/plain": [
       "<Figure size 720x360 with 1 Axes>"
      ]
     },
     "metadata": {
      "needs_background": "light"
     },
     "output_type": "display_data"
    }
   ],
   "source": [
    "data.groupby(['Country']).agg('max')['Total'].plot.bar(figsize=(10,5))"
   ]
  },
  {
   "cell_type": "code",
   "execution_count": 43,
   "metadata": {},
   "outputs": [
    {
     "data": {
      "text/plain": [
       "<matplotlib.axes._subplots.AxesSubplot at 0x138ab2ffa90>"
      ]
     },
     "execution_count": 43,
     "metadata": {},
     "output_type": "execute_result"
    },
    {
     "data": {
      "image/png": "[encoded data removed]",
      "text/plain": [
       "<Figure size 720x360 with 1 Axes>"
      ]
     },
     "metadata": {
      "needs_background": "light"
     },
     "output_type": "display_data"
    }
   ],
   "source": [
    "data.groupby(['Country']).agg('mean')['Quantity'].plot.bar(figsize=(10,5))"
   ]
  },
  {
   "cell_type": "markdown",
   "metadata": {},
   "source": [
    "Применение функций к столбцу"
   ]
  },
  {
   "cell_type": "code",
   "execution_count": 44,
   "metadata": {},
   "outputs": [
    {
     "data": {
      "text/plain": [
       "<matplotlib.axes._subplots.AxesSubplot at 0x138ad4f7400>"
      ]
     },
     "execution_count": 44,
     "metadata": {},
     "output_type": "execute_result"
    },
    {
     "data": {
      "image/png": "[encoded data removed]",
      "text/plain": [
       "<Figure size 720x360 with 1 Axes>"
      ]
     },
     "metadata": {
      "needs_background": "light"
     },
     "output_type": "display_data"
    }
   ],
   "source": [
    "data['Quantity_proc'] = data['Quantity'].apply(lambda x: x/data['Quantity'].max())\n",
    "data['Total_proc'] = data['Total'].apply(lambda x: x/data['Total'].max())\n",
    "\n",
    "data[['Quantity_proc', 'Total_proc']].plot.bar(figsize=(10,5))"
   ]
  },
  {
   "cell_type": "markdown",
   "metadata": {},
   "source": [
    "# Упражнения 2"
   ]
  },
  {
   "cell_type": "code",
   "execution_count": 45,
   "metadata": {},
   "outputs": [],
   "source": [
    "import pandas as pd\n"
   ]
  },
  {
   "cell_type": "code",
   "execution_count": 46,
   "metadata": {},
   "outputs": [],
   "source": [
    "data = pd.read_csv('Pandas - Q1 Sales.csv')\n",
    "\n"
   ]
  },
  {
   "cell_type": "markdown",
   "metadata": {},
   "source": [
    "__1. Сколько уникальных Sales Person? (уникальность считается по паре страна, регион)__"
   ]
  },
  {
   "cell_type": "code",
   "execution_count": 47,
   "metadata": {},
   "outputs": [
    {
     "data": {
      "text/html": [
       "<div>\n",
       "<style scoped>\n",
       "    .dataframe tbody tr th:only-of-type {\n",
       "        vertical-align: middle;\n",
       "    }\n",
       "\n",
       "    .dataframe tbody tr th {\n",
       "        vertical-align: top;\n",
       "    }\n",
       "\n",
       "    .dataframe thead th {\n",
       "        text-align: right;\n",
       "    }\n",
       "</style>\n",
       "<table border=\"1\" class=\"dataframe\">\n",
       "  <thead>\n",
       "    <tr style=\"text-align: right;\">\n",
       "      <th></th>\n",
       "      <th></th>\n",
       "      <th>Country</th>\n",
       "      <th>Region</th>\n",
       "      <th>Sales Person</th>\n",
       "      <th>Date of Purchase</th>\n",
       "      <th>Total</th>\n",
       "      <th>Quantity</th>\n",
       "    </tr>\n",
       "    <tr>\n",
       "      <th>Country</th>\n",
       "      <th>Region</th>\n",
       "      <th></th>\n",
       "      <th></th>\n",
       "      <th></th>\n",
       "      <th></th>\n",
       "      <th></th>\n",
       "      <th></th>\n",
       "    </tr>\n",
       "  </thead>\n",
       "  <tbody>\n",
       "    <tr>\n",
       "      <th rowspan=\"2\" valign=\"top\">Africa</th>\n",
       "      <th>East</th>\n",
       "      <td>1</td>\n",
       "      <td>1</td>\n",
       "      <td>1</td>\n",
       "      <td>1</td>\n",
       "      <td>1</td>\n",
       "      <td>1</td>\n",
       "    </tr>\n",
       "    <tr>\n",
       "      <th>North</th>\n",
       "      <td>1</td>\n",
       "      <td>1</td>\n",
       "      <td>2</td>\n",
       "      <td>2</td>\n",
       "      <td>1</td>\n",
       "      <td>2</td>\n",
       "    </tr>\n",
       "    <tr>\n",
       "      <th rowspan=\"3\" valign=\"top\">Australia</th>\n",
       "      <th>East</th>\n",
       "      <td>1</td>\n",
       "      <td>1</td>\n",
       "      <td>1</td>\n",
       "      <td>1</td>\n",
       "      <td>1</td>\n",
       "      <td>1</td>\n",
       "    </tr>\n",
       "    <tr>\n",
       "      <th>North</th>\n",
       "      <td>1</td>\n",
       "      <td>1</td>\n",
       "      <td>1</td>\n",
       "      <td>1</td>\n",
       "      <td>1</td>\n",
       "      <td>1</td>\n",
       "    </tr>\n",
       "    <tr>\n",
       "      <th>West</th>\n",
       "      <td>1</td>\n",
       "      <td>1</td>\n",
       "      <td>1</td>\n",
       "      <td>1</td>\n",
       "      <td>1</td>\n",
       "      <td>1</td>\n",
       "    </tr>\n",
       "    <tr>\n",
       "      <th rowspan=\"3\" valign=\"top\">India</th>\n",
       "      <th>East</th>\n",
       "      <td>1</td>\n",
       "      <td>1</td>\n",
       "      <td>1</td>\n",
       "      <td>1</td>\n",
       "      <td>1</td>\n",
       "      <td>1</td>\n",
       "    </tr>\n",
       "    <tr>\n",
       "      <th>North</th>\n",
       "      <td>1</td>\n",
       "      <td>1</td>\n",
       "      <td>1</td>\n",
       "      <td>1</td>\n",
       "      <td>1</td>\n",
       "      <td>1</td>\n",
       "    </tr>\n",
       "    <tr>\n",
       "      <th>West</th>\n",
       "      <td>1</td>\n",
       "      <td>1</td>\n",
       "      <td>1</td>\n",
       "      <td>1</td>\n",
       "      <td>1</td>\n",
       "      <td>1</td>\n",
       "    </tr>\n",
       "    <tr>\n",
       "      <th rowspan=\"2\" valign=\"top\">Mylasia</th>\n",
       "      <th>East</th>\n",
       "      <td>1</td>\n",
       "      <td>1</td>\n",
       "      <td>1</td>\n",
       "      <td>1</td>\n",
       "      <td>1</td>\n",
       "      <td>1</td>\n",
       "    </tr>\n",
       "    <tr>\n",
       "      <th>West</th>\n",
       "      <td>1</td>\n",
       "      <td>1</td>\n",
       "      <td>1</td>\n",
       "      <td>1</td>\n",
       "      <td>1</td>\n",
       "      <td>1</td>\n",
       "    </tr>\n",
       "    <tr>\n",
       "      <th rowspan=\"2\" valign=\"top\">Singapore</th>\n",
       "      <th>East</th>\n",
       "      <td>1</td>\n",
       "      <td>1</td>\n",
       "      <td>2</td>\n",
       "      <td>2</td>\n",
       "      <td>2</td>\n",
       "      <td>2</td>\n",
       "    </tr>\n",
       "    <tr>\n",
       "      <th>North</th>\n",
       "      <td>1</td>\n",
       "      <td>1</td>\n",
       "      <td>1</td>\n",
       "      <td>1</td>\n",
       "      <td>1</td>\n",
       "      <td>1</td>\n",
       "    </tr>\n",
       "    <tr>\n",
       "      <th rowspan=\"2\" valign=\"top\">UK</th>\n",
       "      <th>North</th>\n",
       "      <td>1</td>\n",
       "      <td>1</td>\n",
       "      <td>2</td>\n",
       "      <td>2</td>\n",
       "      <td>2</td>\n",
       "      <td>2</td>\n",
       "    </tr>\n",
       "    <tr>\n",
       "      <th>West</th>\n",
       "      <td>1</td>\n",
       "      <td>1</td>\n",
       "      <td>1</td>\n",
       "      <td>1</td>\n",
       "      <td>1</td>\n",
       "      <td>1</td>\n",
       "    </tr>\n",
       "    <tr>\n",
       "      <th rowspan=\"2\" valign=\"top\">US</th>\n",
       "      <th>North</th>\n",
       "      <td>1</td>\n",
       "      <td>1</td>\n",
       "      <td>1</td>\n",
       "      <td>1</td>\n",
       "      <td>1</td>\n",
       "      <td>1</td>\n",
       "    </tr>\n",
       "    <tr>\n",
       "      <th>West</th>\n",
       "      <td>1</td>\n",
       "      <td>1</td>\n",
       "      <td>2</td>\n",
       "      <td>2</td>\n",
       "      <td>2</td>\n",
       "      <td>2</td>\n",
       "    </tr>\n",
       "  </tbody>\n",
       "</table>\n",
       "</div>"
      ],
      "text/plain": [
       "                  Country  Region  Sales Person  Date of Purchase  Total  \\\n",
       "Country   Region                                                           \n",
       "Africa    East          1       1             1                 1      1   \n",
       "          North         1       1             2                 2      1   \n",
       "Australia East          1       1             1                 1      1   \n",
       "          North         1       1             1                 1      1   \n",
       "          West          1       1             1                 1      1   \n",
       "India     East          1       1             1                 1      1   \n",
       "          North         1       1             1                 1      1   \n",
       "          West          1       1             1                 1      1   \n",
       "Mylasia   East          1       1             1                 1      1   \n",
       "          West          1       1             1                 1      1   \n",
       "Singapore East          1       1             2                 2      2   \n",
       "          North         1       1             1                 1      1   \n",
       "UK        North         1       1             2                 2      2   \n",
       "          West          1       1             1                 1      1   \n",
       "US        North         1       1             1                 1      1   \n",
       "          West          1       1             2                 2      2   \n",
       "\n",
       "                  Quantity  \n",
       "Country   Region            \n",
       "Africa    East           1  \n",
       "          North          2  \n",
       "Australia East           1  \n",
       "          North          1  \n",
       "          West           1  \n",
       "India     East           1  \n",
       "          North          1  \n",
       "          West           1  \n",
       "Mylasia   East           1  \n",
       "          West           1  \n",
       "Singapore East           2  \n",
       "          North          1  \n",
       "UK        North          2  \n",
       "          West           1  \n",
       "US        North          1  \n",
       "          West           2  "
      ]
     },
     "execution_count": 47,
     "metadata": {},
     "output_type": "execute_result"
    }
   ],
   "source": [
    "data.groupby(['Country', 'Region']).agg('nunique')"
   ]
  },
  {
   "cell_type": "markdown",
   "metadata": {},
   "source": [
    "__2. В каком году было больше всего продаж? (Total)__"
   ]
  },
  {
   "cell_type": "code",
   "execution_count": 99,
   "metadata": {},
   "outputs": [
    {
     "data": {
      "text/html": [
       "<div>\n",
       "<style scoped>\n",
       "    .dataframe tbody tr th:only-of-type {\n",
       "        vertical-align: middle;\n",
       "    }\n",
       "\n",
       "    .dataframe tbody tr th {\n",
       "        vertical-align: top;\n",
       "    }\n",
       "\n",
       "    .dataframe thead th {\n",
       "        text-align: right;\n",
       "    }\n",
       "</style>\n",
       "<table border=\"1\" class=\"dataframe\">\n",
       "  <thead>\n",
       "    <tr style=\"text-align: right;\">\n",
       "      <th></th>\n",
       "      <th>Total</th>\n",
       "      <th>Quantity</th>\n",
       "    </tr>\n",
       "    <tr>\n",
       "      <th>year</th>\n",
       "      <th></th>\n",
       "      <th></th>\n",
       "    </tr>\n",
       "  </thead>\n",
       "  <tbody>\n",
       "    <tr>\n",
       "      <th>2013</th>\n",
       "      <td>27400000</td>\n",
       "      <td>9424</td>\n",
       "    </tr>\n",
       "  </tbody>\n",
       "</table>\n",
       "</div>"
      ],
      "text/plain": [
       "         Total  Quantity\n",
       "year                    \n",
       "2013  27400000      9424"
      ]
     },
     "execution_count": 99,
     "metadata": {},
     "output_type": "execute_result"
    }
   ],
   "source": [
    "index_2 = data['Date of Purchase'].apply(lambda x: datetime.strptime(x, '%m/%d/%Y %H:%M:%S'))\n",
    "data.index = index_2 \n",
    "data['year'] = [x.year for x in data.index]\n",
    "maxtotal = data.groupby('year').agg('sum').agg('max')['Total']\n",
    "y = data.groupby('year').agg('sum')[(data.groupby('year').agg('sum')['Total'] == maxtotal)]\n",
    "y\n",
    "\n",
    "\n"
   ]
  },
  {
   "cell_type": "markdown",
   "metadata": {},
   "source": [
    "__3. Нарисуйте barplot количества продаж (Total) по годам__"
   ]
  },
  {
   "cell_type": "code",
   "execution_count": 100,
   "metadata": {},
   "outputs": [
    {
     "data": {
      "text/plain": [
       "<matplotlib.axes._subplots.AxesSubplot at 0x138ae999f60>"
      ]
     },
     "execution_count": 100,
     "metadata": {},
     "output_type": "execute_result"
    },
    {
     "data": {
      "image/png": "[encoded data removed]",
      "text/plain": [
       "<Figure size 720x360 with 1 Axes>"
      ]
     },
     "metadata": {
      "needs_background": "light"
     },
     "output_type": "display_data"
    }
   ],
   "source": [
    "data.groupby('year').agg('sum')['Total'].plot.bar(figsize=(10,5))"
   ]
  },
  {
   "cell_type": "markdown",
   "metadata": {},
   "source": [
    "__4. Сделайте min-max scaling столбца Total__\n",
    "\n",
    "Структура min_max:\n",
    "\n",
    "    min = минимальный элемент в столбце\n",
    "    max = максимальный элемент в столбце\n",
    "    \n",
    "    x_new = (x-min)/(max-min)"
   ]
  },
  {
   "cell_type": "code",
   "execution_count": 115,
   "metadata": {},
   "outputs": [
    {
     "data": {
      "text/html": [
       "<div>\n",
       "<style scoped>\n",
       "    .dataframe tbody tr th:only-of-type {\n",
       "        vertical-align: middle;\n",
       "    }\n",
       "\n",
       "    .dataframe tbody tr th {\n",
       "        vertical-align: top;\n",
       "    }\n",
       "\n",
       "    .dataframe thead th {\n",
       "        text-align: right;\n",
       "    }\n",
       "</style>\n",
       "<table border=\"1\" class=\"dataframe\">\n",
       "  <thead>\n",
       "    <tr style=\"text-align: right;\">\n",
       "      <th></th>\n",
       "      <th>Country</th>\n",
       "      <th>Region</th>\n",
       "      <th>Sales Person</th>\n",
       "      <th>Date of Purchase</th>\n",
       "      <th>Total</th>\n",
       "      <th>Quantity</th>\n",
       "      <th>year</th>\n",
       "      <th>min-max scaling</th>\n",
       "    </tr>\n",
       "    <tr>\n",
       "      <th>Date of Purchase</th>\n",
       "      <th></th>\n",
       "      <th></th>\n",
       "      <th></th>\n",
       "      <th></th>\n",
       "      <th></th>\n",
       "      <th></th>\n",
       "      <th></th>\n",
       "      <th></th>\n",
       "    </tr>\n",
       "  </thead>\n",
       "  <tbody>\n",
       "    <tr>\n",
       "      <th>2012-02-01</th>\n",
       "      <td>India</td>\n",
       "      <td>North</td>\n",
       "      <td>John</td>\n",
       "      <td>2/1/2012 0:00:00</td>\n",
       "      <td>100000</td>\n",
       "      <td>567</td>\n",
       "      <td>2012</td>\n",
       "      <td>1.000000</td>\n",
       "    </tr>\n",
       "    <tr>\n",
       "      <th>2012-04-16</th>\n",
       "      <td>US</td>\n",
       "      <td>North</td>\n",
       "      <td>Bill</td>\n",
       "      <td>4/16/2012 0:00:00</td>\n",
       "      <td>120000</td>\n",
       "      <td>3000</td>\n",
       "      <td>2012</td>\n",
       "      <td>0.999228</td>\n",
       "    </tr>\n",
       "    <tr>\n",
       "      <th>2014-07-31</th>\n",
       "      <td>UK</td>\n",
       "      <td>North</td>\n",
       "      <td>Thomas</td>\n",
       "      <td>7/31/2014 0:00:00</td>\n",
       "      <td>140000</td>\n",
       "      <td>345</td>\n",
       "      <td>2014</td>\n",
       "      <td>0.998456</td>\n",
       "    </tr>\n",
       "    <tr>\n",
       "      <th>2012-11-24</th>\n",
       "      <td>Australia</td>\n",
       "      <td>East</td>\n",
       "      <td>John</td>\n",
       "      <td>11/24/2012 0:00:00</td>\n",
       "      <td>160000</td>\n",
       "      <td>1000</td>\n",
       "      <td>2012</td>\n",
       "      <td>0.997683</td>\n",
       "    </tr>\n",
       "    <tr>\n",
       "      <th>2012-06-11</th>\n",
       "      <td>Africa</td>\n",
       "      <td>East</td>\n",
       "      <td>Bill</td>\n",
       "      <td>6/11/2012 0:00:00</td>\n",
       "      <td>180000</td>\n",
       "      <td>123</td>\n",
       "      <td>2012</td>\n",
       "      <td>0.996911</td>\n",
       "    </tr>\n",
       "  </tbody>\n",
       "</table>\n",
       "</div>"
      ],
      "text/plain": [
       "                    Country Region Sales Person    Date of Purchase   Total  \\\n",
       "Date of Purchase                                                              \n",
       "2012-02-01            India  North         John    2/1/2012 0:00:00  100000   \n",
       "2012-04-16               US  North         Bill   4/16/2012 0:00:00  120000   \n",
       "2014-07-31               UK  North       Thomas   7/31/2014 0:00:00  140000   \n",
       "2012-11-24        Australia   East         John  11/24/2012 0:00:00  160000   \n",
       "2012-06-11           Africa   East         Bill   6/11/2012 0:00:00  180000   \n",
       "\n",
       "                  Quantity  year  min-max scaling  \n",
       "Date of Purchase                                   \n",
       "2012-02-01             567  2012         1.000000  \n",
       "2012-04-16            3000  2012         0.999228  \n",
       "2014-07-31             345  2014         0.998456  \n",
       "2012-11-24            1000  2012         0.997683  \n",
       "2012-06-11             123  2012         0.996911  "
      ]
     },
     "execution_count": 115,
     "metadata": {},
     "output_type": "execute_result"
    }
   ],
   "source": [
    "class min_max:\n",
    "    def __init__(self, minv, maxv):\n",
    "        self.minv = minv\n",
    "        self.maxv = maxv\n",
    "    \n",
    "    def minmax(self, value):\n",
    "        x = (value - self.minv)/(self.maxv - self.minv)\n",
    "        return x\n",
    "    \n",
    "a = data.agg('max')['Total']\n",
    "b = data.agg('min')['Total']\n",
    "mm = min_max(a, b)\n",
    "data['min-max scaling'] = [mm.minmax(x) for x in data.Total]\n",
    "data.head()"
   ]
  },
  {
   "cell_type": "markdown",
   "metadata": {},
   "source": [
    "__5. Постройте график (barplot) для полученных в прошлом номере значений__"
   ]
  },
  {
   "cell_type": "code",
   "execution_count": 118,
   "metadata": {},
   "outputs": [
    {
     "data": {
      "text/plain": [
       "<matplotlib.axes._subplots.AxesSubplot at 0x138aea41c50>"
      ]
     },
     "execution_count": 118,
     "metadata": {},
     "output_type": "execute_result"
    },
    {
     "data": {
      "image/png": "[encoded data removed]",
      "text/plain": [
       "<Figure size 720x360 with 1 Axes>"
      ]
     },
     "metadata": {
      "needs_background": "light"
     },
     "output_type": "display_data"
    }
   ],
   "source": [
    "data.groupby('year').agg('sum')['min-max scaling'].plot.bar(figsize=(10,5))"
   ]
  },
  {
   "cell_type": "code",
   "execution_count": null,
   "metadata": {},
   "outputs": [],
   "source": []
  },
  {
   "cell_type": "markdown",
   "metadata": {},
   "source": [
    "# Упражнения 3\n"
   ]
  },
  {
   "cell_type": "code",
   "execution_count": 211,
   "metadata": {},
   "outputs": [],
   "source": [
    "import numpy as np"
   ]
  },
  {
   "cell_type": "markdown",
   "metadata": {},
   "source": [
    "В конце каждого семестра каждый семинарист сталкивается с необходимостью выставить студентам накопленную оценку. Часто семинаристы делают это с помощью Excel или GoogleSheets, но, поверьте, с этим возникают проблемы. В задании вам надо помочь семинаристу выполнить эту непростую работу с помощью `numpy` :)\n",
    "\n",
    "Выполните ячейку ниже, чтобы загрузить данные и визуально проверить корректность их считывания.\n",
    "\n",
    "По строкам - студенты, по столбцам - их оценки. В курсе семинарист провел три проверочных (первые три колонки), выдал три домашних работы (следующие три колонки), кроме того, у студентов есть оценка за коллоквиум (последняя колонка)."
   ]
  },
  {
   "cell_type": "code",
   "execution_count": 261,
   "metadata": {},
   "outputs": [],
   "source": [
    "marks = np.loadtxt(\"https://raw.githubusercontent.com/iad-24/seminars/master/materials/data_sem1_hw.txt\")"
   ]
  },
  {
   "cell_type": "code",
   "execution_count": 262,
   "metadata": {},
   "outputs": [
    {
     "data": {
      "text/plain": [
       "array([[ 7. ,  8. , 10. ,  0. ,  0. ,  2.1,  1.5],\n",
       "       [ 0. ,  6. ,  4.4,  4. ,  0. ,  5. ,  4.3],\n",
       "       [ 3. ,  7. ,  8.7,  7.6,  7. ,  9.7, 10. ],\n",
       "       [ 3.4,  1.3,  7. ,  3.4,  0. ,  9.4,  9. ],\n",
       "       [ 6.8,  9.1,  8.2,  0. ,  0. ,  7.9,  7.9],\n",
       "       [ 7. , 10. , 10. ,  9. ,  9.5, 10. ,  8. ],\n",
       "       [ 6. , 10. ,  9.7,  8.7,  7. ,  8.5,  9.7],\n",
       "       [ 0. ,  9.3,  5.7,  0. ,  0. ,  0. ,  0. ],\n",
       "       [ 5. , 10. , 10. ,  9.9, 10.5, 10. ,  9. ],\n",
       "       [ 0. ,  8.7,  8. ,  9.7, 10. ,  9.5, 10. ],\n",
       "       [ 3. ,  6.9,  7.9,  0. ,  0. ,  0. ,  0. ],\n",
       "       [ 4. , 10. , 10. ,  9.9,  9.7, 10. ,  9. ],\n",
       "       [ 0. ,  0. ,  0. ,  0. ,  0. ,  0. ,  0. ],\n",
       "       [ 6. ,  5. , 10. ,  9.7, 10. , 10. ,  8. ],\n",
       "       [ 5. , 10. ,  9. ,  7. ,  7.9, 10. ,  9. ],\n",
       "       [ 0. ,  6. ,  7.4,  0. ,  0. ,  0. ,  0. ],\n",
       "       [ 7. , 10. , 10. ,  9.7, 10. , 10. , 10. ],\n",
       "       [ 4.5,  8.7, 10. ,  9.5,  0. ,  0. ,  0. ],\n",
       "       [ 0. ,  0. ,  0. ,  0. ,  0. ,  0. ,  0. ],\n",
       "       [ 0. ,  5.6,  8.7,  0. ,  0. ,  0. ,  0. ],\n",
       "       [ 0. ,  0. ,  0. ,  0. ,  0. ,  0. ,  0. ],\n",
       "       [ 6. , 10. , 10. ,  9.7,  7. , 10. ,  7. ],\n",
       "       [ 6.5,  8.7,  9.5, 10.5,  9.8, 10. , 10. ],\n",
       "       [ 7. ,  9.7, 10. ,  8.1, 10. , 10. ,  9.5],\n",
       "       [ 0. ,  8.3,  9.5,  9.5,  0. ,  0. ,  0. ],\n",
       "       [ 7. ,  7.4,  9. ,  7.7,  0. ,  8.8,  0. ],\n",
       "       [ 3. ,  8.7, 10. ,  9.4, 10.7, 10. ,  9. ],\n",
       "       [ 3.5,  9.3, 10. ,  9.9, 10. , 10. ,  8. ]])"
      ]
     },
     "execution_count": 262,
     "metadata": {},
     "output_type": "execute_result"
    }
   ],
   "source": [
    "marks"
   ]
  },
  {
   "cell_type": "markdown",
   "metadata": {},
   "source": [
    "### [1] Число студентов\n",
    "Сколько студентов в группе семинариста?"
   ]
  },
  {
   "cell_type": "code",
   "execution_count": 263,
   "metadata": {},
   "outputs": [
    {
     "data": {
      "text/plain": [
       "28"
      ]
     },
     "execution_count": 263,
     "metadata": {},
     "output_type": "execute_result"
    }
   ],
   "source": [
    "### ╰( ͡° ͜ʖ ͡° )つ──☆*:・ﾟ\n",
    "len(marks)"
   ]
  },
  {
   "cell_type": "markdown",
   "metadata": {},
   "source": [
    "### [2] Очень сложная проверочная, или просто добрый семинарист\n",
    "\n",
    "Семинарист помнит, что первая проверочная получилась очень сложной, и максимальный балл в группе был далеко не 10. Поэтому он решил поделить баллы за эту проверочную на максимум по группе - чтобы у студента с максимальной оценкой получилось 10, а у остальных - просто оценка больше."
   ]
  },
  {
   "cell_type": "markdown",
   "metadata": {},
   "source": [
    "Каков максимальный балл за первую проверочную? Положите ответ в переменную `max_mark`."
   ]
  },
  {
   "cell_type": "code",
   "execution_count": 264,
   "metadata": {},
   "outputs": [
    {
     "data": {
      "text/plain": [
       "7.0"
      ]
     },
     "execution_count": 264,
     "metadata": {},
     "output_type": "execute_result"
    }
   ],
   "source": [
    "### ╰( ͡° ͜ʖ ͡° )つ──☆ люмус\n",
    "max_mark = marks.max(axis = 0)[0]\n",
    "max_mark"
   ]
  },
  {
   "cell_type": "markdown",
   "metadata": {},
   "source": [
    "Разделите первый столбец на `max_mark` (для этого надо выделить столбец, поставить после соответствующего выражения знак = и присвоить новое значение столбца)"
   ]
  },
  {
   "cell_type": "code",
   "execution_count": 265,
   "metadata": {},
   "outputs": [
    {
     "data": {
      "text/plain": [
       "array([10.        ,  0.        ,  4.28571429,  4.85714286,  9.71428571,\n",
       "       10.        ,  8.57142857,  0.        ,  7.14285714,  0.        ,\n",
       "        4.28571429,  5.71428571,  0.        ,  8.57142857,  7.14285714,\n",
       "        0.        , 10.        ,  6.42857143,  0.        ,  0.        ,\n",
       "        0.        ,  8.57142857,  9.28571429, 10.        ,  0.        ,\n",
       "       10.        ,  4.28571429,  5.        ])"
      ]
     },
     "execution_count": 265,
     "metadata": {},
     "output_type": "execute_result"
    }
   ],
   "source": [
    "### ╰( ͡° ͜ʖ ͡° )つ──☆  ридикулус\n",
    "marks[0:,0] = [10*(x/max_mark) for x in marks[0:,0]]\n",
    "marks[0:,0]"
   ]
  },
  {
   "cell_type": "markdown",
   "metadata": {},
   "source": [
    "### [2] Подсчет накопленной оценки\n",
    "\n",
    "Для вычисления накопленной надо посчитать средние оценки за проверочные для каждого студента и средние за домашние работы (может пригодиться `np.mean`). Накопленная оценка есть $0.3 \\cdot \\text{Проверочные} + 0.4 \\cdot \\text{Домашние} + 0.3 \\cdot \\text{Коллоквиум}$. Вычислите накопленные оценки и добавьте их в последний столбец матрицы."
   ]
  },
  {
   "cell_type": "code",
   "execution_count": 266,
   "metadata": {},
   "outputs": [],
   "source": [
    "# Веса следует брать из переменной weights, а не вписывать вручную\n",
    "weights = [0.3, 0.4, 0.3]"
   ]
  },
  {
   "cell_type": "code",
   "execution_count": 267,
   "metadata": {
    "scrolled": true
   },
   "outputs": [
    {
     "name": "stdout",
     "output_type": "stream",
     "text": [
      "3.5300000000000002\n",
      "3.5300000000000002\n",
      "8.23857142857143\n",
      "5.722380952380952\n",
      "6.124761904761905\n",
      "9.200000000000001\n",
      "8.963809523809523\n",
      "1.5\n",
      "9.467619047619047\n",
      "8.563333333333333\n",
      "1.9085714285714288\n",
      "9.218095238095238\n",
      "0.0\n",
      "8.717142857142857\n",
      "8.634285714285713\n",
      "1.34\n",
      "9.96\n",
      "3.779523809523809\n",
      "0.0\n",
      "1.43\n",
      "0.0\n",
      "8.517142857142858\n",
      "9.788571428571428\n",
      "9.566666666666666\n",
      "3.046666666666667\n",
      "4.84\n",
      "9.011904761904761\n",
      "8.816666666666666\n"
     ]
    }
   ],
   "source": [
    "### ╰( ͡° ͜ʖ ͡° )つ──☆ экспелярмус\n",
    "#nakop = (np.mean(marks[0,0:3])*weights[0] + np.mean(marks[0,3:6])*weights[1] + marks[0, 6]*weights[2])\n",
    "for i in range(len(marks)):\n",
    "    nakop = (np.mean(marks[i,0:3])*weights[0] + np.mean(marks[i,3:6])*weights[1] + marks[i, 6]*weights[2])\n",
    "    print(nakop)\n",
    "    marks[i, 6] = nakop"
   ]
  },
  {
   "cell_type": "code",
   "execution_count": 268,
   "metadata": {},
   "outputs": [
    {
     "data": {
      "text/plain": [
       "array([[10.        ,  8.        , 10.        ,  0.        ,  0.        ,\n",
       "         2.1       ,  3.53      ],\n",
       "       [ 0.        ,  6.        ,  4.4       ,  4.        ,  0.        ,\n",
       "         5.        ,  3.53      ],\n",
       "       [ 4.28571429,  7.        ,  8.7       ,  7.6       ,  7.        ,\n",
       "         9.7       ,  8.23857143],\n",
       "       [ 4.85714286,  1.3       ,  7.        ,  3.4       ,  0.        ,\n",
       "         9.4       ,  5.72238095],\n",
       "       [ 9.71428571,  9.1       ,  8.2       ,  0.        ,  0.        ,\n",
       "         7.9       ,  6.1247619 ],\n",
       "       [10.        , 10.        , 10.        ,  9.        ,  9.5       ,\n",
       "        10.        ,  9.2       ],\n",
       "       [ 8.57142857, 10.        ,  9.7       ,  8.7       ,  7.        ,\n",
       "         8.5       ,  8.96380952],\n",
       "       [ 0.        ,  9.3       ,  5.7       ,  0.        ,  0.        ,\n",
       "         0.        ,  1.5       ],\n",
       "       [ 7.14285714, 10.        , 10.        ,  9.9       , 10.5       ,\n",
       "        10.        ,  9.46761905],\n",
       "       [ 0.        ,  8.7       ,  8.        ,  9.7       , 10.        ,\n",
       "         9.5       ,  8.56333333],\n",
       "       [ 4.28571429,  6.9       ,  7.9       ,  0.        ,  0.        ,\n",
       "         0.        ,  1.90857143],\n",
       "       [ 5.71428571, 10.        , 10.        ,  9.9       ,  9.7       ,\n",
       "        10.        ,  9.21809524],\n",
       "       [ 0.        ,  0.        ,  0.        ,  0.        ,  0.        ,\n",
       "         0.        ,  0.        ],\n",
       "       [ 8.57142857,  5.        , 10.        ,  9.7       , 10.        ,\n",
       "        10.        ,  8.71714286],\n",
       "       [ 7.14285714, 10.        ,  9.        ,  7.        ,  7.9       ,\n",
       "        10.        ,  8.63428571],\n",
       "       [ 0.        ,  6.        ,  7.4       ,  0.        ,  0.        ,\n",
       "         0.        ,  1.34      ],\n",
       "       [10.        , 10.        , 10.        ,  9.7       , 10.        ,\n",
       "        10.        ,  9.96      ],\n",
       "       [ 6.42857143,  8.7       , 10.        ,  9.5       ,  0.        ,\n",
       "         0.        ,  3.77952381],\n",
       "       [ 0.        ,  0.        ,  0.        ,  0.        ,  0.        ,\n",
       "         0.        ,  0.        ],\n",
       "       [ 0.        ,  5.6       ,  8.7       ,  0.        ,  0.        ,\n",
       "         0.        ,  1.43      ],\n",
       "       [ 0.        ,  0.        ,  0.        ,  0.        ,  0.        ,\n",
       "         0.        ,  0.        ],\n",
       "       [ 8.57142857, 10.        , 10.        ,  9.7       ,  7.        ,\n",
       "        10.        ,  8.51714286],\n",
       "       [ 9.28571429,  8.7       ,  9.5       , 10.5       ,  9.8       ,\n",
       "        10.        ,  9.78857143],\n",
       "       [10.        ,  9.7       , 10.        ,  8.1       , 10.        ,\n",
       "        10.        ,  9.56666667],\n",
       "       [ 0.        ,  8.3       ,  9.5       ,  9.5       ,  0.        ,\n",
       "         0.        ,  3.04666667],\n",
       "       [10.        ,  7.4       ,  9.        ,  7.7       ,  0.        ,\n",
       "         8.8       ,  4.84      ],\n",
       "       [ 4.28571429,  8.7       , 10.        ,  9.4       , 10.7       ,\n",
       "        10.        ,  9.01190476],\n",
       "       [ 5.        ,  9.3       , 10.        ,  9.9       , 10.        ,\n",
       "        10.        ,  8.81666667]])"
      ]
     },
     "execution_count": 268,
     "metadata": {},
     "output_type": "execute_result"
    }
   ],
   "source": [
    "marks"
   ]
  },
  {
   "cell_type": "markdown",
   "metadata": {},
   "source": [
    "### [1] Студенты, которых, вероятно, отчислят"
   ]
  },
  {
   "cell_type": "markdown",
   "metadata": {},
   "source": [
    "Сколько в группе студентов с накопленной оценкой 0? Вам может понадобиться тот факт, что применение np.sum к бинарному вектору дает число значений True в нем, например:"
   ]
  },
  {
   "cell_type": "code",
   "execution_count": 269,
   "metadata": {},
   "outputs": [
    {
     "data": {
      "text/plain": [
       "2"
      ]
     },
     "execution_count": 269,
     "metadata": {},
     "output_type": "execute_result"
    }
   ],
   "source": [
    "np.sum([True, False, True]) # 2 значения True"
   ]
  },
  {
   "cell_type": "code",
   "execution_count": 270,
   "metadata": {},
   "outputs": [
    {
     "data": {
      "text/plain": [
       "3"
      ]
     },
     "execution_count": 270,
     "metadata": {},
     "output_type": "execute_result"
    }
   ],
   "source": [
    "### ╰( ͡° ͜ʖ ͡° )つ──☆ империо\n",
    "np.sum([(x == 0) for x in marks[0:, 6]])\n"
   ]
  },
  {
   "cell_type": "markdown",
   "metadata": {},
   "source": [
    "Оцените вероятность того, что студента отчислят. "
   ]
  },
  {
   "cell_type": "code",
   "execution_count": 271,
   "metadata": {},
   "outputs": [
    {
     "data": {
      "text/plain": [
       "[0.647,\n",
       " 0.647,\n",
       " 0.176,\n",
       " 0.428,\n",
       " 0.388,\n",
       " 0.08,\n",
       " 0.104,\n",
       " 0.85,\n",
       " 0.053,\n",
       " 0.144,\n",
       " 0.809,\n",
       " 0.078,\n",
       " 1.0,\n",
       " 0.128,\n",
       " 0.137,\n",
       " 0.866,\n",
       " 0.004,\n",
       " 0.622,\n",
       " 1.0,\n",
       " 0.857,\n",
       " 1.0,\n",
       " 0.148,\n",
       " 0.021,\n",
       " 0.043,\n",
       " 0.695,\n",
       " 0.516,\n",
       " 0.099,\n",
       " 0.118]"
      ]
     },
     "execution_count": 271,
     "metadata": {},
     "output_type": "execute_result"
    }
   ],
   "source": [
    "### ╰( ͡° ͜ʖ ͡° )つ──☆ круцио\n",
    "deducts = [round(((10 - x)/10), 3) for x in marks[0:, 6]]\n",
    "deducts"
   ]
  },
  {
   "cell_type": "markdown",
   "metadata": {},
   "source": [
    "### [1] Студенты, которые получат автоматы\n",
    "Выделите в отдельный массив студентов, у которых накопленная оценка больше $8$"
   ]
  },
  {
   "cell_type": "code",
   "execution_count": 272,
   "metadata": {},
   "outputs": [
    {
     "data": {
      "text/plain": [
       "[False,\n",
       " False,\n",
       " True,\n",
       " False,\n",
       " False,\n",
       " True,\n",
       " True,\n",
       " False,\n",
       " True,\n",
       " True,\n",
       " False,\n",
       " True,\n",
       " False,\n",
       " True,\n",
       " True,\n",
       " False,\n",
       " True,\n",
       " False,\n",
       " False,\n",
       " False,\n",
       " False,\n",
       " True,\n",
       " True,\n",
       " True,\n",
       " False,\n",
       " False,\n",
       " True,\n",
       " True]"
      ]
     },
     "execution_count": 272,
     "metadata": {},
     "output_type": "execute_result"
    }
   ],
   "source": [
    "### ╰( ͡° ͜ʖ ͡° )つ──☆ асцендио\n",
    "eights = [(x >= 8 ) for x in marks[0:, 6]]\n",
    "eights"
   ]
  },
  {
   "cell_type": "markdown",
   "metadata": {},
   "source": [
    "Какова вероятность того, что студент получит автомат?"
   ]
  },
  {
   "cell_type": "code",
   "execution_count": 273,
   "metadata": {},
   "outputs": [
    {
     "data": {
      "text/plain": [
       "[0.353,\n",
       " 0.353,\n",
       " 0.824,\n",
       " 0.572,\n",
       " 0.612,\n",
       " 0.92,\n",
       " 0.896,\n",
       " 0.15,\n",
       " 0.947,\n",
       " 0.856,\n",
       " 0.191,\n",
       " 0.922,\n",
       " 0.0,\n",
       " 0.872,\n",
       " 0.863,\n",
       " 0.134,\n",
       " 0.996,\n",
       " 0.378,\n",
       " 0.0,\n",
       " 0.143,\n",
       " 0.0,\n",
       " 0.852,\n",
       " 0.979,\n",
       " 0.957,\n",
       " 0.305,\n",
       " 0.484,\n",
       " 0.901,\n",
       " 0.882]"
      ]
     },
     "execution_count": 273,
     "metadata": {},
     "output_type": "execute_result"
    }
   ],
   "source": [
    "### ╰( ͡° ͜ʖ ͡° )つ──☆ диссендиум\n",
    "automats = [round(x/10, 3) for x in marks[0:, 6]]\n",
    "automats"
   ]
  },
  {
   "cell_type": "markdown",
   "metadata": {},
   "source": [
    "### [2] Сложность заданий \n",
    "\n",
    "Наконец, семинарист хочет оценить сложность заданий, проверочных и коллоквиума по своей особой системе. Он присвоил каждому студенту вес (веса суммируются в 1) и хочет посчитать для каждого задания, проверочной и коллоквиума среднюю оценку с весами. \n",
    "\n",
    "Пример, что имеется в виду: если есть $4$ студента с весами `[0.1, 0.2, 0.3, 0.4]` и оценками `[3, 7, 9, 10]`, то средняя оценка за задание с весами получится "
   ]
  },
  {
   "cell_type": "code",
   "execution_count": 274,
   "metadata": {},
   "outputs": [
    {
     "data": {
      "text/plain": [
       "8.4"
      ]
     },
     "execution_count": 274,
     "metadata": {},
     "output_type": "execute_result"
    }
   ],
   "source": [
    "0.1 * 3 + 0.2 * 7 + 0.3 * 9 + 0.4 * 10 "
   ]
  },
  {
   "cell_type": "markdown",
   "metadata": {},
   "source": [
    "Веса:"
   ]
  },
  {
   "cell_type": "code",
   "execution_count": 275,
   "metadata": {},
   "outputs": [
    {
     "data": {
      "text/plain": [
       "array([0.01315789, 0.01315789, 0.01315789, 0.01315789, 0.01315789,\n",
       "       0.01315789, 0.01315789, 0.02631579, 0.02631579, 0.02631579,\n",
       "       0.02631579, 0.03947368, 0.03947368, 0.03947368, 0.03947368,\n",
       "       0.03947368, 0.03947368, 0.03947368, 0.05263158, 0.05263158,\n",
       "       0.05263158, 0.05263158, 0.05263158, 0.05263158, 0.05263158,\n",
       "       0.05263158, 0.05263158, 0.05263158])"
      ]
     },
     "execution_count": 275,
     "metadata": {},
     "output_type": "execute_result"
    }
   ],
   "source": [
    "weights = np.array([1.]*7+[2.]*4+[3.]*7+[4.]*(marks.shape[0]-18))\n",
    "\n",
    "# разделите веса на их сумму, чтобы они суммировались к 1\n",
    "s = np.sum(weights)\n",
    "weights  = np.array([1/s]*weights[:])\n",
    "weights\n"
   ]
  },
  {
   "cell_type": "markdown",
   "metadata": {},
   "source": [
    "Посчитайте указанным образом сложность каждого \"столбца\"."
   ]
  },
  {
   "cell_type": "code",
   "execution_count": 276,
   "metadata": {},
   "outputs": [
    {
     "data": {
      "text/plain": [
       "array([[0.13157895, 0.10526316, 0.13157895, 0.        , 0.        ,\n",
       "        0.02763158, 0.04644737],\n",
       "       [0.        , 0.07894737, 0.05789474, 0.05263158, 0.        ,\n",
       "        0.06578947, 0.04644737],\n",
       "       [0.05639098, 0.09210526, 0.11447368, 0.1       , 0.09210526,\n",
       "        0.12763158, 0.10840226],\n",
       "       [0.06390977, 0.01710526, 0.09210526, 0.04473684, 0.        ,\n",
       "        0.12368421, 0.07529449],\n",
       "       [0.12781955, 0.11973684, 0.10789474, 0.        , 0.        ,\n",
       "        0.10394737, 0.08058897],\n",
       "       [0.13157895, 0.13157895, 0.13157895, 0.11842105, 0.125     ,\n",
       "        0.13157895, 0.12105263],\n",
       "       [0.11278195, 0.13157895, 0.12763158, 0.11447368, 0.09210526,\n",
       "        0.11184211, 0.11794486],\n",
       "       [0.        , 0.24473684, 0.15      , 0.        , 0.        ,\n",
       "        0.        , 0.03947368],\n",
       "       [0.18796992, 0.26315789, 0.26315789, 0.26052632, 0.27631579,\n",
       "        0.26315789, 0.24914787],\n",
       "       [0.        , 0.22894737, 0.21052632, 0.25526316, 0.26315789,\n",
       "        0.25      , 0.22535088],\n",
       "       [0.11278195, 0.18157895, 0.20789474, 0.        , 0.        ,\n",
       "        0.        , 0.05022556],\n",
       "       [0.22556391, 0.39473684, 0.39473684, 0.39078947, 0.38289474,\n",
       "        0.39473684, 0.36387218],\n",
       "       [0.        , 0.        , 0.        , 0.        , 0.        ,\n",
       "        0.        , 0.        ],\n",
       "       [0.33834586, 0.19736842, 0.39473684, 0.38289474, 0.39473684,\n",
       "        0.39473684, 0.34409774],\n",
       "       [0.28195489, 0.39473684, 0.35526316, 0.27631579, 0.31184211,\n",
       "        0.39473684, 0.34082707],\n",
       "       [0.        , 0.23684211, 0.29210526, 0.        , 0.        ,\n",
       "        0.        , 0.05289474],\n",
       "       [0.39473684, 0.39473684, 0.39473684, 0.38289474, 0.39473684,\n",
       "        0.39473684, 0.39315789],\n",
       "       [0.2537594 , 0.34342105, 0.39473684, 0.375     , 0.        ,\n",
       "        0.        , 0.14919173],\n",
       "       [0.        , 0.        , 0.        , 0.        , 0.        ,\n",
       "        0.        , 0.        ],\n",
       "       [0.        , 0.29473684, 0.45789474, 0.        , 0.        ,\n",
       "        0.        , 0.07526316],\n",
       "       [0.        , 0.        , 0.        , 0.        , 0.        ,\n",
       "        0.        , 0.        ],\n",
       "       [0.45112782, 0.52631579, 0.52631579, 0.51052632, 0.36842105,\n",
       "        0.52631579, 0.44827068],\n",
       "       [0.4887218 , 0.45789474, 0.5       , 0.55263158, 0.51578947,\n",
       "        0.52631579, 0.51518797],\n",
       "       [0.52631579, 0.51052632, 0.52631579, 0.42631579, 0.52631579,\n",
       "        0.52631579, 0.50350877],\n",
       "       [0.        , 0.43684211, 0.5       , 0.5       , 0.        ,\n",
       "        0.        , 0.16035088],\n",
       "       [0.52631579, 0.38947368, 0.47368421, 0.40526316, 0.        ,\n",
       "        0.46315789, 0.25473684],\n",
       "       [0.22556391, 0.45789474, 0.52631579, 0.49473684, 0.56315789,\n",
       "        0.52631579, 0.47431078],\n",
       "       [0.26315789, 0.48947368, 0.52631579, 0.52105263, 0.52631579,\n",
       "        0.52631579, 0.46403509]])"
      ]
     },
     "execution_count": 276,
     "metadata": {},
     "output_type": "execute_result"
    }
   ],
   "source": [
    "### ╰( ͡° ͜ʖ ͡° )つ──☆ авада кедавра\n",
    "for i in range(len(marks)):\n",
    "    for j in range(7):\n",
    "        marks[i, j] = marks[i, j] * weights[i]\n",
    "marks"
   ]
  },
  {
   "cell_type": "markdown",
   "metadata": {},
   "source": [
    "### [1]  Близость \n",
    "\n",
    "Семинаристу стало интересно, какой из студентов ближе всего по своим баллам находится к самому первому. Чтобы выяснить это, он решил посчитать между первым студентом и всеми остальными манхэттенское расстояние. \n",
    "\n",
    "Найдите номер студента, для которого расстояние до первого студента является кратчайшим. "
   ]
  },
  {
   "cell_type": "code",
   "execution_count": null,
   "metadata": {},
   "outputs": [],
   "source": [
    "### ╰( ͡° ͜ʖ ͡° )つ──☆ остолбеней"
   ]
  },
  {
   "cell_type": "code",
   "execution_count": null,
   "metadata": {},
   "outputs": [],
   "source": []
  }
 ],
 "metadata": {
  "kernelspec": {
   "display_name": "Python 3",
   "language": "python",
   "name": "python3"
  },
  "language_info": {
   "codemirror_mode": {
    "name": "ipython",
    "version": 3
   },
   "file_extension": ".py",
   "mimetype": "text/x-python",
   "name": "python",
   "nbconvert_exporter": "python",
   "pygments_lexer": "ipython3",
   "version": "3.6.0"
  }
 },
 "nbformat": 4,
 "nbformat_minor": 2
}
