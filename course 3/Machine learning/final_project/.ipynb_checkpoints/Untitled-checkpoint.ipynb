{
 "cells": [
  {
   "cell_type": "code",
   "execution_count": 1,
   "metadata": {},
   "outputs": [],
   "source": [
    "import pymorphy2"
   ]
  },
  {
   "cell_type": "code",
   "execution_count": 2,
   "metadata": {},
   "outputs": [],
   "source": [
    "pmm = pymorphy2.MorphAnalyzer()"
   ]
  },
  {
   "cell_type": "code",
   "execution_count": null,
   "metadata": {},
   "outputs": [],
   "source": [
    "pmm.normal_forms("
   ]
  },
  {
   "cell_type": "code",
   "execution_count": null,
   "metadata": {},
   "outputs": [
    {
     "name": "stdout",
     "output_type": "stream",
     "text": [
      "grandmas\n",
      "observe\n",
      "besit\n",
      "child\n"
     ]
    }
   ],
   "source": [
    "import re\n",
    "import csv\n",
    "from pymystem3 import Mystem\n",
    "\n",
    "\n",
    "from stop_words import get_stop_words\n",
    "ru_stop = get_stop_words('ru')\n",
    "\n",
    "\n",
    "mystem_object = Mystem()\n",
    "mystem_object.start()\n",
    "\n",
    "\n",
    "\n",
    "def processFile(): \n",
    "    arr = ['grandmas', 'observe', 'besit', 'child', 'fearful', 'work']\n",
    "    with open('all_lemm_stop_n2.csv', 'w', newline='', encoding='utf8') as w:\n",
    "        writer = csv.writer(w, delimiter=',')\n",
    "        for name in arr:\n",
    "            print(name)            \n",
    "            with open(name+'.csv', 'r', encoding='utf-8')as f:\n",
    "                reader = csv.reader(f)\n",
    "                for line in reader:\n",
    "                    string = ''\n",
    "                    \n",
    "                    words = line[0].split(' ')\n",
    "                    words = [w.strip(',\\.\\\"!–?-\\'\\\"\\(\\)\\\"-::—;)(\\«\\»\\W')   for w in words]\n",
    "                    for word in words:\n",
    "                        tmp = pmm.normal_forms(word)[0]\n",
    "                        if tmp == 'не':\n",
    "                            s = tmp + '_'\n",
    "                        else:\n",
    "                            if tmp not in ru_stop:\n",
    "                                s = tmp + ' '\n",
    "                            else:\n",
    "                                continue\n",
    "                        \n",
    "                        string += s\n",
    "                   # print(string)    \n",
    "                    string = re.sub('\\s+', ' ', string )        \n",
    "                    writer.writerow([string, name])\n",
    "    print('Done')\n",
    "    \n",
    "\n",
    "clean_doc = processFile()"
   ]
  },
  {
   "cell_type": "code",
   "execution_count": null,
   "metadata": {},
   "outputs": [],
   "source": []
  },
  {
   "cell_type": "code",
   "execution_count": null,
   "metadata": {},
   "outputs": [],
   "source": []
  }
 ],
 "metadata": {
  "kernelspec": {
   "display_name": "Python 3",
   "language": "python",
   "name": "python3"
  },
  "language_info": {
   "codemirror_mode": {
    "name": "ipython",
    "version": 3
   },
   "file_extension": ".py",
   "mimetype": "text/x-python",
   "name": "python",
   "nbconvert_exporter": "python",
   "pygments_lexer": "ipython3",
   "version": "3.6.0"
  }
 },
 "nbformat": 4,
 "nbformat_minor": 2
}
