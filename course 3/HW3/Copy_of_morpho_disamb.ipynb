{
  "nbformat": 4,
  "nbformat_minor": 0,
  "metadata": {
    "colab": {
      "name": "Copy of morpho_disamb.ipynb",
      "version": "0.3.2",
      "provenance": [],
      "collapsed_sections": []
    },
    "kernelspec": {
      "name": "python3",
      "display_name": "Python 3"
    },
    "accelerator": "GPU"
  },
  "cells": [
    {
      "cell_type": "code",
      "metadata": {
        "id": "PgEgLYv5KnGL",
        "colab_type": "code",
        "outputId": "cb407b45-f2ef-4af2-edf8-96b3b934dc47",
        "colab": {
          "base_uri": "https://localhost:8080/",
          "height": 224
        }
      },
      "source": [
        "!pip install pymorphy2"
      ],
      "execution_count": 3,
      "outputs": [
        {
          "output_type": "stream",
          "text": [
            "Collecting pymorphy2\n",
            "\u001b[?25l  Downloading https://files.pythonhosted.org/packages/a3/33/fff9675c68b5f6c63ec8c6e6ff57827dda28a1fa5b2c2d727dffff92dd47/pymorphy2-0.8-py2.py3-none-any.whl (46kB)\n",
            "\u001b[K     |████████████████████████████████| 51kB 6.2MB/s \n",
            "\u001b[?25hCollecting dawg-python>=0.7 (from pymorphy2)\n",
            "  Downloading https://files.pythonhosted.org/packages/6a/84/ff1ce2071d4c650ec85745766c0047ccc3b5036f1d03559fd46bb38b5eeb/DAWG_Python-0.7.2-py2.py3-none-any.whl\n",
            "Requirement already satisfied: docopt>=0.6 in /usr/local/lib/python3.6/dist-packages (from pymorphy2) (0.6.2)\n",
            "Collecting pymorphy2-dicts<3.0,>=2.4 (from pymorphy2)\n",
            "\u001b[?25l  Downloading https://files.pythonhosted.org/packages/02/51/2465fd4f72328ab50877b54777764d928da8cb15b74e2680fc1bd8cb3173/pymorphy2_dicts-2.4.393442.3710985-py2.py3-none-any.whl (7.1MB)\n",
            "\u001b[K     |████████████████████████████████| 7.1MB 24.0MB/s \n",
            "\u001b[?25hInstalling collected packages: dawg-python, pymorphy2-dicts, pymorphy2\n",
            "Successfully installed dawg-python-0.7.2 pymorphy2-0.8 pymorphy2-dicts-2.4.393442.3710985\n"
          ],
          "name": "stdout"
        }
      ]
    },
    {
      "cell_type": "code",
      "metadata": {
        "id": "2ghOm4N-08GO",
        "colab_type": "code",
        "colab": {}
      },
      "source": [
        "import numpy as np\n",
        "import pymorphy2\n",
        "from pymorphy2 import MorphAnalyzer"
      ],
      "execution_count": 0,
      "outputs": []
    },
    {
      "cell_type": "markdown",
      "metadata": {
        "id": "NPOgMnI-81so",
        "colab_type": "text"
      },
      "source": [
        "Про существующие инструменты хорошо написано вот тут  - http://web-corpora.net/wsgi/mystemplus.wsgi/mystemplus/instructions/"
      ]
    },
    {
      "cell_type": "markdown",
      "metadata": {
        "id": "P6H5NM8O9BJf",
        "colab_type": "text"
      },
      "source": [
        "Не все из списка просто установить даже в колабе. Воспользуемся TreeTagger. Он хотя бы работает."
      ]
    },
    {
      "cell_type": "markdown",
      "metadata": {
        "id": "t6g4DGAj9BMp",
        "colab_type": "text"
      },
      "source": [
        "Скачиваем нужные файлы по инструкции."
      ]
    },
    {
      "cell_type": "code",
      "metadata": {
        "id": "QJSOrmGM80vJ",
        "colab_type": "code",
        "outputId": "9b5d24c0-14e8-46a9-c10d-52b4e0cb40ae",
        "colab": {
          "base_uri": "https://localhost:8080/",
          "height": 272
        }
      },
      "source": [
        "!wget http://www.cis.uni-muenchen.de/~schmid/tools/TreeTagger/data/tree-tagger-linux-3.2.2.tar.gz"
      ],
      "execution_count": 5,
      "outputs": [
        {
          "output_type": "stream",
          "text": [
            "--2019-06-09 06:15:31--  http://www.cis.uni-muenchen.de/~schmid/tools/TreeTagger/data/tree-tagger-linux-3.2.2.tar.gz\n",
            "Resolving www.cis.uni-muenchen.de (www.cis.uni-muenchen.de)... 129.187.148.72, 2001:4ca0:4f01::5\n",
            "Connecting to www.cis.uni-muenchen.de (www.cis.uni-muenchen.de)|129.187.148.72|:80... connected.\n",
            "HTTP request sent, awaiting response... 302 Found\n",
            "Location: https://www.cis.uni-muenchen.de/~schmid/tools/TreeTagger/data/tree-tagger-linux-3.2.2.tar.gz [following]\n",
            "--2019-06-09 06:15:31--  https://www.cis.uni-muenchen.de/~schmid/tools/TreeTagger/data/tree-tagger-linux-3.2.2.tar.gz\n",
            "Connecting to www.cis.uni-muenchen.de (www.cis.uni-muenchen.de)|129.187.148.72|:443... connected.\n",
            "HTTP request sent, awaiting response... 200 OK\n",
            "Length: 1821366 (1.7M) [application/x-gzip]\n",
            "Saving to: ‘tree-tagger-linux-3.2.2.tar.gz’\n",
            "\n",
            "\r          tree-tagg   0%[                    ]       0  --.-KB/s               \rtree-tagger-linux-3 100%[===================>]   1.74M  9.97MB/s    in 0.2s    \n",
            "\n",
            "2019-06-09 06:15:31 (9.97 MB/s) - ‘tree-tagger-linux-3.2.2.tar.gz’ saved [1821366/1821366]\n",
            "\n"
          ],
          "name": "stdout"
        }
      ]
    },
    {
      "cell_type": "code",
      "metadata": {
        "id": "uAH8K4T_5z8o",
        "colab_type": "code",
        "outputId": "01e0762d-36c6-429d-9ea0-4a8c88dd2062",
        "colab": {
          "base_uri": "https://localhost:8080/",
          "height": 272
        }
      },
      "source": [
        "!wget http://www.cis.uni-muenchen.de/~schmid/tools/TreeTagger/data/tagger-scripts.tar.gz"
      ],
      "execution_count": 6,
      "outputs": [
        {
          "output_type": "stream",
          "text": [
            "--2019-06-09 06:15:33--  http://www.cis.uni-muenchen.de/~schmid/tools/TreeTagger/data/tagger-scripts.tar.gz\n",
            "Resolving www.cis.uni-muenchen.de (www.cis.uni-muenchen.de)... 129.187.148.72, 2001:4ca0:4f01::5\n",
            "Connecting to www.cis.uni-muenchen.de (www.cis.uni-muenchen.de)|129.187.148.72|:80... connected.\n",
            "HTTP request sent, awaiting response... 302 Found\n",
            "Location: https://www.cis.uni-muenchen.de/~schmid/tools/TreeTagger/data/tagger-scripts.tar.gz [following]\n",
            "--2019-06-09 06:15:33--  https://www.cis.uni-muenchen.de/~schmid/tools/TreeTagger/data/tagger-scripts.tar.gz\n",
            "Connecting to www.cis.uni-muenchen.de (www.cis.uni-muenchen.de)|129.187.148.72|:443... connected.\n",
            "HTTP request sent, awaiting response... 200 OK\n",
            "Length: 101810 (99K) [application/x-gzip]\n",
            "Saving to: ‘tagger-scripts.tar.gz’\n",
            "\n",
            "\rtagger-scripts.tar.   0%[                    ]       0  --.-KB/s               \rtagger-scripts.tar. 100%[===================>]  99.42K  --.-KB/s    in 0.05s   \n",
            "\n",
            "2019-06-09 06:15:33 (1.99 MB/s) - ‘tagger-scripts.tar.gz’ saved [101810/101810]\n",
            "\n"
          ],
          "name": "stdout"
        }
      ]
    },
    {
      "cell_type": "code",
      "metadata": {
        "id": "8SJ8rbYf5z-e",
        "colab_type": "code",
        "outputId": "a19daccf-ed3b-4765-e9e1-810f0ed53cd9",
        "colab": {
          "base_uri": "https://localhost:8080/",
          "height": 272
        }
      },
      "source": [
        "!wget http://www.cis.uni-muenchen.de/~schmid/tools/TreeTagger/data/install-tagger.sh"
      ],
      "execution_count": 7,
      "outputs": [
        {
          "output_type": "stream",
          "text": [
            "--2019-06-09 06:15:35--  http://www.cis.uni-muenchen.de/~schmid/tools/TreeTagger/data/install-tagger.sh\n",
            "Resolving www.cis.uni-muenchen.de (www.cis.uni-muenchen.de)... 129.187.148.72, 2001:4ca0:4f01::5\n",
            "Connecting to www.cis.uni-muenchen.de (www.cis.uni-muenchen.de)|129.187.148.72|:80... connected.\n",
            "HTTP request sent, awaiting response... 302 Found\n",
            "Location: https://www.cis.uni-muenchen.de/~schmid/tools/TreeTagger/data/install-tagger.sh [following]\n",
            "--2019-06-09 06:15:35--  https://www.cis.uni-muenchen.de/~schmid/tools/TreeTagger/data/install-tagger.sh\n",
            "Connecting to www.cis.uni-muenchen.de (www.cis.uni-muenchen.de)|129.187.148.72|:443... connected.\n",
            "HTTP request sent, awaiting response... 200 OK\n",
            "Length: 12409 (12K) [application/x-shellscript]\n",
            "Saving to: ‘install-tagger.sh’\n",
            "\n",
            "\rinstall-tagger.sh     0%[                    ]       0  --.-KB/s               \rinstall-tagger.sh   100%[===================>]  12.12K  --.-KB/s    in 0s      \n",
            "\n",
            "2019-06-09 06:15:35 (147 MB/s) - ‘install-tagger.sh’ saved [12409/12409]\n",
            "\n"
          ],
          "name": "stdout"
        }
      ]
    },
    {
      "cell_type": "code",
      "metadata": {
        "id": "n__NxBzk50DC",
        "colab_type": "code",
        "outputId": "60b0208c-2b81-49f0-9324-40f68c64419e",
        "colab": {
          "base_uri": "https://localhost:8080/",
          "height": 272
        }
      },
      "source": [
        "!wget http://www.cis.uni-muenchen.de/~schmid/tools/TreeTagger/data/russian.par.gz"
      ],
      "execution_count": 8,
      "outputs": [
        {
          "output_type": "stream",
          "text": [
            "--2019-06-09 06:15:37--  http://www.cis.uni-muenchen.de/~schmid/tools/TreeTagger/data/russian.par.gz\n",
            "Resolving www.cis.uni-muenchen.de (www.cis.uni-muenchen.de)... 129.187.148.72, 2001:4ca0:4f01::5\n",
            "Connecting to www.cis.uni-muenchen.de (www.cis.uni-muenchen.de)|129.187.148.72|:80... connected.\n",
            "HTTP request sent, awaiting response... 302 Found\n",
            "Location: https://www.cis.uni-muenchen.de/~schmid/tools/TreeTagger/data/russian.par.gz [following]\n",
            "--2019-06-09 06:15:37--  https://www.cis.uni-muenchen.de/~schmid/tools/TreeTagger/data/russian.par.gz\n",
            "Connecting to www.cis.uni-muenchen.de (www.cis.uni-muenchen.de)|129.187.148.72|:443... connected.\n",
            "HTTP request sent, awaiting response... 200 OK\n",
            "Length: 115748255 (110M) [application/x-gzip]\n",
            "Saving to: ‘russian.par.gz’\n",
            "\n",
            "russian.par.gz      100%[===================>] 110.39M  95.0MB/s    in 1.2s    \n",
            "\n",
            "2019-06-09 06:15:38 (95.0 MB/s) - ‘russian.par.gz’ saved [115748255/115748255]\n",
            "\n"
          ],
          "name": "stdout"
        }
      ]
    },
    {
      "cell_type": "markdown",
      "metadata": {
        "id": "zUTvm68R9Qz8",
        "colab_type": "text"
      },
      "source": [
        "Устанавливаем."
      ]
    },
    {
      "cell_type": "code",
      "metadata": {
        "id": "Y_Zl4nv050G0",
        "colab_type": "code",
        "outputId": "3d6dcaa2-b93e-4a04-a976-f223d6e7dd3e",
        "colab": {
          "base_uri": "https://localhost:8080/",
          "height": 153
        }
      },
      "source": [
        "!sh install-tagger.sh"
      ],
      "execution_count": 9,
      "outputs": [
        {
          "output_type": "stream",
          "text": [
            "\n",
            "TreeTagger version for PC-Linux installed.\n",
            "Tagging scripts installed.\n",
            "Russian parameter file installed.\n",
            "Path variables modified in tagging scripts.\n",
            "\n",
            "You might want to add /content/cmd and /content/bin to the PATH variable so that you do not need to specify the full path to run the tagging scripts.\n",
            "\n"
          ],
          "name": "stdout"
        }
      ]
    },
    {
      "cell_type": "markdown",
      "metadata": {
        "id": "83EIeB1j9TR4",
        "colab_type": "text"
      },
      "source": [
        "Предобученная модель для русского уже есть. Можно потестить."
      ]
    },
    {
      "cell_type": "code",
      "metadata": {
        "id": "opn4plRc50Ij",
        "colab_type": "code",
        "outputId": "5f094e94-e1d7-40c1-85f0-d9c2a05b3bdc",
        "colab": {
          "base_uri": "https://localhost:8080/",
          "height": 153
        }
      },
      "source": [
        "!echo 'Я хочу съесть грушу!' | cmd/tree-tagger-russian "
      ],
      "execution_count": 10,
      "outputs": [
        {
          "output_type": "stream",
          "text": [
            "\treading parameters ...\n",
            "\ttagging ...\n",
            "Я\tP-1-snn\tя\n",
            "хочу\tVmip1s-a-e\tхотеть\n",
            "съесть\tVmn----a-p\tсъесть\n",
            "грушу\tNcfsan\tгруша\n",
            "!\tSENT\t!\n",
            "\t finished.\n"
          ],
          "name": "stdout"
        }
      ]
    },
    {
      "cell_type": "markdown",
      "metadata": {
        "id": "Va0btbvi9Y55",
        "colab_type": "text"
      },
      "source": [
        "Но тэги тут странноватые. Чтобы оценить это все на нашем корпусе, нужно будет обучить модель заново."
      ]
    },
    {
      "cell_type": "code",
      "metadata": {
        "id": "M0V-1lxg50NF",
        "colab_type": "code",
        "outputId": "8d829827-f8b2-4320-c447-6a32f0a5f368",
        "colab": {
          "base_uri": "https://localhost:8080/",
          "height": 204
        }
      },
      "source": [
        "!wget http://opencorpora.org/files/export/annot/annot.opcorpora.no_ambig_strict.xml.zip"
      ],
      "execution_count": 11,
      "outputs": [
        {
          "output_type": "stream",
          "text": [
            "--2019-06-09 06:15:49--  http://opencorpora.org/files/export/annot/annot.opcorpora.no_ambig_strict.xml.zip\n",
            "Resolving opencorpora.org (opencorpora.org)... 148.251.2.141\n",
            "Connecting to opencorpora.org (opencorpora.org)|148.251.2.141|:80... connected.\n",
            "HTTP request sent, awaiting response... 200 OK\n",
            "Length: 2194522 (2.1M) [application/zip]\n",
            "Saving to: ‘annot.opcorpora.no_ambig_strict.xml.zip’\n",
            "\n",
            "\r          annot.opc   0%[                    ]       0  --.-KB/s               \rannot.opcorpora.no_ 100%[===================>]   2.09M  --.-KB/s    in 0.1s    \n",
            "\n",
            "2019-06-09 06:15:49 (21.2 MB/s) - ‘annot.opcorpora.no_ambig_strict.xml.zip’ saved [2194522/2194522]\n",
            "\n"
          ],
          "name": "stdout"
        }
      ]
    },
    {
      "cell_type": "code",
      "metadata": {
        "id": "JHLr7nmv-F3c",
        "colab_type": "code",
        "outputId": "e1828140-bca6-4205-e354-51f8e2bf0b4a",
        "colab": {
          "base_uri": "https://localhost:8080/",
          "height": 51
        }
      },
      "source": [
        "!unzip annot.opcorpora.no_ambig_strict.xml.zip"
      ],
      "execution_count": 12,
      "outputs": [
        {
          "output_type": "stream",
          "text": [
            "Archive:  annot.opcorpora.no_ambig_strict.xml.zip\n",
            "  inflating: annot.opcorpora.no_ambig_strict.xml  \n"
          ],
          "name": "stdout"
        }
      ]
    },
    {
      "cell_type": "code",
      "metadata": {
        "id": "dh8OpwE5-F6h",
        "colab_type": "code",
        "colab": {}
      },
      "source": [
        "from lxml import etree\n",
        "from collections import defaultdict"
      ],
      "execution_count": 0,
      "outputs": []
    },
    {
      "cell_type": "code",
      "metadata": {
        "id": "GCuVu_w9-bC2",
        "colab_type": "code",
        "colab": {}
      },
      "source": [
        "open_corpora = etree.fromstring(open('annot.opcorpora.no_ambig_strict.xml', 'rb').read())"
      ],
      "execution_count": 0,
      "outputs": []
    },
    {
      "cell_type": "markdown",
      "metadata": {
        "id": "KAi-Sq0A9num",
        "colab_type": "text"
      },
      "source": [
        "Формат файлов делаем по инструкции."
      ]
    },
    {
      "cell_type": "code",
      "metadata": {
        "id": "PWp7bYeD-bEg",
        "colab_type": "code",
        "colab": {}
      },
      "source": [
        "corpus = open('corpus_train.txt', 'w')\n",
        "\n",
        "vocab = defaultdict(set)\n",
        "tags = set()\n",
        "sentences = []\n",
        "test_sentences = []\n",
        "check_sentences = []\n",
        "\n",
        "for sentence in open_corpora.xpath('//tokens'):\n",
        "    onesent = []\n",
        "    onetestsent = []\n",
        "    onecheck = []\n",
        "    length = len(sentence.xpath('token'))\n",
        "    ended = False\n",
        "    for i,token in enumerate(sentence.xpath('token')):\n",
        "        word = token.xpath('@text')\n",
        "        gram_info = token.xpath('tfr/v/l/g/@v')\n",
        "        \n",
        "        if (i+1)==length and gram_info[0] == 'PNCT':\n",
        "            gram_info = ['SENT']\n",
        "            ended = True\n",
        "        \n",
        "        onesent.append(word[0] + '\\t' + ','.join(gram_info) + '\\n')\n",
        "        onetestsent.append(word[0])\n",
        "        onecheck.append(','.join(gram_info))\n",
        "        corpus.write(word[0] + '\\t' + ','.join(gram_info) + '\\n')\n",
        "        lemma = token.xpath('tfr/v/l/@t')[0]\n",
        "        vocab[word[0].lower()].add((','.join(gram_info), lemma.lower()))\n",
        "        tags.add(','.join(gram_info))\n",
        "    \n",
        "    if not ended:\n",
        "        corpus.write('.\\tSENT\\n')\n",
        "    sentences.append(''.join(onesent))\n",
        "    test_sentences.append('\\n'.join(onetestsent))\n",
        "    check_sentences.append('\\n'.join(onecheck))\n",
        "\n",
        "        "
      ],
      "execution_count": 0,
      "outputs": []
    },
    {
      "cell_type": "code",
      "metadata": {
        "id": "68s1R8NI4M4L",
        "colab_type": "code",
        "outputId": "55433ebd-99ed-4b27-d6f1-1253b8007f92",
        "colab": {
          "base_uri": "https://localhost:8080/",
          "height": 207
        }
      },
      "source": [
        "sentences[:10]"
      ],
      "execution_count": 16,
      "outputs": [
        {
          "output_type": "execute_result",
          "data": {
            "text/plain": [
              "['«\\tPNCT\\nШкола\\tNOUN,inan,femn,sing,nomn\\nзлословия\\tNOUN,inan,neut,sing,gent\\n»\\tPNCT\\nучит\\tVERB,impf,tran,sing,3per,pres,indc\\nприкусить\\tINFN,perf,tran\\nязык\\tNOUN,inan,masc,sing,accs\\n',\n",
              " 'Сохранится\\tVERB,perf,intr,sing,3per,futr,indc\\nли\\tPRCL\\nградус\\tNOUN,inan,masc,sing,nomn\\nдискуссии\\tNOUN,inan,femn,sing,gent\\nв\\tPREP\\nновом\\tADJF,Qual,masc,sing,loct\\nсезоне\\tNOUN,inan,masc,sing,loct\\n?\\tSENT\\n',\n",
              " 'Великолепная\\tADJF,Qual,femn,sing,nomn\\n«\\tPNCT\\nШкола\\tNOUN,inan,femn,sing,nomn\\nзлословия\\tNOUN,inan,neut,sing,gent\\n»\\tPNCT\\nвернулась\\tVERB,perf,intr,femn,sing,past,indc\\nв\\tPREP\\nэфир\\tNOUN,inan,masc,sing,accs\\nпосле\\tPREP\\nлетних\\tADJF,plur,gent\\nканикул\\tNOUN,inan,GNdr,Pltm,plur,gent\\nв\\tPREP\\nновом\\tADJF,Qual,masc,sing,loct\\nформате\\tNOUN,inan,masc,sing,loct\\n.\\tSENT\\n',\n",
              " 'Потом\\tADVB\\nпроект\\tNOUN,inan,masc,sing,nomn\\nпереехал\\tVERB,perf,tran,masc,sing,past,indc\\nс\\tPREP\\n«\\tPNCT\\nКультуры\\tNOUN,inan,femn,sing,gent\\n»\\tPNCT\\nна\\tPREP\\nНТВ\\tNOUN,inan,neut,Sgtm,Fixd,Abbr,Orgn,sing,accs\\n.\\tSENT\\n',\n",
              " 'Это\\tNPRO,neut,sing,nomn\\nпомимо\\tPREP\\nявных\\tADJF,Qual,plur,gent\\nперемен\\tNOUN,inan,femn,plur,gent\\nв\\tPREP\\nвиде\\tNOUN,inan,masc,sing,loc1\\nтут\\tADVB,Dmns\\nже\\tPRCL\\nпоявившихся\\tPRTF,perf,intr,past,actv,plur,gent\\nрекламных\\tADJF,Qual,plur,gent\\nблоков\\tNOUN,inan,masc,plur,gent\\n,\\tPNCT\\nотсутствовавших\\tPRTF,impf,intr,past,actv,plur,gent\\nна\\tPREP\\n«\\tPNCT\\nКультуре\\tNOUN,inan,femn,sing,loct\\n»\\tPNCT\\n,\\tPNCT\\nпозволило\\tVERB,perf,tran,neut,sing,past,indc\\n,\\tPNCT\\nс\\tPREP\\nодной\\tADJF,Apro,Anum,femn,sing,gent\\nстороны\\tNOUN,inan,femn,sing,gent\\n,\\tPNCT\\nрасширить\\tINFN,perf,tran\\nкруг\\tNOUN,inan,masc,sing,accs\\nгостей\\tNOUN,anim,masc,plur,gent\\n,\\tPNCT\\nс\\tPREP\\nдругой\\tADJF,Apro,Subx,femn,sing,gent\\n–\\tPNCT\\nизменить\\tINFN,perf,tran\\nтон\\tNOUN,inan,masc,sing,accs\\nразговора\\tNOUN,inan,masc,sing,gent\\n.\\tSENT\\n',\n",
              " 'Народные\\tADJF,Qual,plur,nomn\\nлюбимцы\\tNOUN,anim,masc,plur,nomn\\n',\n",
              " 'Продлится\\tVERB,perf,intr,sing,3per,futr,indc\\nона\\tNPRO,femn,3per,Anph,sing,nomn\\n55\\tNUMB\\nдней\\tNOUN,inan,masc,plur,gent\\n,\\tPNCT\\nдо\\tPREP\\n5\\tNUMB\\nноября\\tNOUN,inan,masc,sing,gent\\n.\\tSENT\\n',\n",
              " 'За\\tPREP\\nкота\\tNOUN,anim,masc,sing,accs\\n–\\tPNCT\\nответишь\\tVERB,perf,intr,sing,2per,futr,indc\\n!\\tSENT\\n',\n",
              " 'Шпаги\\tNOUN,inan,femn,plur,nomn\\n,\\tPNCT\\nденьги\\tNOUN,inan,femn,plur,nomn\\n,\\tPNCT\\nбиржа\\tNOUN,inan,femn,sing,nomn\\n',\n",
              " 'Ничуть\\tADVB\\nне\\tPRCL\\nбывало\\tVERB,impf,intr,neut,sing,past,indc\\n!\\tSENT\\n']"
            ]
          },
          "metadata": {
            "tags": []
          },
          "execution_count": 16
        }
      ]
    },
    {
      "cell_type": "code",
      "metadata": {
        "id": "a_3j_1lyL_bs",
        "colab_type": "code",
        "outputId": "b96a340d-aab4-49b4-ec7e-5c91ff19d017",
        "colab": {
          "base_uri": "https://localhost:8080/",
          "height": 207
        }
      },
      "source": [
        "test_sentences[:10]"
      ],
      "execution_count": 17,
      "outputs": [
        {
          "output_type": "execute_result",
          "data": {
            "text/plain": [
              "['«\\nШкола\\nзлословия\\n»\\nучит\\nприкусить\\nязык',\n",
              " 'Сохранится\\nли\\nградус\\nдискуссии\\nв\\nновом\\nсезоне\\n?',\n",
              " 'Великолепная\\n«\\nШкола\\nзлословия\\n»\\nвернулась\\nв\\nэфир\\nпосле\\nлетних\\nканикул\\nв\\nновом\\nформате\\n.',\n",
              " 'Потом\\nпроект\\nпереехал\\nс\\n«\\nКультуры\\n»\\nна\\nНТВ\\n.',\n",
              " 'Это\\nпомимо\\nявных\\nперемен\\nв\\nвиде\\nтут\\nже\\nпоявившихся\\nрекламных\\nблоков\\n,\\nотсутствовавших\\nна\\n«\\nКультуре\\n»\\n,\\nпозволило\\n,\\nс\\nодной\\nстороны\\n,\\nрасширить\\nкруг\\nгостей\\n,\\nс\\nдругой\\n–\\nизменить\\nтон\\nразговора\\n.',\n",
              " 'Народные\\nлюбимцы',\n",
              " 'Продлится\\nона\\n55\\nдней\\n,\\nдо\\n5\\nноября\\n.',\n",
              " 'За\\nкота\\n–\\nответишь\\n!',\n",
              " 'Шпаги\\n,\\nденьги\\n,\\nбиржа',\n",
              " 'Ничуть\\nне\\nбывало\\n!']"
            ]
          },
          "metadata": {
            "tags": []
          },
          "execution_count": 17
        }
      ]
    },
    {
      "cell_type": "code",
      "metadata": {
        "id": "jjdUHtu7wFW7",
        "colab_type": "code",
        "outputId": "4a621183-c55e-4a34-c4b9-59a60ad0e9d8",
        "colab": {
          "base_uri": "https://localhost:8080/",
          "height": 207
        }
      },
      "source": [
        "check_sentences[:10]"
      ],
      "execution_count": 18,
      "outputs": [
        {
          "output_type": "execute_result",
          "data": {
            "text/plain": [
              "['PNCT\\nNOUN,inan,femn,sing,nomn\\nNOUN,inan,neut,sing,gent\\nPNCT\\nVERB,impf,tran,sing,3per,pres,indc\\nINFN,perf,tran\\nNOUN,inan,masc,sing,accs',\n",
              " 'VERB,perf,intr,sing,3per,futr,indc\\nPRCL\\nNOUN,inan,masc,sing,nomn\\nNOUN,inan,femn,sing,gent\\nPREP\\nADJF,Qual,masc,sing,loct\\nNOUN,inan,masc,sing,loct\\nSENT',\n",
              " 'ADJF,Qual,femn,sing,nomn\\nPNCT\\nNOUN,inan,femn,sing,nomn\\nNOUN,inan,neut,sing,gent\\nPNCT\\nVERB,perf,intr,femn,sing,past,indc\\nPREP\\nNOUN,inan,masc,sing,accs\\nPREP\\nADJF,plur,gent\\nNOUN,inan,GNdr,Pltm,plur,gent\\nPREP\\nADJF,Qual,masc,sing,loct\\nNOUN,inan,masc,sing,loct\\nSENT',\n",
              " 'ADVB\\nNOUN,inan,masc,sing,nomn\\nVERB,perf,tran,masc,sing,past,indc\\nPREP\\nPNCT\\nNOUN,inan,femn,sing,gent\\nPNCT\\nPREP\\nNOUN,inan,neut,Sgtm,Fixd,Abbr,Orgn,sing,accs\\nSENT',\n",
              " 'NPRO,neut,sing,nomn\\nPREP\\nADJF,Qual,plur,gent\\nNOUN,inan,femn,plur,gent\\nPREP\\nNOUN,inan,masc,sing,loc1\\nADVB,Dmns\\nPRCL\\nPRTF,perf,intr,past,actv,plur,gent\\nADJF,Qual,plur,gent\\nNOUN,inan,masc,plur,gent\\nPNCT\\nPRTF,impf,intr,past,actv,plur,gent\\nPREP\\nPNCT\\nNOUN,inan,femn,sing,loct\\nPNCT\\nPNCT\\nVERB,perf,tran,neut,sing,past,indc\\nPNCT\\nPREP\\nADJF,Apro,Anum,femn,sing,gent\\nNOUN,inan,femn,sing,gent\\nPNCT\\nINFN,perf,tran\\nNOUN,inan,masc,sing,accs\\nNOUN,anim,masc,plur,gent\\nPNCT\\nPREP\\nADJF,Apro,Subx,femn,sing,gent\\nPNCT\\nINFN,perf,tran\\nNOUN,inan,masc,sing,accs\\nNOUN,inan,masc,sing,gent\\nSENT',\n",
              " 'ADJF,Qual,plur,nomn\\nNOUN,anim,masc,plur,nomn',\n",
              " 'VERB,perf,intr,sing,3per,futr,indc\\nNPRO,femn,3per,Anph,sing,nomn\\nNUMB\\nNOUN,inan,masc,plur,gent\\nPNCT\\nPREP\\nNUMB\\nNOUN,inan,masc,sing,gent\\nSENT',\n",
              " 'PREP\\nNOUN,anim,masc,sing,accs\\nPNCT\\nVERB,perf,intr,sing,2per,futr,indc\\nSENT',\n",
              " 'NOUN,inan,femn,plur,nomn\\nPNCT\\nNOUN,inan,femn,plur,nomn\\nPNCT\\nNOUN,inan,femn,sing,nomn',\n",
              " 'ADVB\\nPRCL\\nVERB,impf,intr,neut,sing,past,indc\\nSENT']"
            ]
          },
          "metadata": {
            "tags": []
          },
          "execution_count": 18
        }
      ]
    },
    {
      "cell_type": "markdown",
      "metadata": {
        "id": "Ow7I0AkC9rsa",
        "colab_type": "text"
      },
      "source": [
        "Словарь создаем по инструкции."
      ]
    },
    {
      "cell_type": "code",
      "metadata": {
        "id": "2ffrmMswF7h-",
        "colab_type": "code",
        "colab": {}
      },
      "source": [
        "f = open('lexicon.txt', 'w')\n",
        "\n",
        "for word in vocab:\n",
        "    f.write(word + '\\t')\n",
        "    f.write('\\t'.join([' '.join(pair) for pair in vocab[word]]))\n",
        "    f.write('\\n')\n",
        "# f.write('SENT\\tSENT .')\n",
        "f.close()"
      ],
      "execution_count": 0,
      "outputs": []
    },
    {
      "cell_type": "markdown",
      "metadata": {
        "id": "IoUI-i1A9yS1",
        "colab_type": "text"
      },
      "source": [
        "Словарь для UNK создаем по инструкции."
      ]
    },
    {
      "cell_type": "code",
      "metadata": {
        "id": "d1MbTCEKG4gj",
        "colab_type": "code",
        "colab": {}
      },
      "source": [
        "f = open('open_class.txt', 'w')\n",
        "\n",
        "f.write('\\n'.join([tag for tag in tags if 'NOUN' in tag or 'VERB' in tag or 'ADJF' in tag]))\n",
        "f.close()"
      ],
      "execution_count": 0,
      "outputs": []
    },
    {
      "cell_type": "markdown",
      "metadata": {
        "id": "C-QgRvn9908G",
        "colab_type": "text"
      },
      "source": [
        "Обучаем."
      ]
    },
    {
      "cell_type": "code",
      "metadata": {
        "id": "2fSoqARocMPp",
        "colab_type": "code",
        "colab": {}
      },
      "source": [
        "from sklearn.model_selection import KFold, cross_val_score\n",
        "k_fold = KFold(n_splits=5)"
      ],
      "execution_count": 0,
      "outputs": []
    },
    {
      "cell_type": "code",
      "metadata": {
        "id": "wgDbKEcZcMJe",
        "colab_type": "code",
        "colab": {}
      },
      "source": [
        "X = [i for i in range(len(sentences))]"
      ],
      "execution_count": 0,
      "outputs": []
    },
    {
      "cell_type": "code",
      "metadata": {
        "id": "u4p_9ROCdEN6",
        "colab_type": "code",
        "outputId": "05515353-aea0-4dc6-8840-839e7ff71865",
        "colab": {
          "base_uri": "https://localhost:8080/",
          "height": 102
        }
      },
      "source": [
        "train = [0,0,0,0,0]\n",
        "test = [0,0,0,0,0]\n",
        "i = 0\n",
        "for train_indices, test_indices in k_fold.split(X):\n",
        "  train[i], test[i] = train_indices, test_indices\n",
        "  i += 1\n",
        "  print('Train: %s | test: %s' % (train_indices, test_indices))"
      ],
      "execution_count": 23,
      "outputs": [
        {
          "output_type": "stream",
          "text": [
            "Train: [ 2120  2121  2122 ... 10596 10597 10598] | test: [   0    1    2 ... 2117 2118 2119]\n",
            "Train: [    0     1     2 ... 10596 10597 10598] | test: [2120 2121 2122 ... 4237 4238 4239]\n",
            "Train: [    0     1     2 ... 10596 10597 10598] | test: [4240 4241 4242 ... 6357 6358 6359]\n",
            "Train: [    0     1     2 ... 10596 10597 10598] | test: [6360 6361 6362 ... 8477 8478 8479]\n",
            "Train: [   0    1    2 ... 8477 8478 8479] | test: [ 8480  8481  8482 ... 10596 10597 10598]\n"
          ],
          "name": "stdout"
        }
      ]
    },
    {
      "cell_type": "code",
      "metadata": {
        "id": "O3BcjBWYdyYD",
        "colab_type": "code",
        "colab": {}
      },
      "source": [
        "for k in range(5):\n",
        "  names = ['train' + str(k) + '.txt', 'test' + str(k) + '.txt',  'check' + str(k) + '.txt']\n",
        "  trn = [sent for i,sent in enumerate(sentences) if i in train[k]]\n",
        "  tst = [sent for i,sent in enumerate(test_sentences) if i in test[k]]  \n",
        "  chk = [sent for i,sent in enumerate(check_sentences) if i in test[k]]\n",
        "  with open(names[0], 'w') as file:\n",
        "    file.write(''.join(trn))\n",
        "  with open(names[1], 'w') as file:    \n",
        "    file.write('\\n'.join(tst))\n",
        "  with open(names[2], 'w') as file:    \n",
        "    file.write('\\n'.join(chk))"
      ],
      "execution_count": 0,
      "outputs": []
    },
    {
      "cell_type": "code",
      "metadata": {
        "id": "Rt4HhO2slV2b",
        "colab_type": "code",
        "colab": {}
      },
      "source": [
        "with open('singletest.txt', 'w') as  singletest:\n",
        "  singletest.write('\\n'.join('Я хочу съесть яблоко .'.split()))"
      ],
      "execution_count": 0,
      "outputs": []
    },
    {
      "cell_type": "code",
      "metadata": {
        "id": "d2kJuY3AiYNs",
        "colab_type": "code",
        "outputId": "8ad812f2-27a7-46cc-b093-f8baa55966d8",
        "colab": {
          "base_uri": "https://localhost:8080/",
          "height": 782
        }
      },
      "source": [
        "!./bin/train-tree-tagger lexicon.txt open_class.txt train0.txt model_oc \n",
        "# Проверка адекватности предсказания\n",
        "!./bin/tree-tagger model_oc singletest.txt singleoutput0.txt\n",
        "!head singleoutput0.txt\n",
        "# Тестирование\n",
        "!./bin/tree-tagger model_oc test0.txt output0.txt\n",
        "!head output0.txt"
      ],
      "execution_count": 26,
      "outputs": [
        {
          "output_type": "stream",
          "text": [
            "\n",
            "train-tree-tagger -cl 2 -dtg 0.50 -sw 1.00 -ecw 0.15 -atg 1.20 lexicon.txt open_class.txt train0.txt model_oc\n",
            "\n",
            "\treading the lexicon ...\n",
            "\t\treading the tagset ...\n",
            "\t\treading the lemmas ...\n",
            "\t\treading the entries ...\n",
            "\t\tsorting the lexicon ...\n",
            "\t\treading the open class tags ...\n",
            "\tcalculating tag frequencies ...\n",
            "\r1000\r2000\r3000\r4000\r5000\r6000\r7000\r8000\r9000\r10000\r11000\r12000\r13000\r14000\r15000\r16000\r17000\r18000\r19000\r20000\r21000\r22000\r23000\r24000\r25000\r26000\r27000\r28000\r29000\r30000\r31000\r32000\r33000\r34000\r35000\r36000\r37000\r38000\r39000\r40000\r41000\r42000\tmaking affix tree ...\n",
            "prefix lexicon: 807 nodes\n",
            "suffix lexicon: 1802 nodes\n",
            "\treading classes ...\n",
            "\tmaking ngram table ...\n",
            "\r1000\t920\r2000\t1733\r3000\t2558\r4000\t3377\r5000\t4166\r6000\t4924\r7000\t5594\r8000\t6333\r9000\t7020\r10000\t7729\r11000\t8412\r12000\t9092\r13000\t9736\r14000\t10339\r15000\t10953\r16000\t11593\r17000\t12118\r18000\t12713\r19000\t13353\r20000\t13908\r21000\t14426\r22000\t14993\r23000\t15464\r24000\t15994\r25000\t16460\r26000\t17003\r27000\t17332\r28000\t17656\r29000\t18072\r30000\t18491\r31000\t18931\r32000\t19371\r33000\t19809\r34000\t20316\r35000\t20816\r36000\t21289\r37000\t21658\r38000\t22031\r39000\t22491\r40000\t22976\r41000\t23473\r42000\t23888\r43000\t24307\r44000\t24754\r45000\t25247\r46000\t25729\r47000\t26167\r48000\t26596\r49000\t27028\r50000\t27337\r51000\t27736\r52000\t28134\r53000\t28352\r53191\t28407\n",
            "finished.\n",
            "\tmaking decision tree ...\n",
            "96\tsaving parameters ...\n",
            "\n",
            "Number of nodes: 97\n",
            "Max. path length: 17\n",
            "\n",
            "done.\n",
            "\treading parameters ...\n",
            "\ttagging ...\n",
            "\t finished.\n",
            "NOUN,inan,masc,sing,nomn\n",
            "VERB,impf,tran,sing,1per,pres,indc\n",
            "VERB,perf,tran,masc,sing,past,indc\n",
            "NOUN,anim,masc,Name,sing,nomn\n",
            "SENT\n",
            "\treading parameters ...\n",
            "\ttagging ...\n",
            "16000\t finished.\n",
            "PNCT\n",
            "NOUN,inan,masc,sing,nomn\n",
            "NOUN,inan,neut,sing,gent\n",
            "PNCT\n",
            "VERB,impf,tran,sing,3per,pres,indc\n",
            "INFN,perf,tran\n",
            "NOUN,inan,masc,sing,accs\n",
            "NOUN,inan,neut,sing,gent\n",
            "PRCL\n",
            "NOUN,inan,masc,sing,nomn\n"
          ],
          "name": "stdout"
        }
      ]
    },
    {
      "cell_type": "code",
      "metadata": {
        "id": "SzjsCYGGj7eg",
        "colab_type": "code",
        "outputId": "bda3035b-1907-4ed3-e7df-34b130124b41",
        "colab": {
          "base_uri": "https://localhost:8080/",
          "height": 782
        }
      },
      "source": [
        "!./bin/train-tree-tagger lexicon.txt open_class.txt train1.txt model_oc \n",
        "# Проверка адекватности предсказания\n",
        "!./bin/tree-tagger model_oc singletest.txt singleoutput1.txt\n",
        "!head singleoutput1.txt\n",
        "# Тестирование\n",
        "!./bin/tree-tagger model_oc test1.txt output1.txt\n",
        "!head output1.txt"
      ],
      "execution_count": 27,
      "outputs": [
        {
          "output_type": "stream",
          "text": [
            "\n",
            "train-tree-tagger -cl 2 -dtg 0.50 -sw 1.00 -ecw 0.15 -atg 1.20 lexicon.txt open_class.txt train1.txt model_oc\n",
            "\n",
            "\treading the lexicon ...\n",
            "\t\treading the tagset ...\n",
            "\t\treading the lemmas ...\n",
            "\t\treading the entries ...\n",
            "\t\tsorting the lexicon ...\n",
            "\t\treading the open class tags ...\n",
            "\tcalculating tag frequencies ...\n",
            "\r1000\r2000\r3000\r4000\r5000\r6000\r7000\r8000\r9000\r10000\r11000\r12000\r13000\r14000\r15000\r16000\r17000\r18000\r19000\r20000\r21000\r22000\r23000\r24000\r25000\r26000\r27000\r28000\r29000\r30000\r31000\r32000\r33000\r34000\r35000\r36000\r37000\r38000\r39000\r40000\r41000\r42000\tmaking affix tree ...\n",
            "prefix lexicon: 807 nodes\n",
            "suffix lexicon: 1789 nodes\n",
            "\treading classes ...\n",
            "\tmaking ngram table ...\n",
            "\r1000\t951\r2000\t1762\r3000\t2598\r4000\t3400\r5000\t3994\r6000\t4757\r7000\t5461\r8000\t6062\r9000\t6761\r10000\t7472\r11000\t8135\r12000\t8829\r13000\t9462\r14000\t10137\r15000\t10703\r16000\t11335\r17000\t11809\r18000\t12415\r19000\t13033\r20000\t13602\r21000\t14135\r22000\t14719\r23000\t15144\r24000\t15695\r25000\t16130\r26000\t16694\r27000\t17049\r28000\t17322\r29000\t17747\r30000\t18158\r31000\t18614\r32000\t19060\r33000\t19554\r34000\t20023\r35000\t20515\r36000\t20999\r37000\t21359\r38000\t21713\r39000\t22178\r40000\t22650\r41000\t23151\r42000\t23563\r43000\t23986\r44000\t24437\r45000\t24905\r46000\t25384\r47000\t25873\r48000\t26314\r49000\t26745\r50000\t27058\r51000\t27453\r52000\t27870\r53000\t28110\r53292\t28171\n",
            "finished.\n",
            "\tmaking decision tree ...\n",
            "98\tsaving parameters ...\n",
            "\n",
            "Number of nodes: 99\n",
            "Max. path length: 16\n",
            "\n",
            "done.\n",
            "\treading parameters ...\n",
            "\ttagging ...\n",
            "\t finished.\n",
            "NOUN,inan,masc,sing,nomn\n",
            "VERB,impf,tran,sing,1per,pres,indc\n",
            "VERB,perf,tran,masc,sing,past,indc\n",
            "NOUN,inan,neut,plur,accs\n",
            "SENT\n",
            "\treading parameters ...\n",
            "\ttagging ...\n",
            "16000\t finished.\n",
            "PNCT\n",
            "NOUN,anim,masc,Name,sing,nomn\n",
            "PNCT\n",
            "PNCT\n",
            "GRND,impf,tran,pres\n",
            "INFN,perf,tran\n",
            "ADJF,Subx,Apro,Anph,inan,plur,accs\n",
            "NOUN,inan,femn,sing,gent\n",
            "PREP\n",
            "ADJF,plur,gent\n"
          ],
          "name": "stdout"
        }
      ]
    },
    {
      "cell_type": "code",
      "metadata": {
        "id": "U9phGec0j7aR",
        "colab_type": "code",
        "outputId": "bbfbf241-8c31-4012-c3bc-3dd4494c5424",
        "colab": {
          "base_uri": "https://localhost:8080/",
          "height": 782
        }
      },
      "source": [
        "!./bin/train-tree-tagger lexicon.txt open_class.txt train2.txt model_oc \n",
        "# Проверка адекватности предсказания\n",
        "!./bin/tree-tagger model_oc singletest.txt singleoutput2.txt\n",
        "!head singleoutput2.txt\n",
        "# Тестирование\n",
        "!./bin/tree-tagger model_oc test2.txt output2.txt\n",
        "!head output2.txt"
      ],
      "execution_count": 28,
      "outputs": [
        {
          "output_type": "stream",
          "text": [
            "\n",
            "train-tree-tagger -cl 2 -dtg 0.50 -sw 1.00 -ecw 0.15 -atg 1.20 lexicon.txt open_class.txt train2.txt model_oc\n",
            "\n",
            "\treading the lexicon ...\n",
            "\t\treading the tagset ...\n",
            "\t\treading the lemmas ...\n",
            "\t\treading the entries ...\n",
            "\t\tsorting the lexicon ...\n",
            "\t\treading the open class tags ...\n",
            "\tcalculating tag frequencies ...\n",
            "\r1000\r2000\r3000\r4000\r5000\r6000\r7000\r8000\r9000\r10000\r11000\r12000\r13000\r14000\r15000\r16000\r17000\r18000\r19000\r20000\r21000\r22000\r23000\r24000\r25000\r26000\r27000\r28000\r29000\r30000\r31000\r32000\r33000\r34000\r35000\r36000\r37000\r38000\r39000\r40000\r41000\r42000\r43000\r44000\tmaking affix tree ...\n",
            "prefix lexicon: 807 nodes\n",
            "suffix lexicon: 1790 nodes\n",
            "\treading classes ...\n",
            "\tmaking ngram table ...\n",
            "\r1000\t951\r2000\t1762\r3000\t2598\r4000\t3400\r5000\t3994\r6000\t4757\r7000\t5461\r8000\t6062\r9000\t6761\r10000\t7472\r11000\t8135\r12000\t8829\r13000\t9462\r14000\t10137\r15000\t10703\r16000\t11335\r17000\t11941\r18000\t12471\r19000\t13076\r20000\t13694\r21000\t14289\r22000\t14890\r23000\t15389\r24000\t16008\r25000\t16573\r26000\t17176\r27000\t17739\r28000\t18306\r29000\t18868\r30000\t19376\r31000\t19888\r32000\t20447\r33000\t20909\r34000\t21372\r35000\t21792\r36000\t22284\r37000\t22767\r38000\t23221\r39000\t23587\r40000\t23955\r41000\t24409\r42000\t24887\r43000\t25384\r44000\t25794\r45000\t26193\r46000\t26632\r47000\t27127\r48000\t27613\r49000\t28042\r50000\t28476\r51000\t28893\r52000\t29218\r53000\t29616\r54000\t29987\r55000\t30192\r55154\t30228\n",
            "finished.\n",
            "\tmaking decision tree ...\n",
            "60\tsaving parameters ...\n",
            "\n",
            "Number of nodes: 61\n",
            "Max. path length: 13\n",
            "\n",
            "done.\n",
            "\treading parameters ...\n",
            "\ttagging ...\n",
            "\t finished.\n",
            "NOUN,inan,masc,sing,nomn\n",
            "VERB,impf,tran,sing,1per,pres,indc\n",
            "VERB,perf,tran,masc,sing,past,indc\n",
            "NOUN,anim,masc,Name,sing,nomn\n",
            "SENT\n",
            "\treading parameters ...\n",
            "\ttagging ...\n",
            "14000\t finished.\n",
            "NOUN,inan,masc,sing,nomn\n",
            "SENT\n",
            "NOUN,inan,masc,sing,nomn\n",
            "NOUN,inan,neut,sing,accs\n",
            "NOUN,inan,masc,sing,gent\n",
            "PREP\n",
            "NOUN,inan,femn,sing,loct\n",
            "VERB,impf,intr,plur,3per,pres,indc\n",
            "NOUN,anim,masc,plur,nomn\n",
            "NOUN,inan,masc,sing,gent\n"
          ],
          "name": "stdout"
        }
      ]
    },
    {
      "cell_type": "code",
      "metadata": {
        "id": "lEM55Dh3j7XA",
        "colab_type": "code",
        "outputId": "7e1b5eeb-f763-4b6d-9891-bc9ec2d91d4f",
        "colab": {
          "base_uri": "https://localhost:8080/",
          "height": 782
        }
      },
      "source": [
        "!./bin/train-tree-tagger lexicon.txt open_class.txt train3.txt model_oc \n",
        "# Проверка адекватности предсказания\n",
        "!./bin/tree-tagger model_oc singletest.txt singleoutput3.txt\n",
        "!head singleoutput3.txt\n",
        "# Тестирование\n",
        "!./bin/tree-tagger model_oc test3.txt output3.txt\n",
        "!head output3.txt"
      ],
      "execution_count": 29,
      "outputs": [
        {
          "output_type": "stream",
          "text": [
            "\n",
            "train-tree-tagger -cl 2 -dtg 0.50 -sw 1.00 -ecw 0.15 -atg 1.20 lexicon.txt open_class.txt train3.txt model_oc\n",
            "\n",
            "\treading the lexicon ...\n",
            "\t\treading the tagset ...\n",
            "\t\treading the lemmas ...\n",
            "\t\treading the entries ...\n",
            "\t\tsorting the lexicon ...\n",
            "\t\treading the open class tags ...\n",
            "\tcalculating tag frequencies ...\n",
            "\r1000\r2000\r3000\r4000\r5000\r6000\r7000\r8000\r9000\r10000\r11000\r12000\r13000\r14000\r15000\r16000\r17000\r18000\r19000\r20000\r21000\r22000\r23000\r24000\r25000\r26000\r27000\r28000\r29000\r30000\r31000\r32000\r33000\r34000\r35000\r36000\r37000\r38000\r39000\r40000\r41000\r42000\r43000\r44000\r45000\r46000\r47000\tmaking affix tree ...\n",
            "prefix lexicon: 806 nodes\n",
            "suffix lexicon: 1790 nodes\n",
            "\treading classes ...\n",
            "\tmaking ngram table ...\n",
            "\r1000\t951\r2000\t1762\r3000\t2598\r4000\t3400\r5000\t3994\r6000\t4757\r7000\t5461\r8000\t6062\r9000\t6761\r10000\t7472\r11000\t8135\r12000\t8829\r13000\t9462\r14000\t10137\r15000\t10703\r16000\t11335\r17000\t11941\r18000\t12471\r19000\t13076\r20000\t13694\r21000\t14289\r22000\t14890\r23000\t15389\r24000\t16008\r25000\t16573\r26000\t17176\r27000\t17739\r28000\t18306\r29000\t18868\r30000\t19376\r31000\t19888\r32000\t20447\r33000\t20869\r34000\t21369\r35000\t21903\r36000\t22382\r37000\t22848\r38000\t23351\r39000\t23732\r40000\t24210\r41000\t24582\r42000\t25068\r43000\t25405\r44000\t25646\r45000\t26034\r46000\t26388\r47000\t26807\r48000\t27209\r49000\t27641\r50000\t28128\r51000\t28586\r52000\t29021\r53000\t29471\r54000\t29871\r55000\t30173\r56000\t30559\r57000\t30922\r57993\t31132\n",
            "finished.\n",
            "\tmaking decision tree ...\n",
            "88\tsaving parameters ...\n",
            "\n",
            "Number of nodes: 89\n",
            "Max. path length: 15\n",
            "\n",
            "done.\n",
            "\treading parameters ...\n",
            "\ttagging ...\n",
            "\t finished.\n",
            "NOUN,inan,masc,sing,nomn\n",
            "VERB,impf,tran,sing,1per,pres,indc\n",
            "NOUN,inan,femn,sing,nomn\n",
            "ADJF,Qual,femn,sing,nomn\n",
            "SENT\n",
            "\treading parameters ...\n",
            "\ttagging ...\n",
            "11000\t finished.\n",
            "PNCT\n",
            "NOUN,inan,masc,sing,nomn\n",
            "NOUN,anim,masc,sing,nomn\n",
            "SENT\n",
            "NOUN,inan,masc,sing,nomn\n",
            "SENT\n",
            "PNCT\n",
            "NOUN,inan,masc,sing,nomn\n",
            "PNCT\n",
            "NPRO,1per,sing,nomn\n"
          ],
          "name": "stdout"
        }
      ]
    },
    {
      "cell_type": "code",
      "metadata": {
        "id": "Ok-4Rt0Zj7Sy",
        "colab_type": "code",
        "outputId": "45529e59-23f8-4457-aafd-0a52670ee492",
        "colab": {
          "base_uri": "https://localhost:8080/",
          "height": 782
        }
      },
      "source": [
        "!./bin/train-tree-tagger lexicon.txt open_class.txt train4.txt model_oc \n",
        "# Проверка адекватности предсказания\n",
        "!./bin/tree-tagger model_oc singletest.txt singleoutput4.txt\n",
        "!head singleoutput4.txt\n",
        "# Тестирование\n",
        "!./bin/tree-tagger model_oc test4.txt output4.txt\n",
        "!head output4.txt"
      ],
      "execution_count": 30,
      "outputs": [
        {
          "output_type": "stream",
          "text": [
            "\n",
            "train-tree-tagger -cl 2 -dtg 0.50 -sw 1.00 -ecw 0.15 -atg 1.20 lexicon.txt open_class.txt train4.txt model_oc\n",
            "\n",
            "\treading the lexicon ...\n",
            "\t\treading the tagset ...\n",
            "\t\treading the lemmas ...\n",
            "\t\treading the entries ...\n",
            "\t\tsorting the lexicon ...\n",
            "\t\treading the open class tags ...\n",
            "\tcalculating tag frequencies ...\n",
            "\r1000\r2000\r3000\r4000\r5000\r6000\r7000\r8000\r9000\r10000\r11000\r12000\r13000\r14000\r15000\r16000\r17000\r18000\r19000\r20000\r21000\r22000\r23000\r24000\r25000\r26000\r27000\r28000\r29000\r30000\r31000\r32000\r33000\r34000\r35000\r36000\r37000\r38000\r39000\r40000\r41000\r42000\r43000\r44000\r45000\r46000\tmaking affix tree ...\n",
            "prefix lexicon: 807 nodes\n",
            "suffix lexicon: 1799 nodes\n",
            "\treading classes ...\n",
            "\tmaking ngram table ...\n",
            "\r1000\t951\r2000\t1762\r3000\t2598\r4000\t3400\r5000\t3994\r6000\t4757\r7000\t5461\r8000\t6062\r9000\t6761\r10000\t7472\r11000\t8135\r12000\t8829\r13000\t9462\r14000\t10137\r15000\t10703\r16000\t11335\r17000\t11941\r18000\t12471\r19000\t13076\r20000\t13694\r21000\t14289\r22000\t14890\r23000\t15389\r24000\t16008\r25000\t16573\r26000\t17176\r27000\t17739\r28000\t18306\r29000\t18868\r30000\t19376\r31000\t19888\r32000\t20447\r33000\t20869\r34000\t21369\r35000\t21903\r36000\t22382\r37000\t22848\r38000\t23351\r39000\t23732\r40000\t24210\r41000\t24582\r42000\t25068\r43000\t25405\r44000\t25646\r45000\t26034\r46000\t26388\r47000\t26785\r48000\t27177\r49000\t27622\r50000\t28043\r51000\t28479\r52000\t28925\r53000\t29252\r54000\t29579\r55000\t30001\r56000\t30444\r57000\t30902\r57830\t31243\n",
            "finished.\n",
            "\tmaking decision tree ...\n",
            "88\tsaving parameters ...\n",
            "\n",
            "Number of nodes: 89\n",
            "Max. path length: 14\n",
            "\n",
            "done.\n",
            "\treading parameters ...\n",
            "\ttagging ...\n",
            "\t finished.\n",
            "NOUN,inan,masc,sing,nomn\n",
            "VERB,impf,tran,sing,1per,pres,indc\n",
            "NOUN,inan,femn,plur,gent\n",
            "NOUN,inan,neut,plur,ablt\n",
            "SENT\n",
            "\treading parameters ...\n",
            "\ttagging ...\n",
            "11000\t finished.\n",
            "PNCT\n",
            "NOUN,inan,masc,sing,nomn\n",
            "SENT\n",
            "PNCT\n",
            "NOUN,inan,masc,sing,nomn\n",
            "VERB,impf,intr,sing,impr,excl\n",
            "INFN,impf,tran\n",
            "ADJF,Apro,femn,sing,accs\n",
            "NOUN,inan,femn,sing,accs\n",
            "SENT\n"
          ],
          "name": "stdout"
        }
      ]
    },
    {
      "cell_type": "code",
      "metadata": {
        "id": "PArgkPK6gXAJ",
        "colab_type": "code",
        "colab": {}
      },
      "source": [
        "scores = []\n",
        "pmscores = []\n",
        "morph = MorphAnalyzer()"
      ],
      "execution_count": 0,
      "outputs": []
    },
    {
      "cell_type": "code",
      "metadata": {
        "id": "lx71W1-XjVlm",
        "colab_type": "code",
        "colab": {}
      },
      "source": [
        "from collections import Counter"
      ],
      "execution_count": 0,
      "outputs": []
    },
    {
      "cell_type": "code",
      "metadata": {
        "id": "yX4xyVt3uU1K",
        "colab_type": "code",
        "colab": {}
      },
      "source": [
        "def mistakes(testname, outputname, checkname):\n",
        "  p0 = []\n",
        "  p1 = []\n",
        "  preds = []\n",
        "  pmpreds = []\n",
        "  mistakes = Counter()\n",
        "\n",
        "  with open(testname, 'r') as test:\n",
        "    test = test.readlines()\n",
        "    for sent in test:\n",
        "      res = [sent.strip('\\n'), '','', '']\n",
        "      preds.append(res)\n",
        "\n",
        "  with open(outputname, 'r') as output:\n",
        "    output = output.readlines()\n",
        "  with open(checkname, 'r') as check:\n",
        "    check = check.readlines()\n",
        "  for i in range(len(output)):\n",
        "    pred = output[i].split(',')\n",
        "    pred = set([a.strip('\\n') for a in pred])\n",
        "    tag = [a.strip('\\n') for a in check[i].split(',')]\n",
        "    tag = set(tag)\n",
        "    pmpred = set(str(morph.parse(preds[i][0])[0].tag).replace(' ', ',').\n",
        "                 split(','))\n",
        "    preds[i][1], preds[i][2], preds[i][3] = pred, pmpred, tag\n",
        "    p = len(pred&tag)/len(pred|tag)\n",
        "    p0.append(p)\n",
        "    p1.append(len(pmpred&tag)/len(pmpred|tag))\n",
        "    if p < 0.5:\n",
        "      if list(tag)[0] != 'SENT' and list(pred)[0] != 'SENT': # Часто считает за ошибку расхождение PUNCT и SENT, а это не ошибка, поэтому ее убираем\n",
        "        mistakes.update([(preds[i][0], tuple(tag), tuple(pred))])\n",
        "  scores.append(np.mean(p0)) \n",
        "  pmscores.append(np.mean(p1))\n",
        "  print(preds[:3])\n",
        "  print(mistakes.most_common()[:40])\n",
        "  print('Точность Treetagger\\'a: ', np.mean(p0))\n",
        "  print('Точность pymorphy2: ',np.mean(p1))"
      ],
      "execution_count": 0,
      "outputs": []
    },
    {
      "cell_type": "code",
      "metadata": {
        "id": "u8vJ577TuUoL",
        "colab_type": "code",
        "outputId": "10d58aa9-fe98-40d7-8aa4-6b76fae44bb8",
        "colab": {
          "base_uri": "https://localhost:8080/",
          "height": 105
        }
      },
      "source": [
        "mistakes('test0.txt', 'output0.txt', 'check0.txt')"
      ],
      "execution_count": 34,
      "outputs": [
        {
          "output_type": "stream",
          "text": [
            "[['«', {'PNCT'}, {'PNCT'}, {'PNCT'}], ['Школа', {'inan', 'sing', 'nomn', 'masc', 'NOUN'}, {'inan', 'sing', 'femn', 'nomn', 'NOUN'}, {'inan', 'sing', 'femn', 'nomn', 'NOUN'}], ['злословия', {'inan', 'sing', 'gent', 'neut', 'NOUN'}, {'inan', 'sing', 'gent', 'neut', 'NOUN'}, {'inan', 'sing', 'gent', 'neut', 'NOUN'}]]\n",
            "[(('В', ('PREP',), ('inan', 'sing', 'nomn', 'masc', 'NOUN')), 90), (('Не', ('PRCL',), ('inan', 'sing', 'nomn', 'masc', 'NOUN')), 28), (('На', ('PREP',), ('inan', 'sing', 'nomn', 'masc', 'NOUN')), 23), (('А', ('CONJ',), ('inan', 'sing', 'nomn', 'masc', 'NOUN')), 22), (('И', ('CONJ',), ('inan', 'sing', 'nomn', 'masc', 'NOUN')), 21), (('В', ('PREP',), ('inan', 'sing', 'gent', 'neut', 'NOUN')), 21), (('Я', ('1per', 'sing', 'NPRO', 'nomn'), ('inan', 'sing', 'nomn', 'masc', 'NOUN')), 21), (('Он', ('sing', 'nomn', 'Anph', '3per', 'NPRO', 'masc'), ('inan', 'sing', 'nomn', 'masc', 'NOUN')), 20), (('Мы', ('1per', 'plur', 'nomn', 'NPRO'), ('inan', 'sing', 'nomn', 'masc', 'NOUN')), 17), (('По', ('PREP',), ('inan', 'sing', 'nomn', 'masc', 'NOUN')), 16), (('Но', ('CONJ',), ('inan', 'sing', 'nomn', 'masc', 'NOUN')), 16), (('С', ('PREP',), ('inan', 'sing', 'nomn', 'masc', 'NOUN')), 14), (('Вы', ('plur', 'nomn', 'NPRO', '2per'), ('inan', 'sing', 'nomn', 'masc', 'NOUN')), 12), (('Они', ('plur', 'nomn', 'Anph', '3per', 'NPRO'), ('inan', 'sing', 'nomn', 'masc', 'NOUN')), 12), (('Почему', ('ADVB', 'Ques'), ('inan', 'sing', 'nomn', 'masc', 'NOUN')), 11), (('Если', ('CONJ',), ('inan', 'sing', 'nomn', 'masc', 'NOUN')), 10), (('За', ('PREP',), ('inan', 'sing', 'nomn', 'masc', 'NOUN')), 9), (('Она', ('sing', 'femn', 'nomn', 'Anph', '3per', 'NPRO'), ('inan', 'sing', 'nomn', 'masc', 'NOUN')), 8), (('После', ('PREP',), ('inan', 'sing', 'nomn', 'masc', 'NOUN')), 8), (('Сейчас', ('ADVB',), ('inan', 'sing', 'nomn', 'masc', 'NOUN')), 8), (('Или', ('CONJ',), ('inan', 'sing', 'nomn', 'masc', 'NOUN')), 8), (('Без', ('PREP',), ('inan', 'sing', 'nomn', 'masc', 'NOUN')), 8), (('Даже', ('PRCL',), ('inan', 'sing', 'nomn', 'masc', 'NOUN')), 7), (('Более', ('ADVB',), ('inan', 'sing', 'nomn', 'masc', 'NOUN')), 7), (('Эта', ('sing', 'femn', 'ADJF', 'Subx', 'nomn', 'Anph', 'Apro'), ('inan', 'sing', 'nomn', 'masc', 'NOUN')), 7), (('Уважаемые', ('plur', 'nomn', 'Qual', 'ADJF'), ('inan', 'sing', 'nomn', 'masc', 'NOUN')), 7), (('Хотя', ('CONJ',), ('inan', 'sing', 'nomn', 'masc', 'NOUN')), 6), (('Однако', ('Prnt', 'CONJ'), ('inan', 'sing', 'nomn', 'masc', 'NOUN')), 6), (('Вот', ('PRCL',), ('inan', 'sing', 'nomn', 'masc', 'NOUN')), 6), (('О', ('PREP',), ('inan', 'sing', 'nomn', 'masc', 'NOUN')), 6), (('К', ('PREP',), ('inan', 'sing', 'nomn', 'masc', 'NOUN')), 6), (('У', ('PREP',), ('inan', 'sing', 'nomn', 'masc', 'NOUN')), 6), (('Сегодня', ('ADVB',), ('inan', 'sing', 'nomn', 'masc', 'NOUN')), 6), (('США', ('inan', 'Abbr', 'Fixd', 'plur', 'GNdr', 'gent', 'Geox', 'Pltm', 'NOUN'), ('inan', 'sing', 'gent', 'neut', 'NOUN')), 6), (('Например', ('Prnt', 'CONJ'), ('inan', 'sing', 'nomn', 'masc', 'NOUN')), 5), (('Во', ('PREP', 'Vpre'), ('inan', 'sing', 'nomn', 'masc', 'NOUN')), 5), (('История', ('inan', 'sing', 'femn', 'nomn', 'NOUN'), ('inan', 'sing', 'gent', 'neut', 'NOUN')), 5), (('Литература', ('inan', 'sing', 'femn', 'nomn', 'NOUN'), ('inan', 'sing', 'gent', 'neut', 'NOUN')), 5), (('Перед', ('PREP',), ('inan', 'sing', 'nomn', 'masc', 'NOUN')), 5), (('Я', ('1per', 'sing', 'NPRO', 'nomn'), ('anim', 'Name', 'sing', 'nomn', 'masc', 'NOUN')), 5)]\n",
            "Точность Treetagger'a:  0.8482684651814119\n",
            "Точность pymorphy2:  0.8319611042406887\n"
          ],
          "name": "stdout"
        }
      ]
    },
    {
      "cell_type": "markdown",
      "metadata": {
        "id": "IpshUZ8BTZ9l",
        "colab_type": "text"
      },
      "source": [
        "**Ошибки**:\n",
        "\n",
        "---\n",
        "\n",
        "* *Служебные слова* и *личные местоимения* (вероятно, самые частотные)  не опознаются и размечаются как существительное мужского рода, неодушевленное, ед.ч., Им.п. (вероятно, дефолтный разбор неопознанного слова)\n",
        "\n",
        "      ('В', ('PREP',), ('masc', 'NOUN', 'nomn', 'sing', 'inan'))\n",
        "      ('А', ('CONJ',), ('masc', 'NOUN', 'nomn', 'sing', 'inan'))\n",
        "      ('И', ('CONJ',), ('masc', 'NOUN', 'nomn', 'sing', 'inan'))\n",
        "      ('Я', ('NPRO', 'sing', 'nomn', '1per'), ('masc', 'NOUN', 'nomn', 'sing', 'inan')\n",
        "      ('Мы', ('plur', 'NPRO', 'nomn', '1per'), ('masc', 'NOUN', 'nomn', 'sing', 'inan')\n"
      ]
    },
    {
      "cell_type": "code",
      "metadata": {
        "id": "ghfWbZCi-leV",
        "colab_type": "code",
        "outputId": "c81140a2-3512-43ca-b01a-302385c9422e",
        "colab": {
          "base_uri": "https://localhost:8080/",
          "height": 105
        }
      },
      "source": [
        "mistakes('test1.txt', 'output1.txt', 'check1.txt')"
      ],
      "execution_count": 35,
      "outputs": [
        {
          "output_type": "stream",
          "text": [
            "[['\"', {'PNCT'}, {'PNCT'}, {'PNCT'}], ['Газпром', {'anim', 'Name', 'sing', 'nomn', 'masc', 'NOUN'}, {'inan', 'Orgn', 'sing', 'nomn', 'masc', 'NOUN'}, {'inan', 'Orgn', 'sing', 'nomn', 'masc', 'NOUN'}], ['\"', {'PNCT'}, {'PNCT'}, {'PNCT'}]]\n",
            "[(('В', ('PREP',), ('inan', 'sing', 'nomn', 'masc', 'NOUN')), 105), (('Я', ('1per', 'sing', 'NPRO', 'nomn'), ('inan', 'sing', 'nomn', 'masc', 'NOUN')), 51), (('Мы', ('1per', 'plur', 'nomn', 'NPRO'), ('inan', 'sing', 'nomn', 'masc', 'NOUN')), 27), (('Не', ('PRCL',), ('inan', 'sing', 'nomn', 'masc', 'NOUN')), 23), (('На', ('PREP',), ('inan', 'sing', 'nomn', 'masc', 'NOUN')), 23), (('И', ('CONJ',), ('inan', 'sing', 'nomn', 'masc', 'NOUN')), 20), (('Почему', ('ADVB', 'Ques'), ('inan', 'sing', 'nomn', 'masc', 'NOUN')), 19), (('По', ('PREP',), ('inan', 'sing', 'nomn', 'masc', 'NOUN')), 19), (('РФ', ('inan', 'Abbr', 'Fixd', 'Sgtm', 'sing', 'femn', 'gent', 'Geox', 'NOUN'), ('inan', 'sing', 'gent', 'neut', 'NOUN')), 19), (('Вы', ('plur', 'nomn', 'NPRO', '2per'), ('inan', 'sing', 'nomn', 'masc', 'NOUN')), 15), (('Но', ('CONJ',), ('inan', 'sing', 'nomn', 'masc', 'NOUN')), 15), (('этом', ('sing', 'ADJF', 'Subx', 'loct', 'Anph', 'Apro', 'masc'), ('sing', 'NPRO', 'neut', 'loct')), 14), (('Вот', ('PRCL',), ('inan', 'sing', 'nomn', 'masc', 'NOUN')), 14), (('Он', ('sing', 'nomn', 'Anph', '3per', 'NPRO', 'masc'), ('inan', 'sing', 'nomn', 'masc', 'NOUN')), 12), (('А', ('CONJ',), ('inan', 'sing', 'nomn', 'masc', 'NOUN')), 11), (('Они', ('plur', 'nomn', 'Anph', '3per', 'NPRO'), ('inan', 'sing', 'nomn', 'masc', 'NOUN')), 11), (('Эта', ('sing', 'femn', 'ADJF', 'Subx', 'nomn', 'Anph', 'Apro'), ('inan', 'sing', 'nomn', 'masc', 'NOUN')), 10), (('Теперь', ('ADVB',), ('inan', 'sing', 'nomn', 'masc', 'NOUN')), 10), (('С', ('PREP',), ('inan', 'sing', 'nomn', 'masc', 'NOUN')), 9), (('К', ('PREP',), ('inan', 'sing', 'nomn', 'masc', 'NOUN')), 9), (('При', ('PREP',), ('inan', 'sing', 'nomn', 'masc', 'NOUN')), 9), (('Мне', ('1per', 'datv', 'sing', 'NPRO'), ('inan', 'sing', 'nomn', 'masc', 'NOUN')), 9), (('О', ('PREP',), ('inan', 'sing', 'nomn', 'masc', 'NOUN')), 9), (('Она', ('sing', 'femn', 'nomn', 'Anph', '3per', 'NPRO'), ('inan', 'sing', 'nomn', 'masc', 'NOUN')), 8), (('Об', ('PREP', 'Vpre'), ('inan', 'sing', 'nomn', 'masc', 'NOUN')), 8), (('Или', ('CONJ',), ('inan', 'sing', 'nomn', 'masc', 'NOUN')), 7), (('Если', ('CONJ',), ('inan', 'sing', 'nomn', 'masc', 'NOUN')), 7), (('Из', ('PREP',), ('inan', 'sing', 'nomn', 'masc', 'NOUN')), 7), (('Сейчас', ('ADVB',), ('inan', 'sing', 'nomn', 'masc', 'NOUN')), 7), (('Федеральная', ('sing', 'nomn', 'femn', 'ADJF'), ('inan', 'sing', 'nomn', 'masc', 'NOUN')), 7), (('Паша', ('anim', 'Name', 'sing', 'nomn', 'NOUN', 'ms-f'), ('inan', 'sing', 'gent', 'neut', 'NOUN')), 7), (('Президент', ('anim', 'sing', 'nomn', 'masc', 'NOUN'), ('inan', 'sing', 'gent', 'neut', 'NOUN')), 6), (('У', ('PREP',), ('inan', 'sing', 'nomn', 'masc', 'NOUN')), 6), (('После', ('PREP',), ('inan', 'sing', 'nomn', 'masc', 'NOUN')), 6), (('В', ('PREP',), ('inan', 'sing', 'gent', 'neut', 'NOUN')), 6), (('Именно', ('PRCL',), ('inan', 'sing', 'nomn', 'masc', 'NOUN')), 6), (('Каспаров', ('anim', 'Sgtm', 'sing', 'Surn', 'nomn', 'masc', 'NOUN'), ('inan', 'sing', 'gent', 'neut', 'NOUN')), 6), (('Поэтому', ('ADVB',), ('inan', 'sing', 'nomn', 'masc', 'NOUN')), 5), (('Здесь', ('Prdx', 'ADVB'), ('inan', 'sing', 'nomn', 'masc', 'NOUN')), 5), (('Кроме', ('PREP',), ('inan', 'sing', 'nomn', 'masc', 'NOUN')), 5)]\n",
            "Точность Treetagger'a:  0.854682953144659\n",
            "Точность pymorphy2:  0.822478244154347\n"
          ],
          "name": "stdout"
        }
      ]
    },
    {
      "cell_type": "markdown",
      "metadata": {
        "id": "PHjADkIzUMNs",
        "colab_type": "text"
      },
      "source": [
        "**Ошибки**\n",
        "\n",
        "---\n",
        "\n",
        "Помимо перечисленных выше добавляются аббреиватуры (пр.: *РФ*), которые обозначаются как существительные среднего рода ед.ч.\n",
        "\n",
        "      ('РФ', ('gent', 'NOUN', 'Fixd', 'sing', 'Sgtm', 'inan', 'Abbr', 'femn', 'Geox'), ('gent', 'NOUN', 'neut', 'sing', 'inan'))\n"
      ]
    },
    {
      "cell_type": "code",
      "metadata": {
        "colab_type": "code",
        "outputId": "99aec775-f5c0-4753-f296-0090335721ac",
        "id": "3-cJl6ST025e",
        "colab": {
          "base_uri": "https://localhost:8080/",
          "height": 105
        }
      },
      "source": [
        "mistakes('test2.txt', 'output2.txt', 'check2.txt')"
      ],
      "execution_count": 36,
      "outputs": [
        {
          "output_type": "stream",
          "text": [
            "[['Почему', {'inan', 'sing', 'nomn', 'masc', 'NOUN'}, {'ADVB', 'Ques'}, {'ADVB', 'Ques'}], ['?', {'SENT'}, {'PNCT'}, {'SENT'}], ['Во', {'inan', 'sing', 'nomn', 'masc', 'NOUN'}, {'PREP', 'Vpre'}, {'PREP', 'Vpre'}]]\n",
            "[(('В', ('PREP',), ('inan', 'sing', 'nomn', 'masc', 'NOUN')), 66), (('Статья', ('inan', 'sing', 'femn', 'nomn', 'NOUN'), ('inan', 'sing', 'gent', 'neut', 'NOUN')), 46), (('Я', ('1per', 'sing', 'NPRO', 'nomn'), ('inan', 'sing', 'nomn', 'masc', 'NOUN')), 32), (('Не', ('PRCL',), ('inan', 'sing', 'nomn', 'masc', 'NOUN')), 16), (('С', ('PREP',), ('inan', 'sing', 'nomn', 'masc', 'NOUN')), 16), (('Российской', ('sing', 'gent', 'femn', 'ADJF'), ('inan', 'sing', 'gent', 'neut', 'NOUN')), 14), (('И', ('CONJ',), ('inan', 'sing', 'nomn', 'masc', 'NOUN')), 11), (('В', ('PREP',), ('inan', 'sing', 'gent', 'neut', 'NOUN')), 10), (('На', ('PREP',), ('inan', 'sing', 'nomn', 'masc', 'NOUN')), 10), (('По', ('PREP',), ('inan', 'sing', 'nomn', 'masc', 'NOUN')), 10), (('А', ('CONJ',), ('inan', 'sing', 'nomn', 'masc', 'NOUN')), 10), (('Он', ('sing', 'nomn', 'Anph', '3per', 'NPRO', 'masc'), ('inan', 'sing', 'nomn', 'masc', 'NOUN')), 9), (('Мы', ('1per', 'plur', 'nomn', 'NPRO'), ('inan', 'sing', 'nomn', 'masc', 'NOUN')), 9), (('Зайкин', ('anim', 'Sgtm', 'sing', 'Surn', 'nomn', 'masc', 'NOUN'), ('inan', 'sing', 'gent', 'neut', 'NOUN')), 8), (('О', ('PREP',), ('inan', 'sing', 'nomn', 'masc', 'NOUN')), 8), (('Она', ('sing', 'femn', 'nomn', 'Anph', '3per', 'NPRO'), ('inan', 'sing', 'nomn', 'masc', 'NOUN')), 7), (('Я', ('1per', 'sing', 'NPRO', 'nomn'), ('anim', 'Name', 'sing', 'nomn', 'masc', 'NOUN')), 7), (('Диабетическая', ('sing', 'nomn', 'femn', 'ADJF'), ('inan', 'sing', 'nomn', 'masc', 'NOUN')), 7), (('Эта', ('sing', 'femn', 'ADJF', 'Subx', 'nomn', 'Anph', 'Apro'), ('inan', 'sing', 'nomn', 'masc', 'NOUN')), 6), (('У', ('PREP',), ('inan', 'sing', 'nomn', 'masc', 'NOUN')), 6), (('На', ('PREP',), ('inan', 'sing', 'gent', 'neut', 'NOUN')), 6), (('Гриша', ('anim', 'Name', 'sing', 'nomn', 'masc', 'NOUN'), ('inan', 'sing', 'gent', 'neut', 'NOUN')), 6), (('РФ', ('inan', 'Abbr', 'Fixd', 'Sgtm', 'sing', 'femn', 'gent', 'Geox', 'NOUN'), ('inan', 'sing', 'gent', 'neut', 'NOUN')), 5), (('России', ('inan', 'Sgtm', 'sing', 'femn', 'Geox', 'loct', 'NOUN'), ('Abbr', 'Anum', 'sing', 'ADJF', 'loct', 'masc')), 5), (('Петя', ('anim', 'Name', 'sing', 'nomn', 'masc', 'NOUN'), ('inan', 'sing', 'gent', 'neut', 'NOUN')), 5), (('Ты', ('sing', 'nomn', 'NPRO', '2per'), ('inan', 'sing', 'nomn', 'masc', 'NOUN')), 5), (('Сейчас', ('ADVB',), ('inan', 'sing', 'nomn', 'masc', 'NOUN')), 5), (('Здесь', ('Prdx', 'ADVB'), ('inan', 'sing', 'nomn', 'masc', 'NOUN')), 5), (('За', ('PREP',), ('inan', 'sing', 'nomn', 'masc', 'NOUN')), 5), (('Об', ('PREP', 'Vpre'), ('inan', 'sing', 'nomn', 'masc', 'NOUN')), 5), (('этом', ('sing', 'ADJF', 'Subx', 'loct', 'Anph', 'Apro', 'masc'), ('sing', 'NPRO', 'neut', 'loct')), 5), (('Он', ('sing', 'nomn', 'Anph', '3per', 'NPRO', 'masc'), ('anim', 'Name', 'sing', 'nomn', 'masc', 'NOUN')), 5), (('прав', ('inan', 'plur', 'gent', 'neut', 'NOUN'), ('sing', 'Qual', 'ADJS', 'masc')), 5), (('Эврисфей', ('anim', 'Name', 'sing', 'nomn', 'masc', 'NOUN'), ('inan', 'sing', 'gent', 'neut', 'NOUN')), 5), (('Например', ('Prnt', 'CONJ'), ('inan', 'sing', 'nomn', 'masc', 'NOUN')), 4), (('США', ('inan', 'Abbr', 'Fixd', 'plur', 'GNdr', 'nomn', 'Geox', 'Pltm', 'NOUN'), ('inan', 'sing', 'nomn', 'masc', 'NOUN')), 4), (('Но', ('CONJ',), ('inan', 'sing', 'nomn', 'masc', 'NOUN')), 4), (('Вы', ('plur', 'nomn', 'NPRO', '2per'), ('inan', 'sing', 'nomn', 'masc', 'NOUN')), 4), (('К', ('PREP',), ('inan', 'sing', 'nomn', 'masc', 'NOUN')), 4), (('Медведев', ('anim', 'Sgtm', 'sing', 'Surn', 'nomn', 'masc', 'NOUN'), ('inan', 'sing', 'gent', 'neut', 'NOUN')), 4)]\n",
            "Точность Treetagger'a:  0.852539662582939\n",
            "Точность pymorphy2:  0.805506736908468\n"
          ],
          "name": "stdout"
        }
      ]
    },
    {
      "cell_type": "markdown",
      "metadata": {
        "id": "zEHj-Yr7Uo_g",
        "colab_type": "text"
      },
      "source": [
        "**Ошибки**\n",
        "\n",
        "---\n",
        "\n",
        "*   иногда определяет личные местоимения как существительные\n",
        "        'Я', ('NPRO', 'sing', 'nomn', '1per'), ('masc', 'NOUN', 'nomn', 'sing', 'inan')\n",
        "        'Он', ('3per', 'masc', 'nomn', 'NPRO', 'sing', 'Anph'), ('masc', 'NOUN', 'nomn', 'sing', 'inan'\n",
        "*   путает род и падеж (наверное, смотрит на окончания...)\n",
        "        'Статья', ('NOUN', 'nomn', 'sing', 'inan', 'femn'), ('gent', 'NOUN', 'neut', 'sing', 'inan'\n",
        "*   Спотыкается на омонимичных формах\n",
        "\n",
        "        'Зайкин', ('masc', 'NOUN', 'nomn', 'Surn', 'sing', 'anim', 'Sgtm'), ('gent', 'NOUN', 'neut', 'sing', 'inan') \n",
        "        \n",
        "       фамилия \"Зайкин\" VS зайкин (дом) - посессивная форма, выраженная генитивом\n",
        "*имена собтвенные\n",
        "     ('России', ('NOUN', 'loct', 'sing', 'Sgtm', 'inan', 'femn', 'Geox'), ('masc', 'loct', 'ADJF', 'sing', 'Anum', 'Abbr')\n",
        "        \n",
        "      \n",
        "        \n",
        "\n",
        "\n",
        "\n",
        "\n",
        "\n",
        "\n",
        "\n",
        "\n",
        "---\n"
      ]
    },
    {
      "cell_type": "code",
      "metadata": {
        "id": "ZC8v5WHv_zri",
        "colab_type": "code",
        "outputId": "bc64196a-107d-4a3e-ccce-7ee0118adbe1",
        "colab": {
          "base_uri": "https://localhost:8080/",
          "height": 105
        }
      },
      "source": [
        "mistakes('test3.txt', 'output3.txt', 'check3.txt')"
      ],
      "execution_count": 37,
      "outputs": [
        {
          "output_type": "stream",
          "text": [
            "[['—', {'PNCT'}, {'PNCT'}, {'PNCT'}], ['Вот', {'inan', 'sing', 'nomn', 'masc', 'NOUN'}, {'PRCL'}, {'PRCL'}], ['гад', {'anim', 'sing', 'nomn', 'masc', 'NOUN'}, {'anim', 'sing', 'nomn', 'masc', 'NOUN'}, {'anim', 'sing', 'nomn', 'masc', 'NOUN'}]]\n",
            "[(('В', ('PREP',), ('inan', 'sing', 'nomn', 'masc', 'NOUN')), 55), (('Я', ('1per', 'sing', 'NPRO', 'nomn'), ('inan', 'sing', 'nomn', 'masc', 'NOUN')), 45), (('Не', ('PRCL',), ('inan', 'sing', 'nomn', 'masc', 'NOUN')), 23), (('Проверено', ('perf', 'past', 'sing', 'PRTS', 'pssv', 'neut'), ('inan', 'sing', 'nomn', 'masc', 'NOUN')), 22), (('Архивировано', ('impf', 'past', 'sing', 'PRTS', 'pssv', 'neut'), ('inan', 'sing', 'nomn', 'masc', 'NOUN')), 19), (('В', ('PREP',), ('inan', 'sing', 'gent', 'neut', 'NOUN')), 17), (('На', ('PREP',), ('inan', 'sing', 'nomn', 'masc', 'NOUN')), 16), (('Федя', ('anim', 'Name', 'sing', 'nomn', 'masc', 'NOUN'), ('inan', 'sing', 'gent', 'neut', 'NOUN')), 15), (('С', ('PREP',), ('inan', 'sing', 'nomn', 'masc', 'NOUN')), 14), (('Костя', ('anim', 'Name', 'sing', 'nomn', 'masc', 'NOUN'), ('inan', 'sing', 'gent', 'neut', 'NOUN')), 14), (('По', ('PREP',), ('inan', 'sing', 'nomn', 'masc', 'NOUN')), 13), (('История', ('inan', 'sing', 'femn', 'nomn', 'NOUN'), ('inan', 'sing', 'gent', 'neut', 'NOUN')), 13), (('Примечания', ('inan', 'plur', 'nomn', 'neut', 'NOUN'), ('inan', 'sing', 'nomn', 'masc', 'NOUN')), 13), (('Вот', ('PRCL',), ('inan', 'sing', 'nomn', 'masc', 'NOUN')), 12), (('Ссылки', ('inan', 'plur', 'femn', 'nomn', 'NOUN'), ('inan', 'sing', 'gent', 'neut', 'NOUN')), 12), (('Он', ('sing', 'nomn', 'Anph', '3per', 'NPRO', 'masc'), ('inan', 'sing', 'nomn', 'masc', 'NOUN')), 11), (('Иванов', ('anim', 'Sgtm', 'sing', 'Surn', 'nomn', 'masc', 'NOUN'), ('inan', 'sing', 'gent', 'neut', 'NOUN')), 10), (('Ссылки', ('inan', 'plur', 'femn', 'nomn', 'NOUN'), ('inan', 'sing', 'nomn', 'masc', 'NOUN')), 10), (('Гриша', ('anim', 'Name', 'sing', 'nomn', 'masc', 'NOUN'), ('inan', 'sing', 'gent', 'neut', 'NOUN')), 9), (('Вы', ('plur', 'nomn', 'NPRO', '2per'), ('inan', 'sing', 'nomn', 'masc', 'NOUN')), 9), (('А', ('CONJ',), ('inan', 'sing', 'nomn', 'masc', 'NOUN')), 9), (('Примечания', ('inan', 'plur', 'nomn', 'neut', 'NOUN'), ('inan', 'sing', 'gent', 'neut', 'NOUN')), 9), (('Молитва', ('inan', 'sing', 'femn', 'nomn', 'NOUN'), ('inan', 'sing', 'gent', 'neut', 'NOUN')), 8), (('Они', ('plur', 'nomn', 'Anph', '3per', 'NPRO'), ('inan', 'sing', 'nomn', 'masc', 'NOUN')), 8), (('Спасителя', ('anim', 'sing', 'gent', 'masc', 'NOUN'), ('inan', 'sing', 'gent', 'neut', 'NOUN')), 8), (('О', ('PREP',), ('inan', 'sing', 'nomn', 'masc', 'NOUN')), 8), (('Ах', ('INTJ',), ('inan', 'sing', 'nomn', 'masc', 'NOUN')), 8), (('Павел', ('anim', 'Name', 'sing', 'nomn', 'masc', 'NOUN'), ('inan', 'sing', 'gent', 'neut', 'NOUN')), 8), (('См', ('Abbr', 'impf', 'sing', 'impr', 'excl', 'tran', 'VERB'), ('inan', 'sing', 'gent', 'neut', 'NOUN')), 8), (('Мы', ('1per', 'plur', 'nomn', 'NPRO'), ('inan', 'sing', 'nomn', 'masc', 'NOUN')), 7), (('И', ('CONJ',), ('inan', 'sing', 'nomn', 'masc', 'NOUN')), 7), (('Очень', ('ADVB',), ('inan', 'sing', 'nomn', 'masc', 'NOUN')), 7), (('Игнатьевна', ('anim', 'sing', 'femn', 'nomn', 'Patr', 'NOUN'), ('inan', 'sing', 'gent', 'neut', 'NOUN')), 7), (('Ура', ('INTJ',), ('inan', 'sing', 'nomn', 'masc', 'NOUN')), 6), (('При', ('PREP',), ('inan', 'sing', 'nomn', 'masc', 'NOUN')), 6), (('Девушки', ('anim', 'plur', 'femn', 'nomn', 'NOUN'), ('inan', 'sing', 'nomn', 'masc', 'NOUN')), 6), (('Она', ('sing', 'femn', 'nomn', 'Anph', '3per', 'NPRO'), ('inan', 'sing', 'nomn', 'masc', 'NOUN')), 6), (('Квадратович', ('anim', 'sing', 'nomn', 'Patr', 'masc', 'NOUN'), ('inan', 'sing', 'gent', 'neut', 'NOUN')), 5), (('Клеопатра', ('anim', 'Name', 'sing', 'femn', 'nomn', 'NOUN'), ('inan', 'sing', 'nomn', 'masc', 'NOUN')), 5), (('Анастасий', ('anim', 'Name', 'sing', 'nomn', 'masc', 'NOUN'), ('inan', 'sing', 'gent', 'neut', 'NOUN')), 5)]\n",
            "Точность Treetagger'a:  0.8250774804591195\n",
            "Точность pymorphy2:  0.7948614898799562\n"
          ],
          "name": "stdout"
        }
      ]
    },
    {
      "cell_type": "markdown",
      "metadata": {
        "id": "A7VD0PIdc-FS",
        "colab_type": "text"
      },
      "source": [
        "**Ошибки**\n",
        "\n",
        "---\n",
        "* Краткие *причастия* тоже не распознает\n",
        "\n",
        "      ('Проверено', ('pssv', 'perf', 'neut', 'past', 'sing', 'PRTS'), ('masc', 'NOUN', 'nomn', 'sing', 'inan'))\n",
        "      ('Архивировано', ('pssv', 'impf', 'neut', 'past', 'sing', 'PRTS'), ('masc', 'NOUN', 'nomn', 'sing', 'inan'))\n",
        "*  Не знает имен собственных\n",
        "\n",
        "        'Федя', ('masc', 'NOUN', 'Name', 'nomn', 'sing', 'anim'), ('gent', 'NOUN', 'neut', 'sing', 'inan')\n",
        "        ('Костя', ('masc', 'NOUN', 'Name', 'nomn', 'sing', 'anim'), ('gent', 'NOUN', 'neut', 'sing', 'inan')\n",
        "* Не разрешает *омонимичные* формы\n",
        "\n",
        "      ('Примечания', ('plur', 'NOUN', 'nomn', 'neut', 'inan'), ('masc', 'NOUN', 'nomn', 'sing', 'inan')"
      ]
    },
    {
      "cell_type": "code",
      "metadata": {
        "id": "Q651b7sn-lNm",
        "colab_type": "code",
        "outputId": "dfeeeacd-a967-4f60-fa12-7957dcc5c213",
        "colab": {
          "base_uri": "https://localhost:8080/",
          "height": 105
        }
      },
      "source": [
        "mistakes('test4.txt', 'output4.txt', 'check4.txt')"
      ],
      "execution_count": 38,
      "outputs": [
        {
          "output_type": "stream",
          "text": [
            "[['—', {'PNCT'}, {'PNCT'}, {'PNCT'}], ['Телохранитель', {'inan', 'sing', 'nomn', 'masc', 'NOUN'}, {'anim', 'sing', 'nomn', 'masc', 'NOUN'}, {'anim', 'sing', 'nomn', 'masc', 'NOUN'}], ['!', {'SENT'}, {'PNCT'}, {'SENT'}]]\n",
            "[(('—', ('PNCT',), ('inan', 'sing', 'nomn', 'masc', 'NOUN')), 88), (('.', ('PNCT',), ('inan', 'sing', 'nomn', 'masc', 'NOUN')), 72), (('-', ('PNCT',), ('perf', 'masc', 'sing', 'past', 'tran', 'VERB', 'indc')), 49), (('«', ('PNCT',), ('inan', 'sing', 'nomn', 'masc', 'NOUN')), 43), (('—', ('PNCT',), ('perf', 'masc', 'sing', 'past', 'tran', 'VERB', 'indc')), 29), (('—', ('PNCT',), ('impf', 'sing', 'pres', 'tran', '3per', 'VERB', 'indc')), 27), (('В', ('PREP',), ('inan', 'sing', 'nomn', 'masc', 'NOUN')), 21), ((',', ('PNCT',), ('PREP',)), 21), ((',', ('PNCT',), ('inan', 'sing', 'nomn', 'masc', 'NOUN')), 19), (('в', ('PREP',), ('Abbr', 'Anum', 'sing', 'ADJF', 'loct', 'masc')), 19), ((',', ('PNCT',), ('CONJ',)), 19), (('—', ('PNCT',), ('anim', 'Name', 'sing', 'nomn', 'masc', 'NOUN')), 19), (('«', ('PNCT',), ('anim', 'Name', 'sing', 'nomn', 'masc', 'NOUN')), 18), (('•', ('PNCT',), ('inan', 'sing', 'nomn', 'masc', 'NOUN')), 18), (('В', ('PREP',), ('inan', 'sing', 'gent', 'neut', 'NOUN')), 17), (('Статья', ('inan', 'sing', 'femn', 'nomn', 'NOUN'), ('NUMB',)), 16), (('в', ('PREP',), ('inan', 'sing', 'loct', 'masc', 'NOUN')), 15), (('—', ('PNCT',), ('perf', 'sing', 'past', 'femn', 'tran', 'VERB', 'indc')), 14), (('--', ('PNCT',), ('inan', 'sing', 'nomn', 'masc', 'NOUN')), 14), ((',', ('PNCT',), ('PRCL',)), 12), (('История', ('inan', 'sing', 'femn', 'nomn', 'NOUN'), ('inan', 'sing', 'gent', 'neut', 'NOUN')), 11), (('в', ('PREP',), ('inan', 'sing', 'loct', 'neut', 'NOUN')), 11), (('Игнатий', ('anim', 'Name', 'sing', 'nomn', 'masc', 'NOUN'), ('inan', 'sing', 'gent', 'neut', 'NOUN')), 11), (('говорит', ('impf', 'sing', 'pres', 'tran', '3per', 'VERB', 'indc'), ('inan', 'sing', 'gent', 'neut', 'NOUN')), 11), (('в', ('PREP',), ('inan', 'sing', 'femn', 'accs', 'NOUN')), 10), (('на', ('PREP',), ('inan', 'sing', 'femn', 'accs', 'NOUN')), 10), (('сказал', ('perf', 'masc', 'sing', 'past', 'tran', 'VERB', 'indc'), ('sing', 'nomn', 'Anph', '3per', 'NPRO', 'masc')), 10), (('\"', ('PNCT',), ('inan', 'sing', 'nomn', 'masc', 'NOUN')), 10), (('по', ('PREP',), ('inan', 'datv', 'sing', 'femn', 'NOUN')), 9), (('с', ('PREP',), ('inan', 'sing', 'ablt', 'femn', 'NOUN')), 9), (('на', ('PREP',), ('inan', 'sing', 'femn', 'loct', 'NOUN')), 9), ((',', ('PNCT',), ('anim', 'sing', 'nomn', 'masc', 'NOUN')), 9), (('Янг', ('anim', 'Sgtm', 'sing', 'Surn', 'nomn', 'masc', 'NOUN'), ('PNCT',)), 9), (('Биография', ('inan', 'sing', 'femn', 'nomn', 'NOUN'), ('inan', 'sing', 'gent', 'neut', 'NOUN')), 8), (('в', ('PREP',), ('NUMB',)), 8), ((',', ('PNCT',), ('inan', 'sing', 'femn', 'nomn', 'NOUN')), 8), (('—', ('PNCT',), ('masc', 'impf', 'sing', 'past', 'tran', 'VERB', 'indc')), 8), (('в', ('PREP',), ('inan', 'sing', 'femn', 'loct', 'NOUN')), 8), (('чрезвычайного', ('sing', 'gent', 'neut', 'ADJF'), ('inan', 'plur', 'nomn', 'neut', 'NOUN')), 8), (('—', ('PNCT',), ('intr', 'perf', 'masc', 'sing', 'past', 'VERB', 'indc')), 8)]\n",
            "Точность Treetagger'a:  0.2894770593275145\n",
            "Точность pymorphy2:  0.7966308396607487\n"
          ],
          "name": "stdout"
        }
      ]
    },
    {
      "cell_type": "markdown",
      "metadata": {
        "id": "shOuP3UPd9Jl",
        "colab_type": "text"
      },
      "source": [
        "**Ошибки**\n",
        "\n",
        "---\n",
        "\n",
        "* Почему-то определяет знаки препинания как существительные\n",
        "      ('—', ('PNCT',), ('masc', 'NOUN', 'nomn', 'sing', 'inan')\n",
        "* союзы\n",
        "      (',', ('PNCT',), ('CONJ',)\n",
        "* и предлоги\n",
        "      (',', ('PNCT',), ('PREP',)\n",
        "* и даже местоимения\n",
        "        '—', ('PNCT',), ('3per', 'indc', 'impf', 'pres', 'sing', 'tran', 'VERB'"
      ]
    },
    {
      "cell_type": "code",
      "metadata": {
        "id": "Qkx3UHZt-k9B",
        "colab_type": "code",
        "outputId": "7878eae2-854d-459b-9f06-17114952052a",
        "colab": {
          "base_uri": "https://localhost:8080/",
          "height": 102
        }
      },
      "source": [
        "scores"
      ],
      "execution_count": 39,
      "outputs": [
        {
          "output_type": "execute_result",
          "data": {
            "text/plain": [
              "[0.8482684651814119,\n",
              " 0.854682953144659,\n",
              " 0.852539662582939,\n",
              " 0.8250774804591195,\n",
              " 0.2894770593275145]"
            ]
          },
          "metadata": {
            "tags": []
          },
          "execution_count": 39
        }
      ]
    },
    {
      "cell_type": "code",
      "metadata": {
        "id": "Bn0NDHub__0n",
        "colab_type": "code",
        "outputId": "a5093e4b-f86d-476f-9cc5-7181d125b34f",
        "colab": {
          "base_uri": "https://localhost:8080/",
          "height": 102
        }
      },
      "source": [
        "print('Усредненная метрика treetagger\\'a: ', np.mean(scores), '\\nСтандартное отклонение: ', np.std(scores))\n",
        "print('---\\nУсредненная метрика pymorphy2: ',np.mean(pmscores), '\\nСтандартное отклонение: ', np.std(pmscores))"
      ],
      "execution_count": 40,
      "outputs": [
        {
          "output_type": "stream",
          "text": [
            "Усредненная метрика treetagger'a:  0.7340091241391288 \n",
            "Стандартное отклонение:  0.22251699293966487\n",
            "---\n",
            "Усредненная метрика pymorphy2:  0.8102876829688418 \n",
            "Стандартное отклонение:  0.014599186410441415\n"
          ],
          "name": "stdout"
        }
      ]
    },
    {
      "cell_type": "markdown",
      "metadata": {
        "id": "0J-6s_h2e7jL",
        "colab_type": "text"
      },
      "source": [
        "**Итоги**\n",
        "\n",
        "---\n",
        "* Средняя оценка > 73 % довольно высокая\n",
        "* В четырех из пяти случаев точность **treetagger**'а *превосходила*  точность pymorpy2\n",
        "* Основные ошибки заключались в неразличении наиболее частотных слов (служебных слов, личных местоимений)\n",
        "* Ошибки возникали и при столкновении с именами собственными, с омонимичными формами, с причастиями, аббревиатурами"
      ]
    },
    {
      "cell_type": "code",
      "metadata": {
        "id": "W3J535DI-bMy",
        "colab_type": "code",
        "outputId": "0f1f9806-13d1-40d7-a666-8fdd17de2e1e",
        "colab": {
          "base_uri": "https://localhost:8080/",
          "height": 425
        }
      },
      "source": [
        "!./bin/train-tree-tagger lexicon.txt open_class.txt corpus_train.txt model_oc "
      ],
      "execution_count": 41,
      "outputs": [
        {
          "output_type": "stream",
          "text": [
            "\n",
            "train-tree-tagger -cl 2 -dtg 0.50 -sw 1.00 -ecw 0.15 -atg 1.20 lexicon.txt open_class.txt corpus_train.txt model_oc\n",
            "\n",
            "\treading the lexicon ...\n",
            "\t\treading the tagset ...\n",
            "\t\treading the lemmas ...\n",
            "\t\treading the entries ...\n",
            "\t\tsorting the lexicon ...\n",
            "\t\treading the open class tags ...\n",
            "\tcalculating tag frequencies ...\n",
            "\r1000\r2000\r3000\r4000\r5000\r6000\r7000\r8000\r9000\r10000\r11000\r12000\r13000\r14000\r15000\r16000\r17000\r18000\r19000\r20000\r21000\r22000\r23000\r24000\r25000\r26000\r27000\r28000\r29000\r30000\r31000\r32000\r33000\r34000\r35000\r36000\r37000\r38000\r39000\r40000\r41000\r42000\r43000\r44000\r45000\r46000\r47000\r48000\r49000\r50000\r51000\r52000\r53000\r54000\r55000\r56000\r57000\tmaking affix tree ...\n",
            "prefix lexicon: 807 nodes\n",
            "suffix lexicon: 1790 nodes\n",
            "\treading classes ...\n",
            "\tmaking ngram table ...\n",
            "\r1000\t943\r2000\t1734\r3000\t2524\r4000\t3306\r5000\t3893\r6000\t4601\r7000\t5248\r8000\t5815\r9000\t6497\r10000\t7176\r11000\t7832\r12000\t8481\r13000\t9117\r14000\t9726\r15000\t10326\r16000\t10838\r17000\t11403\r18000\t12028\r19000\t12516\r20000\t13106\r21000\t13706\r22000\t14293\r23000\t14802\r24000\t15353\r25000\t15898\r26000\t16444\r27000\t17023\r28000\t17567\r29000\t18099\r30000\t18631\r31000\t19119\r32000\t19623\r33000\t20143\r34000\t20530\r35000\t21043\r36000\t21568\r37000\t22020\r38000\t22417\r39000\t22840\r40000\t23175\r41000\t23611\r42000\t23938\r43000\t24411\r44000\t24714\r45000\t24911\r46000\t25250\r47000\t25579\r48000\t25982\r49000\t26353\r50000\t26782\r51000\t27149\r52000\t27532\r53000\t27930\r54000\t28249\r55000\t28519\r56000\t28795\r57000\t29197\r58000\t29569\r59000\t29942\r60000\t30258\r61000\t30548\r62000\t30894\r63000\t31301\r64000\t31680\r65000\t32127\r66000\t32494\r67000\t32847\r68000\t33100\r69000\t33428\r70000\t33726\r71000\t33986\r71345\t34027\n",
            "finished.\n",
            "\tmaking decision tree ...\n",
            "92\tsaving parameters ...\n",
            "\n",
            "Number of nodes: 93\n",
            "Max. path length: 16\n",
            "\n",
            "done.\n"
          ],
          "name": "stdout"
        }
      ]
    },
    {
      "cell_type": "markdown",
      "metadata": {
        "id": "9G_X1NAd93Cy",
        "colab_type": "text"
      },
      "source": [
        "Предиктим."
      ]
    },
    {
      "cell_type": "code",
      "metadata": {
        "id": "ZOIlVOF7xNE0",
        "colab_type": "code",
        "colab": {}
      },
      "source": [
        "test = open('test_corpus.txt', 'w')\n",
        "\n",
        "test.write('\\n'.join('Я хочу съесть яблоко .'.split()))\n",
        "\n",
        "test.close()"
      ],
      "execution_count": 0,
      "outputs": []
    },
    {
      "cell_type": "code",
      "metadata": {
        "id": "kQ9gweDtyRZc",
        "colab_type": "code",
        "outputId": "0c23d65f-d916-4306-c4cd-b4309b756c7b",
        "colab": {
          "base_uri": "https://localhost:8080/",
          "height": 153
        }
      },
      "source": [
        "!./bin/tree-tagger model_oc test_corpus.txt output.txt\n",
        "!head output.txt"
      ],
      "execution_count": 43,
      "outputs": [
        {
          "output_type": "stream",
          "text": [
            "\treading parameters ...\n",
            "\ttagging ...\n",
            "\t finished.\n",
            "NOUN,inan,masc,sing,nomn\n",
            "VERB,impf,tran,sing,1per,pres,indc\n",
            "VERB,perf,tran,masc,sing,past,indc\n",
            "NOUN,anim,masc,Name,sing,nomn\n",
            "SENT\n"
          ],
          "name": "stdout"
        }
      ]
    }
  ]
}