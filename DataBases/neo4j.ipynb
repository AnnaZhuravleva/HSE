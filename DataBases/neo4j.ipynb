{
 "cells": [
  {
   "cell_type": "code",
   "execution_count": 1,
   "metadata": {},
   "outputs": [],
   "source": [
    "import neo4j\n",
    "from neo4j import GraphDatabase\n",
    "import pandas as pd\n",
    "from itertools import combinations\n",
    "import random"
   ]
  },
  {
   "cell_type": "code",
   "execution_count": 2,
   "metadata": {},
   "outputs": [],
   "source": [
    "class Neo4jDriver(object):\n",
    "\n",
    "    def __init__(self, uri, user, password):\n",
    "        self._driver = GraphDatabase.driver(uri, auth=(user, password))\n",
    "\n",
    "    def close(self):\n",
    "        self._driver.close()\n",
    "\n",
    "    def make_req(self, message):\n",
    "        return self._driver.session().run(message)\n",
    "    \n",
    "    def clear(self):  #  DELETE\n",
    "        return self._driver.session().run('match(n) detach delete (n)')\n",
    "    \n",
    "class Experiment(object):\n",
    "    \n",
    "    def __init__(self, al_path, l1_path, participants_total, words_total):\n",
    "        self.al = self.read_table(al_path)[:words_total]\n",
    "        self.l1 = self.read_table(l1_path)[:words_total]\n",
    "        self.participants = list(range(participants_total))\n",
    "        self.l1_distribution, self.translations = self.get_translations(words_total, participants_total)\n",
    "        self.afc_distribution = self.get_afc()\n",
    "        self.semantic_test = self.get_semantic()\n",
    "        \n",
    "    @staticmethod\n",
    "    def read_table(path):\n",
    "        with open(path, 'r', encoding='utf-8') as file:\n",
    "            return [row for _, row in pd.read_csv(file).iterrows()]\n",
    "        \n",
    "    def get_translations(self, total, participants_total):\n",
    "        all_idxs = list(range(total))\n",
    "        all_combs = []\n",
    "        res = []\n",
    "        i = 0\n",
    "        while i < participants_total:\n",
    "            i += 1\n",
    "            while True:\n",
    "                tmp = random.sample(all_idxs, k=total)\n",
    "                if tmp not in all_combs:\n",
    "                    translation = [self.l1[idx].word for idx in tmp]\n",
    "                    all_combs.append(tmp)\n",
    "                    res.append(translation)\n",
    "                    break\n",
    "        return all_combs, res\n",
    "    \n",
    "    def get_afc(self):\n",
    "        full_afc = []\n",
    "        for p_id in self.participants:\n",
    "            res = {}\n",
    "            translations = self.translations[p_id]\n",
    "            combs = list(iter(combinations(translations, 3)))\n",
    "            for idx, row in enumerate(self.al):\n",
    "                correct = translations[idx]\n",
    "                afc = random.choice([comb for comb in combs if correct in comb])\n",
    "                res[row.word] = (afc, correct)\n",
    "            full_afc.append(res)\n",
    "        return full_afc\n",
    "    \n",
    "    def get_semantic(self):\n",
    "        with open('semantic_categories.csv', 'r', encoding='utf-8') as file:\n",
    "            return {row.word:row.category for _, row in pd.read_csv(file).iterrows()}\n",
    "    "
   ]
  },
  {
   "cell_type": "code",
   "execution_count": 3,
   "metadata": {},
   "outputs": [],
   "source": [
    "def add_participant(data, participant, uri, user, password):\n",
    "    rt = list(range(5, 35))\n",
    "    ages = list(range(18, 31))\n",
    "    driver = Neo4jDriver(uri, user, password)\n",
    "    driver.make_req(\"create (:Participant {id: '\" + str(participant) + \"', age: \" + str(random.choice(ages)) + \"})\")\n",
    "    idxs = data.l1_distribution[participant-1]\n",
    "    translations = data.translations[participant]\n",
    "    for idx, i in enumerate(data.al):\n",
    "        afc_list = data.afc_distribution[participant-1]\n",
    "        word = i.word\n",
    "        if idx % 10 == 0:\n",
    "            driver = Neo4jDriver(uri, user, password)\n",
    "        j = data.l1[idxs[idx]]\n",
    "        \n",
    "        # presentation\n",
    "        a.make_req(\"create (:AL {p_id : '\" + str(participant) + \"', \\\n",
    "                                s_id : '\" + str(participant) + '_'+ str(idx) + \"', \\\n",
    "                                word : '\" + i.word + \"'})\")\n",
    "       \n",
    "        a.make_req(\"create (:L1 {p_id : '\" + str(participant) + \"', \\\n",
    "                                s_id : '\" + str(participant) + '_'+ str(idx) + \"', \\\n",
    "                                word :'\" + j.word + \"', \\\n",
    "                                gender: '\" + j.gender + \"', \\\n",
    "                                animacy: '\"+ j.anim + \"'})\")\n",
    "       \n",
    "        #  alternative-forced-choice test\n",
    "        a.make_req(\"create (:afc  {p_id : '\" + str(participant) + \"', \\\n",
    "                                s_id : '\" + str(participant) + '_'+ str(idx) + \"', \\\n",
    "                                a1: '\"+ afc_list[word][0][0] + \"', \\\n",
    "                                a2: '\"+ afc_list[word][0][1] + \"', \\\n",
    "                                a3: '\"+ afc_list[word][0][2] + \"', \\\n",
    "                                correct: '\"+ afc_list[word][1] + \"', \\\n",
    "                                answer: '\" + random.choice(['wrong', 'correct']) + \"', \\\n",
    "                                reaction_time: \"+ str(random.choice(rt) / 10) + \"})\")\n",
    "        \n",
    "        #  recognition test\n",
    "        a.make_req(\"create (:recognition  {p_id : '\" + str(participant) + \"', \\\n",
    "                                s_id : '\" + str(participant) + '_'+ str(idx) + \"', \\\n",
    "                                a1: '\" + random.choice(translations) + \"', \\\n",
    "                                correct: '\"+ j.word + \"', \\\n",
    "                                answer: '\" + random.choice(['wrong', 'correct']) + \"', \\\n",
    "                                reaction_time: \"+ str(random.choice(rt) / 10) + \"})\")\n",
    "        \n",
    "        #  semantic decision test\n",
    "        a.make_req(\"create (:semantics  {p_id : '\" + str(participant) + \"', \\\n",
    "                                s_id : '\" + str(participant) + '_'+ str(idx) + \"', \\\n",
    "                                a1: 'люди', \\\n",
    "                                a2: 'животное', \\\n",
    "                                a3: 'предметы', \\\n",
    "                                correct: '\"+ data.semantic_test[j.word] + \"', \\\n",
    "                                answer: '\" + random.choice(['wrong', 'correct']) + \"', \\\n",
    "                                reaction_time: \"+ str(random.choice(rt) / 10) + \"})\")\n",
    "        \n",
    "        print(participant, idx, i.word, j.word, afc_list[word])\n",
    "    a.make_req(\"MATCH (a:Participant),(b:AL) \\\n",
    "                WHERE (b.p_id = a.id AND a.id = '\" + str(participant) + \"') \\\n",
    "                CREATE (a)<-[r:stimul]-(b) \\\n",
    "                return type(r)\")\n",
    "    a.make_req(\"MATCH (a:L1),(b:AL) \\\n",
    "                WHERE (a.s_id = b.s_id AND b.p_id = '\" + str(participant) + \"' ) \\\n",
    "                MERGE (a)<-[r:translate]-(b) \\\n",
    "                RETURN type(r), a.word, b.word\")\n",
    "    a.make_req(\"MATCH (a:afc),(b:AL) \\\n",
    "                WHERE (a.s_id = b.s_id AND b.p_id = '\" + str(participant) + \"' ) \\\n",
    "                MERGE (a)<-[r:afc_test]-(b)\")\n",
    "    a.make_req(\"MATCH (a:recognition),(b:AL) \\\n",
    "                WHERE (a.s_id = b.s_id AND b.p_id = '\" + str(participant) + \"' ) \\\n",
    "                MERGE (a)<-[r:recognition_test]-(b)\")\n",
    "    a.make_req(\"MATCH (a:semantics),(b:AL) \\\n",
    "                WHERE (a.s_id = b.s_id AND b.p_id = '\" + str(participant) + \"' ) \\\n",
    "                MERGE (a)<-[r:semantic_test]-(b)\")\n",
    "        \n",
    "        "
   ]
  },
  {
   "cell_type": "code",
   "execution_count": 4,
   "metadata": {},
   "outputs": [],
   "source": [
    "def delete_participant(driver, p_id):\n",
    "    return driver.make_req(\"MATCH p =(a)--(b)--(c) \\\n",
    "                            WHERE a.id = b.p_id =  c.p_id = '\" + str(p_id) + \"' detach delete (p)\")"
   ]
  },
  {
   "cell_type": "code",
   "execution_count": 5,
   "metadata": {},
   "outputs": [],
   "source": [
    "uri = 'bolt://100.27.2.160:33254'\n",
    "user = 'neo4j'\n",
    "password = 'brick-capacity-fund'\n",
    "a = Neo4jDriver(uri, user, password)\n",
    "data = Experiment(al_path='AL.csv', l1_path='L1.csv', participants_total=8, words_total=5)"
   ]
  },
  {
   "cell_type": "code",
   "execution_count": 6,
   "metadata": {},
   "outputs": [
    {
     "name": "stdout",
     "output_type": "stream",
     "text": [
      "1 0 adere белка (('белка', 'зебра', 'курица'), 'белка')\n",
      "1 1 anvugu корова (('белка', 'корова', 'зебра'), 'корова')\n",
      "1 2 akete зебра (('белка', 'корова', 'зебра'), 'зебра')\n",
      "1 3 apoktu курица (('корова', 'зебра', 'курица'), 'курица')\n",
      "1 4 askolte невеста (('белка', 'курица', 'невеста'), 'невеста')\n",
      "2 0 adere корова (('корова', 'курица', 'белка'), 'корова')\n",
      "2 1 anvugu невеста (('невеста', 'зебра', 'белка'), 'невеста')\n",
      "2 2 akete курица (('корова', 'курица', 'зебра'), 'курица')\n",
      "2 3 apoktu зебра (('корова', 'невеста', 'зебра'), 'зебра')\n",
      "2 4 askolte белка (('невеста', 'курица', 'белка'), 'белка')\n"
     ]
    }
   ],
   "source": [
    "a.clear()\n",
    "for i in range(1, 3):\n",
    "    add_participant(data, i, uri, user, password)"
   ]
  },
  {
   "cell_type": "code",
   "execution_count": 7,
   "metadata": {},
   "outputs": [
    {
     "data": {
      "text/plain": [
       "[word    adere\n",
       " Name: 0, dtype: object, word    anvugu\n",
       " Name: 1, dtype: object, word    akete\n",
       " Name: 2, dtype: object, word    apoktu\n",
       " Name: 3, dtype: object, word    askolte\n",
       " Name: 4, dtype: object]"
      ]
     },
     "execution_count": 7,
     "metadata": {},
     "output_type": "execute_result"
    }
   ],
   "source": [
    "data.al"
   ]
  },
  {
   "cell_type": "code",
   "execution_count": 8,
   "metadata": {},
   "outputs": [
    {
     "name": "stdout",
     "output_type": "stream",
     "text": [
      "Participant 1: 10 correct answers out of 20,\n",
      "Participant 2: 11 correct answers out of 20\n"
     ]
    }
   ],
   "source": [
    "r1 = a.make_req(\"MATCH p =(a)--(b)--(c) \\\n",
    "            WHERE a.id = b.p_id =  c.p_id = '1' AND c.answer = 'correct' \\\n",
    "            RETURN count(p)\").single()\n",
    "\n",
    "r2 = a.make_req(\"MATCH p =(a)--(b)--(c) \\\n",
    "            WHERE a.id = b.p_id =  c.p_id = '1' \\\n",
    "            RETURN count(p)\").single()\n",
    "\n",
    "r3 = a.make_req(\"MATCH p =(a)--(b)--(c) \\\n",
    "            WHERE a.id = b.p_id =  c.p_id = '2' AND c.answer = 'correct' \\\n",
    "            RETURN count(p)\").single()\n",
    "\n",
    "r4 = a.make_req(\"MATCH p =(a)--(b)--(c) \\\n",
    "            WHERE a.id = b.p_id =  c.p_id = '2' \\\n",
    "            RETURN count(p)\").single()\n",
    "\n",
    "print(f\"Participant 1: {r1[0]} correct answers out of {r2[0]},\\nParticipant 2: {r3[0]} correct answers out of {r4[0]}\")"
   ]
  },
  {
   "cell_type": "code",
   "execution_count": 9,
   "metadata": {},
   "outputs": [
    {
     "data": {
      "text/plain": [
       "<neo4j.BoltStatementResult at 0x1144ddf10>"
      ]
     },
     "execution_count": 9,
     "metadata": {},
     "output_type": "execute_result"
    }
   ],
   "source": [
    "delete_participant(a, 1)"
   ]
  },
  {
   "cell_type": "markdown",
   "metadata": {},
   "source": [
    "**COUNT**"
   ]
  },
  {
   "cell_type": "code",
   "execution_count": 10,
   "metadata": {},
   "outputs": [
    {
     "data": {
      "text/plain": [
       "1"
      ]
     },
     "execution_count": 10,
     "metadata": {},
     "output_type": "execute_result"
    }
   ],
   "source": [
    "a.make_req(\"match (n:Participant) RETURN count(n)\").single()[0]"
   ]
  },
  {
   "cell_type": "code",
   "execution_count": 11,
   "metadata": {},
   "outputs": [
    {
     "name": "stdout",
     "output_type": "stream",
     "text": [
      "1 0 adere белка (('белка', 'зебра', 'курица'), 'белка')\n",
      "1 1 anvugu корова (('белка', 'корова', 'зебра'), 'корова')\n",
      "1 2 akete зебра (('белка', 'корова', 'зебра'), 'зебра')\n",
      "1 3 apoktu курица (('корова', 'зебра', 'курица'), 'курица')\n",
      "1 4 askolte невеста (('белка', 'курица', 'невеста'), 'невеста')\n"
     ]
    }
   ],
   "source": [
    "add_participant(data, 1, uri, user, password)"
   ]
  },
  {
   "cell_type": "code",
   "execution_count": 12,
   "metadata": {},
   "outputs": [
    {
     "name": "stdout",
     "output_type": "stream",
     "text": [
      "Participant 1: 9 correct answers out of 20,\n",
      "Participant 2: 11 correct answers out of 20\n"
     ]
    }
   ],
   "source": [
    "r1 = a.make_req(\"MATCH p =(a)--(b)--(c) \\\n",
    "            WHERE a.id = b.p_id =  c.p_id = '1' AND c.answer = 'correct' \\\n",
    "            RETURN count(p)\").single()\n",
    "\n",
    "r2 = a.make_req(\"MATCH p =(a)--(b)--(c) \\\n",
    "            WHERE a.id = b.p_id =  c.p_id = '1' \\\n",
    "            RETURN count(p)\").single()\n",
    "\n",
    "r3 = a.make_req(\"MATCH p =(a)--(b)--(c) \\\n",
    "            WHERE a.id = b.p_id =  c.p_id = '2' AND c.answer = 'correct' \\\n",
    "            RETURN count(p)\").single()\n",
    "\n",
    "r4 = a.make_req(\"MATCH p =(a)--(b)--(c) \\\n",
    "            WHERE a.id = b.p_id =  c.p_id = '2' \\\n",
    "            RETURN count(p)\").single()\n",
    "\n",
    "print(f\"Participant 1: {r1[0]} correct answers out of {r2[0]},\\nParticipant 2: {r3[0]} correct answers out of {r4[0]}\")"
   ]
  },
  {
   "cell_type": "code",
   "execution_count": 13,
   "metadata": {},
   "outputs": [
    {
     "name": "stdout",
     "output_type": "stream",
     "text": [
      "Number of correct answers in the semantic test: 6\n",
      "Number of correct answers in all tests: 20\n"
     ]
    }
   ],
   "source": [
    "r0 = a.make_req(\"MATCH p=(n:Participant)-[r:stimul]-(x)-[r2:semantic_test]-(y) \\\n",
    "            WHERE y.answer='correct' \\\n",
    "           RETURN count(y)\").single()\n",
    "\n",
    "r1 = a.make_req(\"MATCH p=(n:Participant)-[r1]-(x)-[r2]-(y) \\\n",
    "            WHERE y.answer='correct' \\\n",
    "           RETURN count(y)\").single()\n",
    "\n",
    "print(\"Number of correct answers in the semantic test:\", r0[0])\n",
    "print(\"Number of correct answers in all tests:\", r1[0])"
   ]
  },
  {
   "cell_type": "markdown",
   "metadata": {},
   "source": [
    "**Return 3 nodes**"
   ]
  },
  {
   "cell_type": "code",
   "execution_count": 14,
   "metadata": {},
   "outputs": [
    {
     "data": {
      "text/plain": [
       "[[<Node id=71 labels={'afc'} properties={'a1': 'невеста', 'a2': 'курица', 's_id': '2_4', 'a3': 'белка', 'correct': 'белка', 'answer': 'correct', 'reaction_time': 1.9, 'p_id': '2'}>],\n",
       " [<Node id=282 labels={'afc'} properties={'a1': 'невеста', 'a2': 'зебра', 'a3': 'белка', 's_id': '2_1', 'correct': 'невеста', 'answer': 'correct', 'reaction_time': 0.9, 'p_id': '2'}>],\n",
       " [<Node id=66 labels={'afc'} properties={'a1': 'корова', 'a2': 'курица', 's_id': '2_0', 'a3': 'белка', 'correct': 'корова', 'answer': 'correct', 'reaction_time': 1.7, 'p_id': '2'}>],\n",
       " [<Node id=47 labels={'afc'} properties={'a1': 'корова', 'a2': 'невеста', 'a3': 'зебра', 's_id': '2_3', 'correct': 'зебра', 'answer': 'wrong', 'reaction_time': 0.9, 'p_id': '2'}>],\n",
       " [<Node id=320 labels={'afc'} properties={'a1': 'корова', 'a2': 'курица', 's_id': '2_2', 'a3': 'зебра', 'correct': 'курица', 'answer': 'correct', 'reaction_time': 3.1, 'p_id': '2'}>],\n",
       " [<Node id=103 labels={'afc'} properties={'a1': 'белка', 'a2': 'корова', 'a3': 'зебра', 's_id': '1_1', 'correct': 'корова', 'answer': 'wrong', 'reaction_time': 2.0, 'p_id': '1'}>],\n",
       " [<Node id=0 labels={'afc'} properties={'a1': 'белка', 'a2': 'курица', 'a3': 'невеста', 's_id': '1_4', 'correct': 'невеста', 'answer': 'wrong', 'reaction_time': 1.4, 'p_id': '1'}>],\n",
       " [<Node id=84 labels={'afc'} properties={'a1': 'белка', 'a2': 'зебра', 'a3': 'курица', 's_id': '1_0', 'correct': 'белка', 'answer': 'correct', 'reaction_time': 1.0, 'p_id': '1'}>],\n",
       " [<Node id=112 labels={'afc'} properties={'a1': 'белка', 'a2': 'корова', 'a3': 'зебра', 's_id': '1_2', 'correct': 'зебра', 'answer': 'correct', 'reaction_time': 3.3, 'p_id': '1'}>],\n",
       " [<Node id=128 labels={'afc'} properties={'a1': 'корова', 'a2': 'зебра', 'a3': 'курица', 's_id': '1_3', 'correct': 'курица', 'answer': 'correct', 'reaction_time': 0.6, 'p_id': '1'}>]]"
      ]
     },
     "execution_count": 14,
     "metadata": {},
     "output_type": "execute_result"
    }
   ],
   "source": [
    "a.make_req(\"MATCH (n:Participant)-[r1:stimul]-(x)-[r2:afc_test]-(y) \\\n",
    "            RETURN (y)\").values()"
   ]
  },
  {
   "cell_type": "code",
   "execution_count": 15,
   "metadata": {},
   "outputs": [
    {
     "data": {
      "text/plain": [
       "[['wrong'], ['wrong'], ['correct'], ['correct'], ['correct']]"
      ]
     },
     "execution_count": 15,
     "metadata": {},
     "output_type": "execute_result"
    }
   ],
   "source": [
    "a.make_req(\"MATCH (n:Participant {id: '1'})-[r1:stimul]-(x)-[r2:afc_test]-(y) \\\n",
    "            RETURN (y.answer)\").values()"
   ]
  },
  {
   "cell_type": "markdown",
   "metadata": {},
   "source": [
    "**AVG**"
   ]
  },
  {
   "cell_type": "code",
   "execution_count": 16,
   "metadata": {},
   "outputs": [
    {
     "name": "stdout",
     "output_type": "stream",
     "text": [
      "Average age of participants: 24.0\n",
      "\n",
      "AFC - average reaction time: 1.6800000000000002\n",
      "\n",
      "Semantic test - average reaction time: 2.16\n",
      "\n",
      "Recognition test - average reaction time: 1.6800000000000002\n"
     ]
    }
   ],
   "source": [
    "print(\"Average age of participants:\", a.make_req(\"MATCH (n:Participant) RETURN avg(n.age)\").single()[0])\n",
    "\n",
    "# Average reaction time of all participants in the alternative-force-choice-test\n",
    "\n",
    "r2 = a.make_req(\"MATCH (n:Participant)-[r1:stimul]-(x)-[r2:afc_test]-(y) RETURN avg(y.reaction_time)\").single()\n",
    "r3 = a.make_req(\"MATCH (n:Participant)-[r1:stimul]-(x)-[r2:semantic_test]-(y) RETURN avg(y.reaction_time)\").single()\n",
    "r4 = a.make_req(\"MATCH (n:Participant)-[r1:stimul]-(x)-[r2:recognition_test]-(y) RETURN avg(y.reaction_time)\").single()\n",
    "\n",
    "print(f\"\\nAFC - average reaction time: {r2[0]}\\n\\n\"\\\n",
    "      f\"Semantic test - average reaction time: {r3[0]}\\n\\n\" \\\n",
    "      f\"Recognition test - average reaction time: {r2[0]}\")"
   ]
  },
  {
   "cell_type": "markdown",
   "metadata": {},
   "source": [
    "**Collect**"
   ]
  },
  {
   "cell_type": "code",
   "execution_count": 17,
   "metadata": {},
   "outputs": [
    {
     "name": "stdout",
     "output_type": "stream",
     "text": [
      "AFC test: ['correct', 'correct', 'correct', 'wrong', 'correct', 'wrong', 'wrong', 'correct', 'correct', 'correct']\n"
     ]
    }
   ],
   "source": [
    "# Answers of all participants in the alternative-force-choice-test\n",
    "\n",
    "\n",
    "r1 = a.make_req(\"MATCH (n:Participant)-[r1:stimul]-(x)-[r2:afc_test]-(y) \\\n",
    "            RETURN collect(y.answer)\").single()\n",
    "\n",
    "print(f\"AFC test: {r1[0]}\")"
   ]
  },
  {
   "cell_type": "code",
   "execution_count": 18,
   "metadata": {},
   "outputs": [
    {
     "name": "stdout",
     "output_type": "stream",
     "text": [
      "Semantic test - average reaction time to distinct words:\n",
      "akete - 2.95,\n",
      "askolte - 2.8\n"
     ]
    }
   ],
   "source": [
    "akete = a.make_req(\"MATCH (n:Participant)-[r1:stimul]-(x {word: 'akete'})-[r2:semantic_test]-(y) RETURN avg(y.reaction_time)\").single()\n",
    "askolte = a.make_req(\"MATCH (n:Participant)-[r1:stimul]-(x {word: 'askolte'})-[r2:semantic_test]-(y) RETURN avg(y.reaction_time)\").single()\n",
    "\n",
    "print(f\"Semantic test - average reaction time to distinct words:\\nakete - {akete[0]},\\naskolte - {askolte[0]}\")"
   ]
  },
  {
   "cell_type": "markdown",
   "metadata": {},
   "source": [
    "**MIN**"
   ]
  },
  {
   "cell_type": "code",
   "execution_count": 19,
   "metadata": {},
   "outputs": [
    {
     "name": "stdout",
     "output_type": "stream",
     "text": [
      "Semantic test - minimal reaction time:\n",
      "Participant 1 - 0.5,\n",
      "Participant 2 - 1.5\n"
     ]
    }
   ],
   "source": [
    "r1 = a.make_req(\"MATCH (n:Participant {id: '1'})-[r1:stimul]-(x)-[r2:semantic_test]-(y) RETURN min(y.reaction_time)\").single()\n",
    "r2 = a.make_req(\"MATCH (n:Participant {id: '2'})-[r1:stimul]-(x)-[r2:semantic_test]-(y) RETURN min(y.reaction_time)\").single()\n",
    "\n",
    "print(f\"Semantic test - minimal reaction time:\\nParticipant 1 - {r1[0]},\\nParticipant 2 - {r2[0]}\")"
   ]
  },
  {
   "cell_type": "markdown",
   "metadata": {},
   "source": [
    "**MAX**"
   ]
  },
  {
   "cell_type": "code",
   "execution_count": 20,
   "metadata": {},
   "outputs": [
    {
     "name": "stdout",
     "output_type": "stream",
     "text": [
      "Semantic test - maximal reaction time:\n",
      "Participant 1 - 3.1,\n",
      "Participant 2 - 3.3\n"
     ]
    }
   ],
   "source": [
    "r1 = a.make_req(\"MATCH (n:Participant {id: '1'})-[r1:stimul]-(x)-[r2:semantic_test]-(y) RETURN max(y.reaction_time)\").single()\n",
    "r2 = a.make_req(\"MATCH (n:Participant {id: '2'})-[r1:stimul]-(x)-[r2:semantic_test]-(y) RETURN max(y.reaction_time)\").single()\n",
    "\n",
    "print(f\"Semantic test - maximal reaction time:\\nParticipant 1 - {r1[0]},\\nParticipant 2 - {r2[0]}\")"
   ]
  },
  {
   "cell_type": "markdown",
   "metadata": {},
   "source": [
    "**ANY**"
   ]
  },
  {
   "cell_type": "code",
   "execution_count": 21,
   "metadata": {},
   "outputs": [
    {
     "name": "stdout",
     "output_type": "stream",
     "text": [
      "Words with correct answers in the semantic test:\n",
      " [['2', 'askolte', 'correct'], ['2', 'anvugu', 'correct'], ['2', 'adere', 'correct'], ['2', 'akete', 'correct'], ['1', 'anvugu', 'correct'], ['1', 'akete', 'correct']]\n"
     ]
    }
   ],
   "source": [
    "r1 = a.make_req(\"MATCH p=(n:Participant)-[r:stimul]-(x)-[r2:semantic_test]-(y) \\\n",
    "            WHERE ANY (k in nodes (p) WHERE k.answer='correct') \\\n",
    "           RETURN n.id, x.word, y.answer\").values()\n",
    "\n",
    "print(\"Words with correct answers in the semantic test:\\n\", r1)"
   ]
  },
  {
   "cell_type": "code",
   "execution_count": 22,
   "metadata": {},
   "outputs": [
    {
     "name": "stdout",
     "output_type": "stream",
     "text": [
      "Words with correct answers in the semantic test:\n",
      " []\n",
      "Words with wrong answers in the semantic test:\n",
      " [['2', 'askolte', 'wrong'], ['2', 'anvugu', 'wrong'], ['2', 'adere', 'wrong'], ['2', 'apoktu', 'wrong'], ['2', 'akete', 'wrong'], ['1', 'anvugu', 'wrong'], ['1', 'askolte', 'wrong'], ['1', 'adere', 'wrong'], ['1', 'akete', 'wrong'], ['1', 'apoktu', 'wrong']]\n"
     ]
    }
   ],
   "source": [
    "# make all the answers in semantic test wrong and check\n",
    "\n",
    "r1 = a.make_req(\"MATCH p=(n:Participant)-[r:stimul]-(x)-[r2:semantic_test]-(y) \\\n",
    "            WHERE ANY (k in nodes (p) WHERE k.answer='correct') \\\n",
    "           SET y.answer='wrong'\") # SET = UPDATE\n",
    "\n",
    "r2 = a.make_req(\"MATCH p=(n:Participant)-[r:stimul]-(x)-[r2:semantic_test]-(y) \\\n",
    "            WHERE ANY (k in nodes (p) WHERE k.answer='correct') \\\n",
    "           RETURN n.id, x.word, y.answer\").values()\n",
    "\n",
    "r3 = a.make_req(\"MATCH p=(n:Participant)-[r:stimul]-(x)-[r2:semantic_test]-(y) \\\n",
    "            WHERE ANY (k in nodes (p) WHERE k.answer='wrong') \\\n",
    "           RETURN n.id, x.word, y.answer\").values()\n",
    "\n",
    "print(\"Words with correct answers in the semantic test:\\n\", r2)\n",
    "print(\"Words with wrong answers in the semantic test:\\n\", r3)"
   ]
  },
  {
   "cell_type": "markdown",
   "metadata": {},
   "source": [
    "**NONE**"
   ]
  },
  {
   "cell_type": "code",
   "execution_count": 23,
   "metadata": {},
   "outputs": [
    {
     "data": {
      "text/plain": [
       "[['2', 'correct', 1.4],\n",
       " ['2', 'correct', 1.9],\n",
       " ['2', 'correct', 0.9],\n",
       " ['2', 'correct', 1.7],\n",
       " ['2', 'correct', 1.5],\n",
       " ['2', 'correct', 3.4],\n",
       " ['2', 'correct', 3.1],\n",
       " ['1', 'correct', 3.0],\n",
       " ['1', 'correct', 0.7],\n",
       " ['1', 'correct', 0.6],\n",
       " ['1', 'correct', 1.0],\n",
       " ['1', 'correct', 3.3],\n",
       " ['1', 'correct', 2.4],\n",
       " ['1', 'correct', 0.6]]"
      ]
     },
     "execution_count": 23,
     "metadata": {},
     "output_type": "execute_result"
    }
   ],
   "source": [
    "r1 = a.make_req(\"MATCH p=(n:Participant)-[]-()-[]-(y) \\\n",
    "            WHERE NONE (k in nodes (p) WHERE y.answer =  'wrong') \\\n",
    "           RETURN n.id, y.answer, y.reaction_time\").values()\n",
    "\n",
    "r1"
   ]
  },
  {
   "cell_type": "markdown",
   "metadata": {},
   "source": [
    "**OPERATORS**"
   ]
  },
  {
   "cell_type": "code",
   "execution_count": 24,
   "metadata": {},
   "outputs": [
    {
     "name": "stdout",
     "output_type": "stream",
     "text": [
      "Words with reaction time < 1 sec:\n",
      "[['1', 'anvugu', 'wrong', 0.5], ['1', 'adere', 'wrong', 0.5]]\n"
     ]
    }
   ],
   "source": [
    "r1 = a.make_req(\"MATCH p=(n:Participant)-[r:stimul]-(x)-[r2:semantic_test]-(y) \\\n",
    "            WHERE ANY (k in nodes (p) WHERE k.reaction_time < 1) \\\n",
    "           RETURN n.id, x.word, y.answer, y.reaction_time\").values()\n",
    "\n",
    "print(f\"Words with reaction time < 1 sec:\\n{r1}\")"
   ]
  },
  {
   "cell_type": "code",
   "execution_count": 25,
   "metadata": {},
   "outputs": [
    {
     "name": "stdout",
     "output_type": "stream",
     "text": [
      "Words with reaction time > 3 sec:\n",
      "[['2', 'akete', 'wrong', 3.3], ['1', 'apoktu', 'wrong', 3.1]]\n"
     ]
    }
   ],
   "source": [
    "r1 = a.make_req(\"MATCH p=(n:Participant)-[r:stimul]-(x)-[r2:semantic_test]-(y) \\\n",
    "            WHERE ANY (k in nodes (p) WHERE k.reaction_time > 3) \\\n",
    "           RETURN n.id, x.word, y.answer, y.reaction_time\").values()\n",
    "\n",
    "print(f\"Words with reaction time > 3 sec:\\n{r1}\")"
   ]
  },
  {
   "cell_type": "markdown",
   "metadata": {},
   "source": [
    "**What else can I do?**"
   ]
  },
  {
   "cell_type": "code",
   "execution_count": 26,
   "metadata": {},
   "outputs": [
    {
     "data": {
      "text/plain": [
       "[[['semantics']],\n",
       " [['L1']],\n",
       " [['afc']],\n",
       " [['recognition']],\n",
       " [['semantics']],\n",
       " [['L1']],\n",
       " [['afc']],\n",
       " [['recognition']],\n",
       " [['L1']],\n",
       " [['afc']],\n",
       " [['recognition']],\n",
       " [['semantics']],\n",
       " [['semantics']],\n",
       " [['L1']],\n",
       " [['afc']],\n",
       " [['recognition']],\n",
       " [['semantics']],\n",
       " [['L1']],\n",
       " [['afc']],\n",
       " [['recognition']]]"
      ]
     },
     "execution_count": 26,
     "metadata": {},
     "output_type": "execute_result"
    }
   ],
   "source": [
    "a.make_req(\"MATCH p =(a)--(b)--(c) \\\n",
    "            WHERE a.id = b.p_id =  c.p_id = '2' \\\n",
    "            RETURN labels(c)\").values()"
   ]
  },
  {
   "cell_type": "code",
   "execution_count": 27,
   "metadata": {},
   "outputs": [
    {
     "data": {
      "text/plain": [
       "[[[<Relationship id=0 nodes=(<Node id=285 labels=set() properties={}>, <Node id=57 labels=set() properties={}>) type='stimul' properties={}>,\n",
       "   <Relationship id=16 nodes=(<Node id=285 labels=set() properties={}>, <Node id=29 labels=set() properties={}>) type='semantic_test' properties={}>]],\n",
       " [[<Relationship id=303 nodes=(<Node id=30 labels=set() properties={}>, <Node id=57 labels=set() properties={}>) type='stimul' properties={}>,\n",
       "   <Relationship id=1 nodes=(<Node id=30 labels=set() properties={}>, <Node id=46 labels=set() properties={}>) type='translate' properties={}>]],\n",
       " [[<Relationship id=303 nodes=(<Node id=30 labels=set() properties={}>, <Node id=57 labels=set() properties={}>) type='stimul' properties={}>,\n",
       "   <Relationship id=6 nodes=(<Node id=30 labels=set() properties={}>, <Node id=47 labels=set() properties={}>) type='afc_test' properties={}>]],\n",
       " [[<Relationship id=303 nodes=(<Node id=30 labels=set() properties={}>, <Node id=57 labels=set() properties={}>) type='stimul' properties={}>,\n",
       "   <Relationship id=11 nodes=(<Node id=30 labels=set() properties={}>, <Node id=48 labels=set() properties={}>) type='recognition_test' properties={}>]]]"
      ]
     },
     "execution_count": 27,
     "metadata": {},
     "output_type": "execute_result"
    }
   ],
   "source": [
    "a.make_req(\"MATCH p =(a)--(b)--(c) \\\n",
    "            WHERE a.id = b.p_id =  c.p_id = '2' \\\n",
    "            RETURN relationships(p)\").values()[:4]"
   ]
  },
  {
   "cell_type": "code",
   "execution_count": null,
   "metadata": {},
   "outputs": [],
   "source": []
  }
 ],
 "metadata": {
  "kernelspec": {
   "display_name": "Python 3",
   "language": "python",
   "name": "python3"
  },
  "language_info": {
   "codemirror_mode": {
    "name": "ipython",
    "version": 3
   },
   "file_extension": ".py",
   "mimetype": "text/x-python",
   "name": "python",
   "nbconvert_exporter": "python",
   "pygments_lexer": "ipython3",
   "version": "3.7.4"
  }
 },
 "nbformat": 4,
 "nbformat_minor": 2
}
