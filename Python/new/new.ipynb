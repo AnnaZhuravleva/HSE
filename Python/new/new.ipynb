{
 "cells": [
  {
   "cell_type": "markdown",
   "metadata": {},
   "source": [
    "The difference between methods __new__() and __init__()\n",
    "\n",
    "The major difference between these two methods is that __new__ handles object creation and __init__ handles object initialization.\n",
    "\n",
    "The __new__() method creates the object of the class \"cls\"\n",
    "The __init__() method just inizialises the class, which already exists"
   ]
  },
  {
   "cell_type": "code",
   "execution_count": 7,
   "metadata": {},
   "outputs": [
    {
     "name": "stdout",
     "output_type": "stream",
     "text": [
      "created object <__main__.A object at 0x0000027BF5AE1C50>\n",
      "initing object <__main__.A object at 0x0000027BF5AE1C50>\n"
     ]
    },
    {
     "data": {
      "text/plain": [
       "<__main__.A at 0x27bf5ae1c50>"
      ]
     },
     "execution_count": 7,
     "metadata": {},
     "output_type": "execute_result"
    }
   ],
   "source": [
    "class A(object):\n",
    "    def __new__(cls, *args, **kwargs):\n",
    "        obj = super(A, cls).__new__(cls)\n",
    "        print ('created object', obj)\n",
    "        return obj\n",
    "    def __init__(self):\n",
    "        print ('initing object', self)\n",
    "A()        "
   ]
  },
  {
   "cell_type": "markdown",
   "metadata": {},
   "source": [
    "The first parameter of __new__() is cls rather then self:\n",
    "the instance object has not been created yet and actually does not exist while the __new__() is calling, using self inside __new__() makes no sense."
   ]
  },
  {
   "cell_type": "code",
   "execution_count": 18,
   "metadata": {},
   "outputs": [
    {
     "name": "stdout",
     "output_type": "stream",
     "text": [
      "23\n",
      "hohoho\n"
     ]
    }
   ],
   "source": [
    "class x(int):\n",
    "    def __new__(cls, number, word):\n",
    "        self = int.__new__(cls, number)\n",
    "        return self\n",
    "    def __init__(self, number, word):\n",
    "        self.word = word\n",
    "a = x(23, 'hohoho')\n",
    "print (a)\n",
    "print (a.word)"
   ]
  },
  {
   "cell_type": "code",
   "execution_count": null,
   "metadata": {
    "collapsed": true
   },
   "outputs": [],
   "source": []
  }
 ],
 "metadata": {
  "kernelspec": {
   "display_name": "Python 3",
   "language": "python",
   "name": "python3"
  },
  "language_info": {
   "codemirror_mode": {
    "name": "ipython",
    "version": 3
   },
   "file_extension": ".py",
   "mimetype": "text/x-python",
   "name": "python",
   "nbconvert_exporter": "python",
   "pygments_lexer": "ipython3",
   "version": "3.6.3"
  }
 },
 "nbformat": 4,
 "nbformat_minor": 2
}
